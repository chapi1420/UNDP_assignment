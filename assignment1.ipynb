{
  "cells": [
    {
      "cell_type": "markdown",
      "metadata": {
        "id": "ve129psyuUd7"
      },
      "source": [
        "## List all built-in Seaborn datasets"
      ]
    },
    {
      "cell_type": "code",
      "execution_count": 1,
      "metadata": {
        "colab": {
          "base_uri": "https://localhost:8080/"
        },
        "id": "CVj1bK9P4J0W",
        "outputId": "d70ef0c8-5c25-4d83-c0a9-e680c9e9689f"
      },
      "outputs": [
        {
          "data": {
            "text/plain": [
              "['anagrams',\n",
              " 'anscombe',\n",
              " 'attention',\n",
              " 'brain_networks',\n",
              " 'car_crashes',\n",
              " 'diamonds',\n",
              " 'dots',\n",
              " 'dowjones',\n",
              " 'exercise',\n",
              " 'flights',\n",
              " 'fmri',\n",
              " 'geyser',\n",
              " 'glue',\n",
              " 'healthexp',\n",
              " 'iris',\n",
              " 'mpg',\n",
              " 'penguins',\n",
              " 'planets',\n",
              " 'seaice',\n",
              " 'taxis',\n",
              " 'tips',\n",
              " 'titanic']"
            ]
          },
          "execution_count": 1,
          "metadata": {},
          "output_type": "execute_result"
        }
      ],
      "source": [
        "import seaborn as sns\n",
        "\n",
        "# List all built-in Seaborn datasets\n",
        "sns.get_dataset_names()"
      ]
    },
    {
      "cell_type": "markdown",
      "metadata": {
        "id": "pVd79vF84cMg"
      },
      "source": [
        "#EDA Pipeline on Titanic Dataset\n",
        "##Install Libraries"
      ]
    },
    {
      "cell_type": "code",
      "execution_count": 2,
      "metadata": {
        "id": "3Bsb-XCswuXg"
      },
      "outputs": [],
      "source": [
        "#!pip uninstall -y numpy\n",
        "#!pip install --upgrade numpy\n",
        "#!pip install --upgrade --force-reinstall missingno shap umap-learn dowhy pandas-profiling\n",
        "#import numpy as np\n",
        "#print(np.__version__)  # Check if NumPy is properly installed\n",
        "#!pip install missingno shap umap-learn dowhy pandas-profiling"
      ]
    },
    {
      "cell_type": "markdown",
      "metadata": {
        "id": "_oVsBkVh4opE"
      },
      "source": [
        "#Import Libraries"
      ]
    },
    {
      "cell_type": "code",
      "execution_count": 3,
      "metadata": {
        "id": "usnCDnMjuV5O"
      },
      "outputs": [
        {
          "name": "stderr",
          "output_type": "stream",
          "text": [
            "/home/nahomnadew/Desktop/FTL/assignment/seth/.venv/lib/python3.12/site-packages/tqdm/auto.py:21: TqdmWarning: IProgress not found. Please update jupyter and ipywidgets. See https://ipywidgets.readthedocs.io/en/stable/user_install.html\n",
            "  from .autonotebook import tqdm as notebook_tqdm\n"
          ]
        }
      ],
      "source": [
        "# Import core libraries for data handling and analysis\n",
        "import pandas as pd  # For handling datasets in tabular format\n",
        "import numpy as np  # For numerical computations\n",
        "\n",
        "# Import libraries for visualization\n",
        "import matplotlib.pyplot as plt  # Basic plotting library\n",
        "import seaborn as sns  # Advanced statistical visualizations\n",
        "import missingno as msno  # For visualizing missing values\n",
        "\n",
        "# Import preprocessing utilities\n",
        "from sklearn.preprocessing import StandardScaler, OneHotEncoder  # For scaling and encoding data\n",
        "from sklearn.impute import SimpleImputer  # For handling missing values\n",
        "\n",
        "# Import dimensionality reduction techniques\n",
        "from sklearn.decomposition import PCA  # Principal Component Analysis (PCA)\n",
        "\n",
        "# Import machine learning models and outlier detection\n",
        "from sklearn.ensemble import IsolationForest, RandomForestClassifier  # Outlier detection & feature importance\n",
        "\n",
        "# Import SHAP for explainability and feature importance analysis\n",
        "import shap\n",
        "\n",
        "# Import UMAP for non-linear dimensionality reduction\n",
        "import umap\n",
        "\n",
        "# Import DoWhy for causal inference analysis\n",
        "from dowhy import CausalModel\n",
        "import warnings\n",
        "\n",
        "# Suppress all warnings, including FutureWarnings\n",
        "warnings.simplefilter(action='ignore', category=FutureWarning)\n",
        "\n",
        "# Suppress all warnings (including SettingWithCopyWarning and FutureWarning)\n",
        "warnings.simplefilter(action='ignore')\n",
        "\n"
      ]
    },
    {
      "cell_type": "code",
      "execution_count": 4,
      "metadata": {},
      "outputs": [
        {
          "name": "stdout",
          "output_type": "stream",
          "text": [
            "2.1.3\n"
          ]
        }
      ],
      "source": [
        "import numpy as np\n",
        "\n",
        "# Check if NumPy is properly installed\n",
        "print(np.__version__)  # This will print the version of NumPy installed"
      ]
    },
    {
      "cell_type": "code",
      "execution_count": 5,
      "metadata": {},
      "outputs": [
        {
          "name": "stdout",
          "output_type": "stream",
          "text": [
            "Collecting numpy==1.19.5\n",
            "  Using cached numpy-1.19.5.zip (7.3 MB)\n",
            "  Installing build dependencies ... \u001b[?25ldone\n",
            "\u001b[?25h  Getting requirements to build wheel ... \u001b[?25ldone\n",
            "\u001b[?25h\u001b[31mERROR: Exception:\n",
            "Traceback (most recent call last):\n",
            "  File \"/home/nahomnadew/Desktop/FTL/assignment/seth/.venv/lib/python3.12/site-packages/pip/_internal/cli/base_command.py\", line 106, in _run_wrapper\n",
            "    status = _inner_run()\n",
            "             ^^^^^^^^^^^^\n",
            "  File \"/home/nahomnadew/Desktop/FTL/assignment/seth/.venv/lib/python3.12/site-packages/pip/_internal/cli/base_command.py\", line 97, in _inner_run\n",
            "    return self.run(options, args)\n",
            "           ^^^^^^^^^^^^^^^^^^^^^^^\n",
            "  File \"/home/nahomnadew/Desktop/FTL/assignment/seth/.venv/lib/python3.12/site-packages/pip/_internal/cli/req_command.py\", line 67, in wrapper\n",
            "    return func(self, options, args)\n",
            "           ^^^^^^^^^^^^^^^^^^^^^^^^^\n",
            "  File \"/home/nahomnadew/Desktop/FTL/assignment/seth/.venv/lib/python3.12/site-packages/pip/_internal/commands/install.py\", line 386, in run\n",
            "    requirement_set = resolver.resolve(\n",
            "                      ^^^^^^^^^^^^^^^^^\n",
            "  File \"/home/nahomnadew/Desktop/FTL/assignment/seth/.venv/lib/python3.12/site-packages/pip/_internal/resolution/resolvelib/resolver.py\", line 95, in resolve\n",
            "    result = self._result = resolver.resolve(\n",
            "                            ^^^^^^^^^^^^^^^^^\n",
            "  File \"/home/nahomnadew/Desktop/FTL/assignment/seth/.venv/lib/python3.12/site-packages/pip/_vendor/resolvelib/resolvers.py\", line 546, in resolve\n",
            "    state = resolution.resolve(requirements, max_rounds=max_rounds)\n",
            "            ^^^^^^^^^^^^^^^^^^^^^^^^^^^^^^^^^^^^^^^^^^^^^^^^^^^^^^^\n",
            "  File \"/home/nahomnadew/Desktop/FTL/assignment/seth/.venv/lib/python3.12/site-packages/pip/_vendor/resolvelib/resolvers.py\", line 397, in resolve\n",
            "    self._add_to_criteria(self.state.criteria, r, parent=None)\n",
            "  File \"/home/nahomnadew/Desktop/FTL/assignment/seth/.venv/lib/python3.12/site-packages/pip/_vendor/resolvelib/resolvers.py\", line 173, in _add_to_criteria\n",
            "    if not criterion.candidates:\n",
            "           ^^^^^^^^^^^^^^^^^^^^\n",
            "  File \"/home/nahomnadew/Desktop/FTL/assignment/seth/.venv/lib/python3.12/site-packages/pip/_vendor/resolvelib/structs.py\", line 156, in __bool__\n",
            "    return bool(self._sequence)\n",
            "           ^^^^^^^^^^^^^^^^^^^^\n",
            "  File \"/home/nahomnadew/Desktop/FTL/assignment/seth/.venv/lib/python3.12/site-packages/pip/_internal/resolution/resolvelib/found_candidates.py\", line 174, in __bool__\n",
            "    return any(self)\n",
            "           ^^^^^^^^^\n",
            "  File \"/home/nahomnadew/Desktop/FTL/assignment/seth/.venv/lib/python3.12/site-packages/pip/_internal/resolution/resolvelib/found_candidates.py\", line 162, in <genexpr>\n",
            "    return (c for c in iterator if id(c) not in self._incompatible_ids)\n",
            "           ^^^^^^^^^^^^^^^^^^^^^^^^^^^^^^^^^^^^^^^^^^^^^^^^^^^^^^^^^^^^\n",
            "  File \"/home/nahomnadew/Desktop/FTL/assignment/seth/.venv/lib/python3.12/site-packages/pip/_internal/resolution/resolvelib/found_candidates.py\", line 53, in _iter_built\n",
            "    candidate = func()\n",
            "                ^^^^^^\n",
            "  File \"/home/nahomnadew/Desktop/FTL/assignment/seth/.venv/lib/python3.12/site-packages/pip/_internal/resolution/resolvelib/factory.py\", line 187, in _make_candidate_from_link\n",
            "    base: Optional[BaseCandidate] = self._make_base_candidate_from_link(\n",
            "                                    ^^^^^^^^^^^^^^^^^^^^^^^^^^^^^^^^^^^^\n",
            "  File \"/home/nahomnadew/Desktop/FTL/assignment/seth/.venv/lib/python3.12/site-packages/pip/_internal/resolution/resolvelib/factory.py\", line 233, in _make_base_candidate_from_link\n",
            "    self._link_candidate_cache[link] = LinkCandidate(\n",
            "                                       ^^^^^^^^^^^^^^\n",
            "  File \"/home/nahomnadew/Desktop/FTL/assignment/seth/.venv/lib/python3.12/site-packages/pip/_internal/resolution/resolvelib/candidates.py\", line 304, in __init__\n",
            "    super().__init__(\n",
            "  File \"/home/nahomnadew/Desktop/FTL/assignment/seth/.venv/lib/python3.12/site-packages/pip/_internal/resolution/resolvelib/candidates.py\", line 159, in __init__\n",
            "    self.dist = self._prepare()\n",
            "                ^^^^^^^^^^^^^^^\n",
            "  File \"/home/nahomnadew/Desktop/FTL/assignment/seth/.venv/lib/python3.12/site-packages/pip/_internal/resolution/resolvelib/candidates.py\", line 236, in _prepare\n",
            "    dist = self._prepare_distribution()\n",
            "           ^^^^^^^^^^^^^^^^^^^^^^^^^^^^\n",
            "  File \"/home/nahomnadew/Desktop/FTL/assignment/seth/.venv/lib/python3.12/site-packages/pip/_internal/resolution/resolvelib/candidates.py\", line 315, in _prepare_distribution\n",
            "    return preparer.prepare_linked_requirement(self._ireq, parallel_builds=True)\n",
            "           ^^^^^^^^^^^^^^^^^^^^^^^^^^^^^^^^^^^^^^^^^^^^^^^^^^^^^^^^^^^^^^^^^^^^^\n",
            "  File \"/home/nahomnadew/Desktop/FTL/assignment/seth/.venv/lib/python3.12/site-packages/pip/_internal/operations/prepare.py\", line 527, in prepare_linked_requirement\n",
            "    return self._prepare_linked_requirement(req, parallel_builds)\n",
            "           ^^^^^^^^^^^^^^^^^^^^^^^^^^^^^^^^^^^^^^^^^^^^^^^^^^^^^^\n",
            "  File \"/home/nahomnadew/Desktop/FTL/assignment/seth/.venv/lib/python3.12/site-packages/pip/_internal/operations/prepare.py\", line 642, in _prepare_linked_requirement\n",
            "    dist = _get_prepared_distribution(\n",
            "           ^^^^^^^^^^^^^^^^^^^^^^^^^^^\n",
            "  File \"/home/nahomnadew/Desktop/FTL/assignment/seth/.venv/lib/python3.12/site-packages/pip/_internal/operations/prepare.py\", line 72, in _get_prepared_distribution\n",
            "    abstract_dist.prepare_distribution_metadata(\n",
            "  File \"/home/nahomnadew/Desktop/FTL/assignment/seth/.venv/lib/python3.12/site-packages/pip/_internal/distributions/sdist.py\", line 56, in prepare_distribution_metadata\n",
            "    self._install_build_reqs(finder)\n",
            "  File \"/home/nahomnadew/Desktop/FTL/assignment/seth/.venv/lib/python3.12/site-packages/pip/_internal/distributions/sdist.py\", line 126, in _install_build_reqs\n",
            "    build_reqs = self._get_build_requires_wheel()\n",
            "                 ^^^^^^^^^^^^^^^^^^^^^^^^^^^^^^^^\n",
            "  File \"/home/nahomnadew/Desktop/FTL/assignment/seth/.venv/lib/python3.12/site-packages/pip/_internal/distributions/sdist.py\", line 103, in _get_build_requires_wheel\n",
            "    return backend.get_requires_for_build_wheel()\n",
            "           ^^^^^^^^^^^^^^^^^^^^^^^^^^^^^^^^^^^^^^\n",
            "  File \"/home/nahomnadew/Desktop/FTL/assignment/seth/.venv/lib/python3.12/site-packages/pip/_internal/utils/misc.py\", line 702, in get_requires_for_build_wheel\n",
            "    return super().get_requires_for_build_wheel(config_settings=cs)\n",
            "           ^^^^^^^^^^^^^^^^^^^^^^^^^^^^^^^^^^^^^^^^^^^^^^^^^^^^^^^^\n",
            "  File \"/home/nahomnadew/Desktop/FTL/assignment/seth/.venv/lib/python3.12/site-packages/pip/_vendor/pyproject_hooks/_impl.py\", line 196, in get_requires_for_build_wheel\n",
            "    return self._call_hook(\n",
            "           ^^^^^^^^^^^^^^^^\n",
            "  File \"/home/nahomnadew/Desktop/FTL/assignment/seth/.venv/lib/python3.12/site-packages/pip/_vendor/pyproject_hooks/_impl.py\", line 402, in _call_hook\n",
            "    raise BackendUnavailable(\n",
            "pip._vendor.pyproject_hooks._impl.BackendUnavailable: Cannot import 'setuptools.build_meta'\u001b[0m\u001b[31m\n",
            "\u001b[0m2.1.3\n"
          ]
        }
      ],
      "source": [
        "import numpy as np\n",
        "\n",
        "!pip install numpy==1.19.5\n",
        "\n",
        "# Check if NumPy is properly installed\n",
        "print(np.__version__)  # This will print the version of NumPy installed"
      ]
    },
    {
      "cell_type": "code",
      "execution_count": null,
      "metadata": {},
      "outputs": [],
      "source": []
    },
    {
      "cell_type": "markdown",
      "metadata": {
        "id": "u4tGFIYvueMS"
      },
      "source": [
        "2️⃣ Load & Inspect Titanic Dataset\n",
        "### a)Load Dataset"
      ]
    },
    {
      "cell_type": "code",
      "execution_count": 6,
      "metadata": {
        "colab": {
          "base_uri": "https://localhost:8080/",
          "height": 423
        },
        "id": "nIMTOEa20JYt",
        "outputId": "af662e0c-cf90-4ec3-99e3-085f0065be97"
      },
      "outputs": [],
      "source": [
        "import pandas as pd\n",
        "import seaborn as sns\n",
        "\n",
        "# Load Titanic dataset\n",
        "df = sns.load_dataset(\"titanic\")"
      ]
    },
    {
      "cell_type": "markdown",
      "metadata": {
        "id": "fN5HqqoZ5-gr"
      },
      "source": [
        "### b) Head"
      ]
    },
    {
      "cell_type": "code",
      "execution_count": 7,
      "metadata": {
        "colab": {
          "base_uri": "https://localhost:8080/",
          "height": 206
        },
        "id": "nBARLtl30VRy",
        "outputId": "72aba1a4-a4ed-4a76-8a92-8de5f3e13f47"
      },
      "outputs": [
        {
          "data": {
            "text/html": [
              "<div>\n",
              "<style scoped>\n",
              "    .dataframe tbody tr th:only-of-type {\n",
              "        vertical-align: middle;\n",
              "    }\n",
              "\n",
              "    .dataframe tbody tr th {\n",
              "        vertical-align: top;\n",
              "    }\n",
              "\n",
              "    .dataframe thead th {\n",
              "        text-align: right;\n",
              "    }\n",
              "</style>\n",
              "<table border=\"1\" class=\"dataframe\">\n",
              "  <thead>\n",
              "    <tr style=\"text-align: right;\">\n",
              "      <th></th>\n",
              "      <th>survived</th>\n",
              "      <th>pclass</th>\n",
              "      <th>sex</th>\n",
              "      <th>age</th>\n",
              "      <th>sibsp</th>\n",
              "      <th>parch</th>\n",
              "      <th>fare</th>\n",
              "      <th>embarked</th>\n",
              "      <th>class</th>\n",
              "      <th>who</th>\n",
              "      <th>adult_male</th>\n",
              "      <th>deck</th>\n",
              "      <th>embark_town</th>\n",
              "      <th>alive</th>\n",
              "      <th>alone</th>\n",
              "    </tr>\n",
              "  </thead>\n",
              "  <tbody>\n",
              "    <tr>\n",
              "      <th>0</th>\n",
              "      <td>0</td>\n",
              "      <td>3</td>\n",
              "      <td>male</td>\n",
              "      <td>22.0</td>\n",
              "      <td>1</td>\n",
              "      <td>0</td>\n",
              "      <td>7.2500</td>\n",
              "      <td>S</td>\n",
              "      <td>Third</td>\n",
              "      <td>man</td>\n",
              "      <td>True</td>\n",
              "      <td>NaN</td>\n",
              "      <td>Southampton</td>\n",
              "      <td>no</td>\n",
              "      <td>False</td>\n",
              "    </tr>\n",
              "    <tr>\n",
              "      <th>1</th>\n",
              "      <td>1</td>\n",
              "      <td>1</td>\n",
              "      <td>female</td>\n",
              "      <td>38.0</td>\n",
              "      <td>1</td>\n",
              "      <td>0</td>\n",
              "      <td>71.2833</td>\n",
              "      <td>C</td>\n",
              "      <td>First</td>\n",
              "      <td>woman</td>\n",
              "      <td>False</td>\n",
              "      <td>C</td>\n",
              "      <td>Cherbourg</td>\n",
              "      <td>yes</td>\n",
              "      <td>False</td>\n",
              "    </tr>\n",
              "    <tr>\n",
              "      <th>2</th>\n",
              "      <td>1</td>\n",
              "      <td>3</td>\n",
              "      <td>female</td>\n",
              "      <td>26.0</td>\n",
              "      <td>0</td>\n",
              "      <td>0</td>\n",
              "      <td>7.9250</td>\n",
              "      <td>S</td>\n",
              "      <td>Third</td>\n",
              "      <td>woman</td>\n",
              "      <td>False</td>\n",
              "      <td>NaN</td>\n",
              "      <td>Southampton</td>\n",
              "      <td>yes</td>\n",
              "      <td>True</td>\n",
              "    </tr>\n",
              "    <tr>\n",
              "      <th>3</th>\n",
              "      <td>1</td>\n",
              "      <td>1</td>\n",
              "      <td>female</td>\n",
              "      <td>35.0</td>\n",
              "      <td>1</td>\n",
              "      <td>0</td>\n",
              "      <td>53.1000</td>\n",
              "      <td>S</td>\n",
              "      <td>First</td>\n",
              "      <td>woman</td>\n",
              "      <td>False</td>\n",
              "      <td>C</td>\n",
              "      <td>Southampton</td>\n",
              "      <td>yes</td>\n",
              "      <td>False</td>\n",
              "    </tr>\n",
              "    <tr>\n",
              "      <th>4</th>\n",
              "      <td>0</td>\n",
              "      <td>3</td>\n",
              "      <td>male</td>\n",
              "      <td>35.0</td>\n",
              "      <td>0</td>\n",
              "      <td>0</td>\n",
              "      <td>8.0500</td>\n",
              "      <td>S</td>\n",
              "      <td>Third</td>\n",
              "      <td>man</td>\n",
              "      <td>True</td>\n",
              "      <td>NaN</td>\n",
              "      <td>Southampton</td>\n",
              "      <td>no</td>\n",
              "      <td>True</td>\n",
              "    </tr>\n",
              "  </tbody>\n",
              "</table>\n",
              "</div>"
            ],
            "text/plain": [
              "   survived  pclass     sex   age  sibsp  parch     fare embarked  class  \\\n",
              "0         0       3    male  22.0      1      0   7.2500        S  Third   \n",
              "1         1       1  female  38.0      1      0  71.2833        C  First   \n",
              "2         1       3  female  26.0      0      0   7.9250        S  Third   \n",
              "3         1       1  female  35.0      1      0  53.1000        S  First   \n",
              "4         0       3    male  35.0      0      0   8.0500        S  Third   \n",
              "\n",
              "     who  adult_male deck  embark_town alive  alone  \n",
              "0    man        True  NaN  Southampton    no  False  \n",
              "1  woman       False    C    Cherbourg   yes  False  \n",
              "2  woman       False  NaN  Southampton   yes   True  \n",
              "3  woman       False    C  Southampton   yes  False  \n",
              "4    man        True  NaN  Southampton    no   True  "
            ]
          },
          "execution_count": 7,
          "metadata": {},
          "output_type": "execute_result"
        }
      ],
      "source": [
        "df.head()"
      ]
    },
    {
      "cell_type": "markdown",
      "metadata": {
        "id": "382nH_006DDX"
      },
      "source": [
        "### c)Tail"
      ]
    },
    {
      "cell_type": "code",
      "execution_count": 8,
      "metadata": {
        "colab": {
          "base_uri": "https://localhost:8080/",
          "height": 206
        },
        "id": "XpMS8U850ZMT",
        "outputId": "93754e92-df2a-4054-c923-b68f1f38684a"
      },
      "outputs": [
        {
          "data": {
            "text/html": [
              "<div>\n",
              "<style scoped>\n",
              "    .dataframe tbody tr th:only-of-type {\n",
              "        vertical-align: middle;\n",
              "    }\n",
              "\n",
              "    .dataframe tbody tr th {\n",
              "        vertical-align: top;\n",
              "    }\n",
              "\n",
              "    .dataframe thead th {\n",
              "        text-align: right;\n",
              "    }\n",
              "</style>\n",
              "<table border=\"1\" class=\"dataframe\">\n",
              "  <thead>\n",
              "    <tr style=\"text-align: right;\">\n",
              "      <th></th>\n",
              "      <th>survived</th>\n",
              "      <th>pclass</th>\n",
              "      <th>sex</th>\n",
              "      <th>age</th>\n",
              "      <th>sibsp</th>\n",
              "      <th>parch</th>\n",
              "      <th>fare</th>\n",
              "      <th>embarked</th>\n",
              "      <th>class</th>\n",
              "      <th>who</th>\n",
              "      <th>adult_male</th>\n",
              "      <th>deck</th>\n",
              "      <th>embark_town</th>\n",
              "      <th>alive</th>\n",
              "      <th>alone</th>\n",
              "    </tr>\n",
              "  </thead>\n",
              "  <tbody>\n",
              "    <tr>\n",
              "      <th>886</th>\n",
              "      <td>0</td>\n",
              "      <td>2</td>\n",
              "      <td>male</td>\n",
              "      <td>27.0</td>\n",
              "      <td>0</td>\n",
              "      <td>0</td>\n",
              "      <td>13.00</td>\n",
              "      <td>S</td>\n",
              "      <td>Second</td>\n",
              "      <td>man</td>\n",
              "      <td>True</td>\n",
              "      <td>NaN</td>\n",
              "      <td>Southampton</td>\n",
              "      <td>no</td>\n",
              "      <td>True</td>\n",
              "    </tr>\n",
              "    <tr>\n",
              "      <th>887</th>\n",
              "      <td>1</td>\n",
              "      <td>1</td>\n",
              "      <td>female</td>\n",
              "      <td>19.0</td>\n",
              "      <td>0</td>\n",
              "      <td>0</td>\n",
              "      <td>30.00</td>\n",
              "      <td>S</td>\n",
              "      <td>First</td>\n",
              "      <td>woman</td>\n",
              "      <td>False</td>\n",
              "      <td>B</td>\n",
              "      <td>Southampton</td>\n",
              "      <td>yes</td>\n",
              "      <td>True</td>\n",
              "    </tr>\n",
              "    <tr>\n",
              "      <th>888</th>\n",
              "      <td>0</td>\n",
              "      <td>3</td>\n",
              "      <td>female</td>\n",
              "      <td>NaN</td>\n",
              "      <td>1</td>\n",
              "      <td>2</td>\n",
              "      <td>23.45</td>\n",
              "      <td>S</td>\n",
              "      <td>Third</td>\n",
              "      <td>woman</td>\n",
              "      <td>False</td>\n",
              "      <td>NaN</td>\n",
              "      <td>Southampton</td>\n",
              "      <td>no</td>\n",
              "      <td>False</td>\n",
              "    </tr>\n",
              "    <tr>\n",
              "      <th>889</th>\n",
              "      <td>1</td>\n",
              "      <td>1</td>\n",
              "      <td>male</td>\n",
              "      <td>26.0</td>\n",
              "      <td>0</td>\n",
              "      <td>0</td>\n",
              "      <td>30.00</td>\n",
              "      <td>C</td>\n",
              "      <td>First</td>\n",
              "      <td>man</td>\n",
              "      <td>True</td>\n",
              "      <td>C</td>\n",
              "      <td>Cherbourg</td>\n",
              "      <td>yes</td>\n",
              "      <td>True</td>\n",
              "    </tr>\n",
              "    <tr>\n",
              "      <th>890</th>\n",
              "      <td>0</td>\n",
              "      <td>3</td>\n",
              "      <td>male</td>\n",
              "      <td>32.0</td>\n",
              "      <td>0</td>\n",
              "      <td>0</td>\n",
              "      <td>7.75</td>\n",
              "      <td>Q</td>\n",
              "      <td>Third</td>\n",
              "      <td>man</td>\n",
              "      <td>True</td>\n",
              "      <td>NaN</td>\n",
              "      <td>Queenstown</td>\n",
              "      <td>no</td>\n",
              "      <td>True</td>\n",
              "    </tr>\n",
              "  </tbody>\n",
              "</table>\n",
              "</div>"
            ],
            "text/plain": [
              "     survived  pclass     sex   age  sibsp  parch   fare embarked   class  \\\n",
              "886         0       2    male  27.0      0      0  13.00        S  Second   \n",
              "887         1       1  female  19.0      0      0  30.00        S   First   \n",
              "888         0       3  female   NaN      1      2  23.45        S   Third   \n",
              "889         1       1    male  26.0      0      0  30.00        C   First   \n",
              "890         0       3    male  32.0      0      0   7.75        Q   Third   \n",
              "\n",
              "       who  adult_male deck  embark_town alive  alone  \n",
              "886    man        True  NaN  Southampton    no   True  \n",
              "887  woman       False    B  Southampton   yes   True  \n",
              "888  woman       False  NaN  Southampton    no  False  \n",
              "889    man        True    C    Cherbourg   yes   True  \n",
              "890    man        True  NaN   Queenstown    no   True  "
            ]
          },
          "execution_count": 8,
          "metadata": {},
          "output_type": "execute_result"
        }
      ],
      "source": [
        "df.tail()"
      ]
    },
    {
      "cell_type": "markdown",
      "metadata": {
        "id": "PbgrK0E26K5p"
      },
      "source": [
        "### d) Information"
      ]
    },
    {
      "cell_type": "code",
      "execution_count": 9,
      "metadata": {
        "colab": {
          "base_uri": "https://localhost:8080/"
        },
        "id": "p2yKqPE_0QPR",
        "outputId": "4528fb8f-faa6-4080-8d64-cfc76a7f447e"
      },
      "outputs": [
        {
          "name": "stdout",
          "output_type": "stream",
          "text": [
            "<class 'pandas.core.frame.DataFrame'>\n",
            "RangeIndex: 891 entries, 0 to 890\n",
            "Data columns (total 15 columns):\n",
            " #   Column       Non-Null Count  Dtype   \n",
            "---  ------       --------------  -----   \n",
            " 0   survived     891 non-null    int64   \n",
            " 1   pclass       891 non-null    int64   \n",
            " 2   sex          891 non-null    object  \n",
            " 3   age          714 non-null    float64 \n",
            " 4   sibsp        891 non-null    int64   \n",
            " 5   parch        891 non-null    int64   \n",
            " 6   fare         891 non-null    float64 \n",
            " 7   embarked     889 non-null    object  \n",
            " 8   class        891 non-null    category\n",
            " 9   who          891 non-null    object  \n",
            " 10  adult_male   891 non-null    bool    \n",
            " 11  deck         203 non-null    category\n",
            " 12  embark_town  889 non-null    object  \n",
            " 13  alive        891 non-null    object  \n",
            " 14  alone        891 non-null    bool    \n",
            "dtypes: bool(2), category(2), float64(2), int64(4), object(5)\n",
            "memory usage: 80.7+ KB\n"
          ]
        }
      ],
      "source": [
        "df.info()"
      ]
    },
    {
      "cell_type": "markdown",
      "metadata": {
        "id": "aukevgY_8JUH"
      },
      "source": [
        "### e) Columns"
      ]
    },
    {
      "cell_type": "code",
      "execution_count": 10,
      "metadata": {
        "colab": {
          "base_uri": "https://localhost:8080/"
        },
        "id": "A7E1EuI40Ji-",
        "outputId": "e9c405a2-da54-4041-e18d-46b6280aed97"
      },
      "outputs": [
        {
          "data": {
            "text/plain": [
              "Index(['survived', 'pclass', 'sex', 'age', 'sibsp', 'parch', 'fare',\n",
              "       'embarked', 'class', 'who', 'adult_male', 'deck', 'embark_town',\n",
              "       'alive', 'alone'],\n",
              "      dtype='object')"
            ]
          },
          "execution_count": 10,
          "metadata": {},
          "output_type": "execute_result"
        }
      ],
      "source": [
        "df.columns"
      ]
    },
    {
      "cell_type": "markdown",
      "metadata": {
        "id": "utowknPh8Qat"
      },
      "source": [
        "### f) Shape"
      ]
    },
    {
      "cell_type": "code",
      "execution_count": 11,
      "metadata": {
        "colab": {
          "base_uri": "https://localhost:8080/",
          "height": 37
        },
        "id": "w5J0gkV40Jls",
        "outputId": "87d5ac60-fd95-4023-b9d6-de46c3ece618"
      },
      "outputs": [
        {
          "data": {
            "image/png": "[encoded data removed]",
            "text/latex": [
              "$\\displaystyle \\left( 891, \\  15\\right)$"
            ],
            "text/plain": [
              "(891, 15)"
            ]
          },
          "execution_count": 11,
          "metadata": {},
          "output_type": "execute_result"
        }
      ],
      "source": [
        "df.shape"
      ]
    },
    {
      "cell_type": "markdown",
      "metadata": {
        "id": "sYOvoZue8Z8M"
      },
      "source": [
        "### g) Data types"
      ]
    },
    {
      "cell_type": "code",
      "execution_count": 12,
      "metadata": {
        "colab": {
          "base_uri": "https://localhost:8080/",
          "height": 554
        },
        "id": "5yE8fBNk5aSh",
        "outputId": "1cc57540-19ef-4ff7-ebf7-3d00c4467797"
      },
      "outputs": [
        {
          "data": {
            "text/plain": [
              "survived          int64\n",
              "pclass            int64\n",
              "sex              object\n",
              "age             float64\n",
              "sibsp             int64\n",
              "parch             int64\n",
              "fare            float64\n",
              "embarked         object\n",
              "class          category\n",
              "who              object\n",
              "adult_male         bool\n",
              "deck           category\n",
              "embark_town      object\n",
              "alive            object\n",
              "alone              bool\n",
              "dtype: object"
            ]
          },
          "execution_count": 12,
          "metadata": {},
          "output_type": "execute_result"
        }
      ],
      "source": [
        "df.dtypes"
      ]
    },
    {
      "cell_type": "code",
      "execution_count": 13,
      "metadata": {
        "colab": {
          "base_uri": "https://localhost:8080/",
          "height": 203
        },
        "id": "3uedg2tz5lP2",
        "outputId": "0099e47a-b5ca-49e5-fc7a-42dab5b05799"
      },
      "outputs": [
        {
          "data": {
            "text/plain": [
              "pandas.core.frame.DataFrame"
            ]
          },
          "execution_count": 13,
          "metadata": {},
          "output_type": "execute_result"
        }
      ],
      "source": [
        "type(df)"
      ]
    },
    {
      "cell_type": "markdown",
      "metadata": {
        "id": "rrDpQagH8msi"
      },
      "source": [
        "###h) Verify if df is a DataFrame"
      ]
    },
    {
      "cell_type": "code",
      "execution_count": 14,
      "metadata": {
        "colab": {
          "base_uri": "https://localhost:8080/"
        },
        "id": "rmb6PEzm7guy",
        "outputId": "1cbb39b9-a860-4a68-c81c-c876b8ba527a"
      },
      "outputs": [
        {
          "data": {
            "text/plain": [
              "True"
            ]
          },
          "execution_count": 14,
          "metadata": {},
          "output_type": "execute_result"
        }
      ],
      "source": [
        "isinstance(df, pd.DataFrame)"
      ]
    },
    {
      "cell_type": "markdown",
      "metadata": {
        "id": "RfHW7K5H99EQ"
      },
      "source": [
        "###i) Duplicates"
      ]
    },
    {
      "cell_type": "code",
      "execution_count": 15,
      "metadata": {
        "colab": {
          "base_uri": "https://localhost:8080/",
          "height": 458
        },
        "id": "04nqifmD9_ZW",
        "outputId": "b5d3c8b2-8327-40dd-d45f-4232c3d39059"
      },
      "outputs": [
        {
          "data": {
            "text/plain": [
              "0      False\n",
              "1      False\n",
              "2      False\n",
              "3      False\n",
              "4      False\n",
              "       ...  \n",
              "886     True\n",
              "887    False\n",
              "888    False\n",
              "889    False\n",
              "890    False\n",
              "Length: 891, dtype: bool"
            ]
          },
          "execution_count": 15,
          "metadata": {},
          "output_type": "execute_result"
        }
      ],
      "source": [
        "df.duplicated()"
      ]
    },
    {
      "cell_type": "code",
      "execution_count": 16,
      "metadata": {
        "colab": {
          "base_uri": "https://localhost:8080/"
        },
        "id": "MFdzY0LF-FjE",
        "outputId": "aa117663-37e3-4269-809b-9f8541256d8d"
      },
      "outputs": [
        {
          "data": {
            "text/plain": [
              "np.int64(107)"
            ]
          },
          "execution_count": 16,
          "metadata": {},
          "output_type": "execute_result"
        }
      ],
      "source": [
        "df.duplicated().sum()"
      ]
    },
    {
      "cell_type": "markdown",
      "metadata": {
        "id": "P_ibNt5JAObz"
      },
      "source": [
        "### j) Uniqueness"
      ]
    },
    {
      "cell_type": "code",
      "execution_count": 17,
      "metadata": {
        "colab": {
          "base_uri": "https://localhost:8080/",
          "height": 554
        },
        "id": "yZSJqFzDAWwc",
        "outputId": "5ef457f2-d6f4-45cc-8c09-3cd7442dac4c"
      },
      "outputs": [
        {
          "data": {
            "text/plain": [
              "survived         2\n",
              "pclass           3\n",
              "sex              2\n",
              "age             88\n",
              "sibsp            7\n",
              "parch            7\n",
              "fare           248\n",
              "embarked         3\n",
              "class            3\n",
              "who              3\n",
              "adult_male       2\n",
              "deck             7\n",
              "embark_town      3\n",
              "alive            2\n",
              "alone            2\n",
              "dtype: int64"
            ]
          },
          "execution_count": 17,
          "metadata": {},
          "output_type": "execute_result"
        }
      ],
      "source": [
        "df.nunique()"
      ]
    },
    {
      "cell_type": "markdown",
      "metadata": {
        "id": "lPnK6fVfB7i1"
      },
      "source": [
        "###k) Binary"
      ]
    },
    {
      "cell_type": "code",
      "execution_count": 18,
      "metadata": {
        "colab": {
          "base_uri": "https://localhost:8080/"
        },
        "id": "gEIQzp0TC3Hf",
        "outputId": "f6d7c309-e435-4723-8c8a-aa7af3454f48"
      },
      "outputs": [
        {
          "data": {
            "text/plain": [
              "np.int64(3)"
            ]
          },
          "execution_count": 18,
          "metadata": {},
          "output_type": "execute_result"
        }
      ],
      "source": [
        "(df.isin([0, 1]).all()).sum()"
      ]
    },
    {
      "cell_type": "code",
      "execution_count": 19,
      "metadata": {
        "colab": {
          "base_uri": "https://localhost:8080/"
        },
        "id": "tgXuYbJ_DEmM",
        "outputId": "a71a71ff-87bc-45fb-8649-68cdc50ca4c3"
      },
      "outputs": [
        {
          "name": "stdout",
          "output_type": "stream",
          "text": [
            "Index(['survived', 'adult_male', 'alone'], dtype='object')\n"
          ]
        }
      ],
      "source": [
        "print(df.columns[df.isin([0, 1]).all()])"
      ]
    },
    {
      "cell_type": "markdown",
      "metadata": {
        "id": "Z1pGYe8VELbD"
      },
      "source": [
        "#2) DATA CLEANING\n",
        "\n",
        "###a) Drop Duplicates"
      ]
    },
    {
      "cell_type": "code",
      "execution_count": 20,
      "metadata": {
        "colab": {
          "base_uri": "https://localhost:8080/",
          "height": 423
        },
        "id": "pp_lVISfLbVb",
        "outputId": "0822cea1-ff58-4d2a-b9fb-e0348550c928"
      },
      "outputs": [
        {
          "data": {
            "text/html": [
              "<div>\n",
              "<style scoped>\n",
              "    .dataframe tbody tr th:only-of-type {\n",
              "        vertical-align: middle;\n",
              "    }\n",
              "\n",
              "    .dataframe tbody tr th {\n",
              "        vertical-align: top;\n",
              "    }\n",
              "\n",
              "    .dataframe thead th {\n",
              "        text-align: right;\n",
              "    }\n",
              "</style>\n",
              "<table border=\"1\" class=\"dataframe\">\n",
              "  <thead>\n",
              "    <tr style=\"text-align: right;\">\n",
              "      <th></th>\n",
              "      <th>survived</th>\n",
              "      <th>pclass</th>\n",
              "      <th>sex</th>\n",
              "      <th>age</th>\n",
              "      <th>sibsp</th>\n",
              "      <th>parch</th>\n",
              "      <th>fare</th>\n",
              "      <th>embarked</th>\n",
              "      <th>class</th>\n",
              "      <th>who</th>\n",
              "      <th>adult_male</th>\n",
              "      <th>deck</th>\n",
              "      <th>embark_town</th>\n",
              "      <th>alive</th>\n",
              "      <th>alone</th>\n",
              "    </tr>\n",
              "  </thead>\n",
              "  <tbody>\n",
              "    <tr>\n",
              "      <th>0</th>\n",
              "      <td>0</td>\n",
              "      <td>3</td>\n",
              "      <td>male</td>\n",
              "      <td>22.0</td>\n",
              "      <td>1</td>\n",
              "      <td>0</td>\n",
              "      <td>7.2500</td>\n",
              "      <td>S</td>\n",
              "      <td>Third</td>\n",
              "      <td>man</td>\n",
              "      <td>True</td>\n",
              "      <td>NaN</td>\n",
              "      <td>Southampton</td>\n",
              "      <td>no</td>\n",
              "      <td>False</td>\n",
              "    </tr>\n",
              "    <tr>\n",
              "      <th>1</th>\n",
              "      <td>1</td>\n",
              "      <td>1</td>\n",
              "      <td>female</td>\n",
              "      <td>38.0</td>\n",
              "      <td>1</td>\n",
              "      <td>0</td>\n",
              "      <td>71.2833</td>\n",
              "      <td>C</td>\n",
              "      <td>First</td>\n",
              "      <td>woman</td>\n",
              "      <td>False</td>\n",
              "      <td>C</td>\n",
              "      <td>Cherbourg</td>\n",
              "      <td>yes</td>\n",
              "      <td>False</td>\n",
              "    </tr>\n",
              "    <tr>\n",
              "      <th>2</th>\n",
              "      <td>1</td>\n",
              "      <td>3</td>\n",
              "      <td>female</td>\n",
              "      <td>26.0</td>\n",
              "      <td>0</td>\n",
              "      <td>0</td>\n",
              "      <td>7.9250</td>\n",
              "      <td>S</td>\n",
              "      <td>Third</td>\n",
              "      <td>woman</td>\n",
              "      <td>False</td>\n",
              "      <td>NaN</td>\n",
              "      <td>Southampton</td>\n",
              "      <td>yes</td>\n",
              "      <td>True</td>\n",
              "    </tr>\n",
              "    <tr>\n",
              "      <th>3</th>\n",
              "      <td>1</td>\n",
              "      <td>1</td>\n",
              "      <td>female</td>\n",
              "      <td>35.0</td>\n",
              "      <td>1</td>\n",
              "      <td>0</td>\n",
              "      <td>53.1000</td>\n",
              "      <td>S</td>\n",
              "      <td>First</td>\n",
              "      <td>woman</td>\n",
              "      <td>False</td>\n",
              "      <td>C</td>\n",
              "      <td>Southampton</td>\n",
              "      <td>yes</td>\n",
              "      <td>False</td>\n",
              "    </tr>\n",
              "    <tr>\n",
              "      <th>4</th>\n",
              "      <td>0</td>\n",
              "      <td>3</td>\n",
              "      <td>male</td>\n",
              "      <td>35.0</td>\n",
              "      <td>0</td>\n",
              "      <td>0</td>\n",
              "      <td>8.0500</td>\n",
              "      <td>S</td>\n",
              "      <td>Third</td>\n",
              "      <td>man</td>\n",
              "      <td>True</td>\n",
              "      <td>NaN</td>\n",
              "      <td>Southampton</td>\n",
              "      <td>no</td>\n",
              "      <td>True</td>\n",
              "    </tr>\n",
              "    <tr>\n",
              "      <th>...</th>\n",
              "      <td>...</td>\n",
              "      <td>...</td>\n",
              "      <td>...</td>\n",
              "      <td>...</td>\n",
              "      <td>...</td>\n",
              "      <td>...</td>\n",
              "      <td>...</td>\n",
              "      <td>...</td>\n",
              "      <td>...</td>\n",
              "      <td>...</td>\n",
              "      <td>...</td>\n",
              "      <td>...</td>\n",
              "      <td>...</td>\n",
              "      <td>...</td>\n",
              "      <td>...</td>\n",
              "    </tr>\n",
              "    <tr>\n",
              "      <th>885</th>\n",
              "      <td>0</td>\n",
              "      <td>3</td>\n",
              "      <td>female</td>\n",
              "      <td>39.0</td>\n",
              "      <td>0</td>\n",
              "      <td>5</td>\n",
              "      <td>29.1250</td>\n",
              "      <td>Q</td>\n",
              "      <td>Third</td>\n",
              "      <td>woman</td>\n",
              "      <td>False</td>\n",
              "      <td>NaN</td>\n",
              "      <td>Queenstown</td>\n",
              "      <td>no</td>\n",
              "      <td>False</td>\n",
              "    </tr>\n",
              "    <tr>\n",
              "      <th>887</th>\n",
              "      <td>1</td>\n",
              "      <td>1</td>\n",
              "      <td>female</td>\n",
              "      <td>19.0</td>\n",
              "      <td>0</td>\n",
              "      <td>0</td>\n",
              "      <td>30.0000</td>\n",
              "      <td>S</td>\n",
              "      <td>First</td>\n",
              "      <td>woman</td>\n",
              "      <td>False</td>\n",
              "      <td>B</td>\n",
              "      <td>Southampton</td>\n",
              "      <td>yes</td>\n",
              "      <td>True</td>\n",
              "    </tr>\n",
              "    <tr>\n",
              "      <th>888</th>\n",
              "      <td>0</td>\n",
              "      <td>3</td>\n",
              "      <td>female</td>\n",
              "      <td>NaN</td>\n",
              "      <td>1</td>\n",
              "      <td>2</td>\n",
              "      <td>23.4500</td>\n",
              "      <td>S</td>\n",
              "      <td>Third</td>\n",
              "      <td>woman</td>\n",
              "      <td>False</td>\n",
              "      <td>NaN</td>\n",
              "      <td>Southampton</td>\n",
              "      <td>no</td>\n",
              "      <td>False</td>\n",
              "    </tr>\n",
              "    <tr>\n",
              "      <th>889</th>\n",
              "      <td>1</td>\n",
              "      <td>1</td>\n",
              "      <td>male</td>\n",
              "      <td>26.0</td>\n",
              "      <td>0</td>\n",
              "      <td>0</td>\n",
              "      <td>30.0000</td>\n",
              "      <td>C</td>\n",
              "      <td>First</td>\n",
              "      <td>man</td>\n",
              "      <td>True</td>\n",
              "      <td>C</td>\n",
              "      <td>Cherbourg</td>\n",
              "      <td>yes</td>\n",
              "      <td>True</td>\n",
              "    </tr>\n",
              "    <tr>\n",
              "      <th>890</th>\n",
              "      <td>0</td>\n",
              "      <td>3</td>\n",
              "      <td>male</td>\n",
              "      <td>32.0</td>\n",
              "      <td>0</td>\n",
              "      <td>0</td>\n",
              "      <td>7.7500</td>\n",
              "      <td>Q</td>\n",
              "      <td>Third</td>\n",
              "      <td>man</td>\n",
              "      <td>True</td>\n",
              "      <td>NaN</td>\n",
              "      <td>Queenstown</td>\n",
              "      <td>no</td>\n",
              "      <td>True</td>\n",
              "    </tr>\n",
              "  </tbody>\n",
              "</table>\n",
              "<p>784 rows × 15 columns</p>\n",
              "</div>"
            ],
            "text/plain": [
              "     survived  pclass     sex   age  sibsp  parch     fare embarked  class  \\\n",
              "0           0       3    male  22.0      1      0   7.2500        S  Third   \n",
              "1           1       1  female  38.0      1      0  71.2833        C  First   \n",
              "2           1       3  female  26.0      0      0   7.9250        S  Third   \n",
              "3           1       1  female  35.0      1      0  53.1000        S  First   \n",
              "4           0       3    male  35.0      0      0   8.0500        S  Third   \n",
              "..        ...     ...     ...   ...    ...    ...      ...      ...    ...   \n",
              "885         0       3  female  39.0      0      5  29.1250        Q  Third   \n",
              "887         1       1  female  19.0      0      0  30.0000        S  First   \n",
              "888         0       3  female   NaN      1      2  23.4500        S  Third   \n",
              "889         1       1    male  26.0      0      0  30.0000        C  First   \n",
              "890         0       3    male  32.0      0      0   7.7500        Q  Third   \n",
              "\n",
              "       who  adult_male deck  embark_town alive  alone  \n",
              "0      man        True  NaN  Southampton    no  False  \n",
              "1    woman       False    C    Cherbourg   yes  False  \n",
              "2    woman       False  NaN  Southampton   yes   True  \n",
              "3    woman       False    C  Southampton   yes  False  \n",
              "4      man        True  NaN  Southampton    no   True  \n",
              "..     ...         ...  ...          ...   ...    ...  \n",
              "885  woman       False  NaN   Queenstown    no  False  \n",
              "887  woman       False    B  Southampton   yes   True  \n",
              "888  woman       False  NaN  Southampton    no  False  \n",
              "889    man        True    C    Cherbourg   yes   True  \n",
              "890    man        True  NaN   Queenstown    no   True  \n",
              "\n",
              "[784 rows x 15 columns]"
            ]
          },
          "execution_count": 20,
          "metadata": {},
          "output_type": "execute_result"
        }
      ],
      "source": [
        "df = df.drop_duplicates()\n",
        "df"
      ]
    },
    {
      "cell_type": "markdown",
      "metadata": {
        "id": "CJi3Ctw8LiZi"
      },
      "source": [
        "### b) Missing values"
      ]
    },
    {
      "cell_type": "code",
      "execution_count": 21,
      "metadata": {
        "colab": {
          "base_uri": "https://localhost:8080/",
          "height": 554
        },
        "id": "sUjJL2SbEpqF",
        "outputId": "a44242b5-17f4-41aa-e2eb-ba08da7bd80e"
      },
      "outputs": [
        {
          "data": {
            "text/plain": [
              "survived         0\n",
              "pclass           0\n",
              "sex              0\n",
              "age            106\n",
              "sibsp            0\n",
              "parch            0\n",
              "fare             0\n",
              "embarked         2\n",
              "class            0\n",
              "who              0\n",
              "adult_male       0\n",
              "deck           582\n",
              "embark_town      2\n",
              "alive            0\n",
              "alone            0\n",
              "dtype: int64"
            ]
          },
          "execution_count": 21,
          "metadata": {},
          "output_type": "execute_result"
        }
      ],
      "source": [
        "missing = df.isnull().sum()\n",
        "missing"
      ]
    },
    {
      "cell_type": "code",
      "execution_count": 22,
      "metadata": {
        "colab": {
          "base_uri": "https://localhost:8080/"
        },
        "id": "GyyNdqIKOoUQ",
        "outputId": "ae9fe6e0-b743-4a07-bed0-3444ed8331a6"
      },
      "outputs": [
        {
          "name": "stdout",
          "output_type": "stream",
          "text": [
            "pclass\n",
            "1    27.358491\n",
            "2     5.660377\n",
            "3    66.981132\n",
            "dtype: float64\n"
          ]
        }
      ],
      "source": [
        "# Count missing 'age' values grouped by 'pclass'\n",
        "missing_by_class = df[df['age'].isnull()].groupby('pclass').size()\n",
        "\n",
        "# Show the percentage of missing 'age' by 'pclass'\n",
        "missing_percentage_by_class = (missing_by_class / df['age'].isnull().sum()) * 100\n",
        "print(missing_percentage_by_class)\n"
      ]
    },
    {
      "cell_type": "code",
      "execution_count": 24,
      "metadata": {
        "colab": {
          "base_uri": "https://localhost:8080/",
          "height": 542
        },
        "id": "EMpunAxhUsgr",
        "outputId": "4c261c5b-da73-4e8e-89d7-ea7c67610121"
      },
      "outputs": [
        {
          "ename": "ValueError",
          "evalue": "Mime type rendering requires nbformat>=4.2.0 but it is not installed",
          "output_type": "error",
          "traceback": [
            "\u001b[31m---------------------------------------------------------------------------\u001b[39m",
            "\u001b[31mValueError\u001b[39m                                Traceback (most recent call last)",
            "\u001b[36mCell\u001b[39m\u001b[36m \u001b[39m\u001b[32mIn[24]\u001b[39m\u001b[32m, line 15\u001b[39m\n\u001b[32m     12\u001b[39m fig.update_traces(pull=[\u001b[32m0.1\u001b[39m, \u001b[32m0.1\u001b[39m, \u001b[32m0.1\u001b[39m], textinfo=\u001b[33m'\u001b[39m\u001b[33mpercent+label\u001b[39m\u001b[33m'\u001b[39m)\n\u001b[32m     14\u001b[39m \u001b[38;5;66;03m# Show the plot\u001b[39;00m\n\u001b[32m---> \u001b[39m\u001b[32m15\u001b[39m \u001b[43mfig\u001b[49m\u001b[43m.\u001b[49m\u001b[43mshow\u001b[49m\u001b[43m(\u001b[49m\u001b[43m)\u001b[49m\n",
            "\u001b[36mFile \u001b[39m\u001b[32m~/Desktop/FTL/assignment/seth/.venv/lib/python3.12/site-packages/plotly/basedatatypes.py:3414\u001b[39m, in \u001b[36mBaseFigure.show\u001b[39m\u001b[34m(self, *args, **kwargs)\u001b[39m\n\u001b[32m   3381\u001b[39m \u001b[38;5;250m\u001b[39m\u001b[33;03m\"\"\"\u001b[39;00m\n\u001b[32m   3382\u001b[39m \u001b[33;03mShow a figure using either the default renderer(s) or the renderer(s)\u001b[39;00m\n\u001b[32m   3383\u001b[39m \u001b[33;03mspecified by the renderer argument\u001b[39;00m\n\u001b[32m   (...)\u001b[39m\u001b[32m   3410\u001b[39m \u001b[33;03mNone\u001b[39;00m\n\u001b[32m   3411\u001b[39m \u001b[33;03m\"\"\"\u001b[39;00m\n\u001b[32m   3412\u001b[39m \u001b[38;5;28;01mimport\u001b[39;00m\u001b[38;5;250m \u001b[39m\u001b[34;01mplotly\u001b[39;00m\u001b[34;01m.\u001b[39;00m\u001b[34;01mio\u001b[39;00m\u001b[38;5;250m \u001b[39m\u001b[38;5;28;01mas\u001b[39;00m\u001b[38;5;250m \u001b[39m\u001b[34;01mpio\u001b[39;00m\n\u001b[32m-> \u001b[39m\u001b[32m3414\u001b[39m \u001b[38;5;28;01mreturn\u001b[39;00m \u001b[43mpio\u001b[49m\u001b[43m.\u001b[49m\u001b[43mshow\u001b[49m\u001b[43m(\u001b[49m\u001b[38;5;28;43mself\u001b[39;49m\u001b[43m,\u001b[49m\u001b[43m \u001b[49m\u001b[43m*\u001b[49m\u001b[43margs\u001b[49m\u001b[43m,\u001b[49m\u001b[43m \u001b[49m\u001b[43m*\u001b[49m\u001b[43m*\u001b[49m\u001b[43mkwargs\u001b[49m\u001b[43m)\u001b[49m\n",
            "\u001b[36mFile \u001b[39m\u001b[32m~/Desktop/FTL/assignment/seth/.venv/lib/python3.12/site-packages/plotly/io/_renderers.py:425\u001b[39m, in \u001b[36mshow\u001b[39m\u001b[34m(fig, renderer, validate, **kwargs)\u001b[39m\n\u001b[32m    420\u001b[39m     \u001b[38;5;28;01mraise\u001b[39;00m \u001b[38;5;167;01mValueError\u001b[39;00m(\n\u001b[32m    421\u001b[39m         \u001b[33m\"\u001b[39m\u001b[33mMime type rendering requires ipython but it is not installed\u001b[39m\u001b[33m\"\u001b[39m\n\u001b[32m    422\u001b[39m     )\n\u001b[32m    424\u001b[39m \u001b[38;5;28;01mif\u001b[39;00m \u001b[38;5;129;01mnot\u001b[39;00m nbformat \u001b[38;5;129;01mor\u001b[39;00m Version(nbformat.__version__) < Version(\u001b[33m\"\u001b[39m\u001b[33m4.2.0\u001b[39m\u001b[33m\"\u001b[39m):\n\u001b[32m--> \u001b[39m\u001b[32m425\u001b[39m     \u001b[38;5;28;01mraise\u001b[39;00m \u001b[38;5;167;01mValueError\u001b[39;00m(\n\u001b[32m    426\u001b[39m         \u001b[33m\"\u001b[39m\u001b[33mMime type rendering requires nbformat>=4.2.0 but it is not installed\u001b[39m\u001b[33m\"\u001b[39m\n\u001b[32m    427\u001b[39m     )\n\u001b[32m    429\u001b[39m display_jupyter_version_warnings()\n\u001b[32m    431\u001b[39m ipython_display.display(bundle, raw=\u001b[38;5;28;01mTrue\u001b[39;00m)\n",
            "\u001b[31mValueError\u001b[39m: Mime type rendering requires nbformat>=4.2.0 but it is not installed"
          ]
        }
      ],
      "source": [
        "import plotly.express as px\n",
        "\n",
        "# Create an exploded pie chart with annotations\n",
        "fig = px.pie(\n",
        "    names=missing_percentage_by_class.index,\n",
        "    values=missing_percentage_by_class,\n",
        "    title=\"Missing 'Age' Values by Pclass\",\n",
        "    hole=0.3  # Create a donut chart\n",
        ")\n",
        "\n",
        "# Explode the slices to highlight each class\n",
        "fig.update_traces(pull=[0.1, 0.1, 0.1], textinfo='percent+label')\n",
        "\n",
        "# Show the plot\n",
        "fig.show()\n"
      ]
    },
    {
      "cell_type": "markdown",
      "metadata": {
        "id": "vnbSiSNlTRP7"
      },
      "source": [
        "### Imputation Methods and Their Appropriate Usage\n",
        "\n",
        "| **Imputation Method** | **Appropriate When** | **Explanation**                                                                                                                                         |\n",
        "|-----------------------|----------------------|---------------------------------------------------------------------------------------------------------------------------------------------------------|\n",
        "| **Mean**              | - Data is **normally distributed**. <br> - Data has **few outliers**. <br> - Missing data is **small in proportion** (less than 10-20%). | The **mean** is useful for **symmetric data** with **few outliers**. It is sensitive to outliers, so it should not be used when data is skewed.         |\n",
        "| **Median**            | - Data is **skewed**. <br> - Data contains **outliers**. <br> - Data is **continuous** (e.g., `age`, `fare`). <br> - Missing data is **moderate to high** in proportion. | The **median** is robust and works well for **skewed data** or when data contains **outliers**. It does not get affected by extreme values.               |\n",
        "| **Mode**              | - Data is **categorical** (e.g., `sex`, `pclass`, `embarked`). <br> - Missing data is **small in proportion** (less than 10-20%). <br> - Missing data is **random**. | The **mode** is ideal for **categorical data**, as it imputes the most frequent category. It is also used when the missing data is random and small.       |\n",
        "\n",
        "### **When to Use Each Method**:\n",
        "| **Method**  | **Typical Use Case**                                                |\n",
        "|-------------|---------------------------------------------------------------------|\n",
        "| **Mean**    | - Imputing `age`, `income`, `height` (if normally distributed).     |\n",
        "| **Median**  | - Imputing `age`, `fare`, `height` (if skewed or with outliers).    |\n",
        "| **Mode**    | - Imputing `sex`, `embarked`, `class`, `who` (categorical columns). |\n"
      ]
    },
    {
      "cell_type": "code",
      "execution_count": 25,
      "metadata": {
        "colab": {
          "base_uri": "https://localhost:8080/",
          "height": 472
        },
        "id": "sNeIbsjmUmmh",
        "outputId": "0db261e1-2ccb-450c-be7f-bfbf60b6ab06"
      },
      "outputs": [
        {
          "data": {
            "image/png": "[encoded data removed]",
            "text/plain": [
              "<Figure size 640x480 with 1 Axes>"
            ]
          },
          "metadata": {},
          "output_type": "display_data"
        }
      ],
      "source": [
        "import matplotlib.pyplot as plt\n",
        "import seaborn as sns\n",
        "\n",
        "# Plot histogram for 'age'\n",
        "sns.histplot(df['age'], kde=True)\n",
        "plt.title('Distribution of Age')\n",
        "plt.show()\n"
      ]
    },
    {
      "cell_type": "code",
      "execution_count": 26,
      "metadata": {
        "colab": {
          "base_uri": "https://localhost:8080/"
        },
        "id": "e_snHIDIU1w8",
        "outputId": "daec77b5-9762-47c3-b15d-116ce76ccdde"
      },
      "outputs": [
        {
          "name": "stdout",
          "output_type": "stream",
          "text": [
            "Skewness of 'age': 0.3674542095476674\n"
          ]
        }
      ],
      "source": [
        "# Calculate skewness for 'age' (or any continuous column)\n",
        "skewness = df['age'].skew()\n",
        "print(f\"Skewness of 'age': {skewness}\")"
      ]
    },
    {
      "cell_type": "markdown",
      "metadata": {
        "id": "JuJ5Q1nPV-dO"
      },
      "source": [
        "### Skewness Analysis for `age` Column\n",
        "\n",
        "A skewness of **0.3674** for the `age` column indicates that the data is **slightly right-skewed** (positive skew), but it is not highly skewed. This means that the distribution of `age` has a tail on the right side, but it's not extreme.\n",
        "\n",
        "#### Interpretation of Skewness:\n",
        "- **Skewness between 0 and 1** typically indicates a **moderate right skew**.\n",
        "- **Skewness of 0** means the data is **perfectly symmetric**.\n",
        "- **Skewness > 1** indicates a more pronounced **right-skewed distribution**.\n",
        "- **Skewness < -1** indicates a **left-skewed distribution**.\n",
        "\n",
        "Given that the skewness of `age` is **0.3674**, it is a **mild positive skew**, meaning the data has more younger passengers with a few older ones (a longer tail on the right).\n",
        "\n",
        "### Action for Missing Data Imputation:\n",
        "Since the skewness is mild, it’s generally better to impute missing values with the **median** (as it is robust to skewed distributions) rather than the **mean**, which could be influenced by extreme age values.\n",
        "\n",
        "#### Suggested Approach for Imputation:\n",
        "Impute missing `age` values with the **median** of `age` grouped by **pclass** (passenger class), as **age** can vary by class. This will ensure that imputation considers the differences between passenger classes (e.g., first-class passengers may have a different age distribution than third-class passengers).\n"
      ]
    },
    {
      "cell_type": "code",
      "execution_count": 27,
      "metadata": {
        "colab": {
          "base_uri": "https://localhost:8080/"
        },
        "id": "siORugSaQ68a",
        "outputId": "99ea2de3-c1bd-411b-920e-c7919e2d386f"
      },
      "outputs": [
        {
          "name": "stdout",
          "output_type": "stream",
          "text": [
            "0\n"
          ]
        }
      ],
      "source": [
        "# Impute 'age' with the median value by 'pclass'\n",
        "df['age'] = df.groupby('pclass')['age'].transform(lambda x: x.fillna(x.median()))\n",
        "\n",
        "# Check if there are any remaining missing values\n",
        "print(df['age'].isnull().sum())\n"
      ]
    },
    {
      "cell_type": "markdown",
      "metadata": {
        "id": "SCrsKSDNW38z"
      },
      "source": [
        "### For the `embarked` Variable:\n",
        "\n",
        "- **Missing Data**: The `embarked` column has a **0.2%** missing value.\n",
        "- **Imputation Strategy**: Given the low percentage, the missing values are likely **random**, so we will impute them with the **mode** (most frequent value).\n",
        "- **Action**: Use the **mode** to fill missing values in the `embarked` column.\n"
      ]
    },
    {
      "cell_type": "code",
      "execution_count": 28,
      "metadata": {
        "colab": {
          "base_uri": "https://localhost:8080/"
        },
        "id": "mUTQPOcFW5Ry",
        "outputId": "531ab743-d8db-430f-aa39-e3b3678264ae"
      },
      "outputs": [
        {
          "name": "stdout",
          "output_type": "stream",
          "text": [
            "0\n"
          ]
        }
      ],
      "source": [
        "df['embarked'] = df['embarked'].fillna(df['embarked'].mode()[0])\n",
        "\n",
        "print(df['embarked'].isnull().sum())"
      ]
    },
    {
      "cell_type": "markdown",
      "metadata": {
        "id": "cinHaq7UY5Dd"
      },
      "source": [
        "### For the `embark_town` Variable:\n",
        "\n",
        "- **Missing Data**: The `embark_town` column has **0.2%** missing values.\n",
        "- **Imputation Strategy**: Since the missing data is low, it’s likely random, so we can impute the missing values using the **mode** (most frequent value), as this column likely has a few categories.\n",
        "- **Action**: Impute the missing values in the `embark_town` column with the **mode**.\n"
      ]
    },
    {
      "cell_type": "code",
      "execution_count": 29,
      "metadata": {
        "colab": {
          "base_uri": "https://localhost:8080/"
        },
        "id": "ZqPCgldFY5v-",
        "outputId": "ee4ec2ab-f882-471d-a731-fdaca92eb79a"
      },
      "outputs": [
        {
          "name": "stdout",
          "output_type": "stream",
          "text": [
            "0\n"
          ]
        }
      ],
      "source": [
        "# Impute 'embark_town' with the mode\n",
        "df['embark_town'].fillna(df['embark_town'].mode()[0], inplace=True)\n",
        "\n",
        "# Check if there are any remaining missing values\n",
        "print(df['embark_town'].isnull().sum())"
      ]
    },
    {
      "cell_type": "markdown",
      "metadata": {
        "id": "uKnIbf-bXLut"
      },
      "source": [
        "### For the `deck` Variable:\n",
        "\n",
        "- **Missing Data**: The `deck` column has **77.2%** missing values.\n",
        "- **Imputation Strategy**: Given the high percentage, imputing is not ideal. We will **drop** the column instead.\n",
        "- **Action**: Drop the `deck` column from the dataset.\n"
      ]
    },
    {
      "cell_type": "code",
      "execution_count": 30,
      "metadata": {
        "colab": {
          "base_uri": "https://localhost:8080/",
          "height": 423
        },
        "id": "5PZXMKDnXxHC",
        "outputId": "7d240cd0-d5fa-44ad-e9c9-4b1a7f6a1f9a"
      },
      "outputs": [
        {
          "data": {
            "text/html": [
              "<div>\n",
              "<style scoped>\n",
              "    .dataframe tbody tr th:only-of-type {\n",
              "        vertical-align: middle;\n",
              "    }\n",
              "\n",
              "    .dataframe tbody tr th {\n",
              "        vertical-align: top;\n",
              "    }\n",
              "\n",
              "    .dataframe thead th {\n",
              "        text-align: right;\n",
              "    }\n",
              "</style>\n",
              "<table border=\"1\" class=\"dataframe\">\n",
              "  <thead>\n",
              "    <tr style=\"text-align: right;\">\n",
              "      <th></th>\n",
              "      <th>survived</th>\n",
              "      <th>pclass</th>\n",
              "      <th>sex</th>\n",
              "      <th>age</th>\n",
              "      <th>sibsp</th>\n",
              "      <th>parch</th>\n",
              "      <th>fare</th>\n",
              "      <th>embarked</th>\n",
              "      <th>class</th>\n",
              "      <th>who</th>\n",
              "      <th>adult_male</th>\n",
              "      <th>embark_town</th>\n",
              "      <th>alive</th>\n",
              "      <th>alone</th>\n",
              "    </tr>\n",
              "  </thead>\n",
              "  <tbody>\n",
              "    <tr>\n",
              "      <th>0</th>\n",
              "      <td>0</td>\n",
              "      <td>3</td>\n",
              "      <td>male</td>\n",
              "      <td>22.0</td>\n",
              "      <td>1</td>\n",
              "      <td>0</td>\n",
              "      <td>7.2500</td>\n",
              "      <td>S</td>\n",
              "      <td>Third</td>\n",
              "      <td>man</td>\n",
              "      <td>True</td>\n",
              "      <td>Southampton</td>\n",
              "      <td>no</td>\n",
              "      <td>False</td>\n",
              "    </tr>\n",
              "    <tr>\n",
              "      <th>1</th>\n",
              "      <td>1</td>\n",
              "      <td>1</td>\n",
              "      <td>female</td>\n",
              "      <td>38.0</td>\n",
              "      <td>1</td>\n",
              "      <td>0</td>\n",
              "      <td>71.2833</td>\n",
              "      <td>C</td>\n",
              "      <td>First</td>\n",
              "      <td>woman</td>\n",
              "      <td>False</td>\n",
              "      <td>Cherbourg</td>\n",
              "      <td>yes</td>\n",
              "      <td>False</td>\n",
              "    </tr>\n",
              "    <tr>\n",
              "      <th>2</th>\n",
              "      <td>1</td>\n",
              "      <td>3</td>\n",
              "      <td>female</td>\n",
              "      <td>26.0</td>\n",
              "      <td>0</td>\n",
              "      <td>0</td>\n",
              "      <td>7.9250</td>\n",
              "      <td>S</td>\n",
              "      <td>Third</td>\n",
              "      <td>woman</td>\n",
              "      <td>False</td>\n",
              "      <td>Southampton</td>\n",
              "      <td>yes</td>\n",
              "      <td>True</td>\n",
              "    </tr>\n",
              "    <tr>\n",
              "      <th>3</th>\n",
              "      <td>1</td>\n",
              "      <td>1</td>\n",
              "      <td>female</td>\n",
              "      <td>35.0</td>\n",
              "      <td>1</td>\n",
              "      <td>0</td>\n",
              "      <td>53.1000</td>\n",
              "      <td>S</td>\n",
              "      <td>First</td>\n",
              "      <td>woman</td>\n",
              "      <td>False</td>\n",
              "      <td>Southampton</td>\n",
              "      <td>yes</td>\n",
              "      <td>False</td>\n",
              "    </tr>\n",
              "    <tr>\n",
              "      <th>4</th>\n",
              "      <td>0</td>\n",
              "      <td>3</td>\n",
              "      <td>male</td>\n",
              "      <td>35.0</td>\n",
              "      <td>0</td>\n",
              "      <td>0</td>\n",
              "      <td>8.0500</td>\n",
              "      <td>S</td>\n",
              "      <td>Third</td>\n",
              "      <td>man</td>\n",
              "      <td>True</td>\n",
              "      <td>Southampton</td>\n",
              "      <td>no</td>\n",
              "      <td>True</td>\n",
              "    </tr>\n",
              "    <tr>\n",
              "      <th>...</th>\n",
              "      <td>...</td>\n",
              "      <td>...</td>\n",
              "      <td>...</td>\n",
              "      <td>...</td>\n",
              "      <td>...</td>\n",
              "      <td>...</td>\n",
              "      <td>...</td>\n",
              "      <td>...</td>\n",
              "      <td>...</td>\n",
              "      <td>...</td>\n",
              "      <td>...</td>\n",
              "      <td>...</td>\n",
              "      <td>...</td>\n",
              "      <td>...</td>\n",
              "    </tr>\n",
              "    <tr>\n",
              "      <th>885</th>\n",
              "      <td>0</td>\n",
              "      <td>3</td>\n",
              "      <td>female</td>\n",
              "      <td>39.0</td>\n",
              "      <td>0</td>\n",
              "      <td>5</td>\n",
              "      <td>29.1250</td>\n",
              "      <td>Q</td>\n",
              "      <td>Third</td>\n",
              "      <td>woman</td>\n",
              "      <td>False</td>\n",
              "      <td>Queenstown</td>\n",
              "      <td>no</td>\n",
              "      <td>False</td>\n",
              "    </tr>\n",
              "    <tr>\n",
              "      <th>887</th>\n",
              "      <td>1</td>\n",
              "      <td>1</td>\n",
              "      <td>female</td>\n",
              "      <td>19.0</td>\n",
              "      <td>0</td>\n",
              "      <td>0</td>\n",
              "      <td>30.0000</td>\n",
              "      <td>S</td>\n",
              "      <td>First</td>\n",
              "      <td>woman</td>\n",
              "      <td>False</td>\n",
              "      <td>Southampton</td>\n",
              "      <td>yes</td>\n",
              "      <td>True</td>\n",
              "    </tr>\n",
              "    <tr>\n",
              "      <th>888</th>\n",
              "      <td>0</td>\n",
              "      <td>3</td>\n",
              "      <td>female</td>\n",
              "      <td>24.0</td>\n",
              "      <td>1</td>\n",
              "      <td>2</td>\n",
              "      <td>23.4500</td>\n",
              "      <td>S</td>\n",
              "      <td>Third</td>\n",
              "      <td>woman</td>\n",
              "      <td>False</td>\n",
              "      <td>Southampton</td>\n",
              "      <td>no</td>\n",
              "      <td>False</td>\n",
              "    </tr>\n",
              "    <tr>\n",
              "      <th>889</th>\n",
              "      <td>1</td>\n",
              "      <td>1</td>\n",
              "      <td>male</td>\n",
              "      <td>26.0</td>\n",
              "      <td>0</td>\n",
              "      <td>0</td>\n",
              "      <td>30.0000</td>\n",
              "      <td>C</td>\n",
              "      <td>First</td>\n",
              "      <td>man</td>\n",
              "      <td>True</td>\n",
              "      <td>Cherbourg</td>\n",
              "      <td>yes</td>\n",
              "      <td>True</td>\n",
              "    </tr>\n",
              "    <tr>\n",
              "      <th>890</th>\n",
              "      <td>0</td>\n",
              "      <td>3</td>\n",
              "      <td>male</td>\n",
              "      <td>32.0</td>\n",
              "      <td>0</td>\n",
              "      <td>0</td>\n",
              "      <td>7.7500</td>\n",
              "      <td>Q</td>\n",
              "      <td>Third</td>\n",
              "      <td>man</td>\n",
              "      <td>True</td>\n",
              "      <td>Queenstown</td>\n",
              "      <td>no</td>\n",
              "      <td>True</td>\n",
              "    </tr>\n",
              "  </tbody>\n",
              "</table>\n",
              "<p>784 rows × 14 columns</p>\n",
              "</div>"
            ],
            "text/plain": [
              "     survived  pclass     sex   age  sibsp  parch     fare embarked  class  \\\n",
              "0           0       3    male  22.0      1      0   7.2500        S  Third   \n",
              "1           1       1  female  38.0      1      0  71.2833        C  First   \n",
              "2           1       3  female  26.0      0      0   7.9250        S  Third   \n",
              "3           1       1  female  35.0      1      0  53.1000        S  First   \n",
              "4           0       3    male  35.0      0      0   8.0500        S  Third   \n",
              "..        ...     ...     ...   ...    ...    ...      ...      ...    ...   \n",
              "885         0       3  female  39.0      0      5  29.1250        Q  Third   \n",
              "887         1       1  female  19.0      0      0  30.0000        S  First   \n",
              "888         0       3  female  24.0      1      2  23.4500        S  Third   \n",
              "889         1       1    male  26.0      0      0  30.0000        C  First   \n",
              "890         0       3    male  32.0      0      0   7.7500        Q  Third   \n",
              "\n",
              "       who  adult_male  embark_town alive  alone  \n",
              "0      man        True  Southampton    no  False  \n",
              "1    woman       False    Cherbourg   yes  False  \n",
              "2    woman       False  Southampton   yes   True  \n",
              "3    woman       False  Southampton   yes  False  \n",
              "4      man        True  Southampton    no   True  \n",
              "..     ...         ...          ...   ...    ...  \n",
              "885  woman       False   Queenstown    no  False  \n",
              "887  woman       False  Southampton   yes   True  \n",
              "888  woman       False  Southampton    no  False  \n",
              "889    man        True    Cherbourg   yes   True  \n",
              "890    man        True   Queenstown    no   True  \n",
              "\n",
              "[784 rows x 14 columns]"
            ]
          },
          "execution_count": 30,
          "metadata": {},
          "output_type": "execute_result"
        }
      ],
      "source": [
        "df.drop('deck', axis=1, inplace=True)\n",
        "df\n"
      ]
    },
    {
      "cell_type": "code",
      "execution_count": 31,
      "metadata": {
        "colab": {
          "base_uri": "https://localhost:8080/",
          "height": 523
        },
        "id": "rs-YXQVjO28t",
        "outputId": "b5946349-fdff-469a-b10b-0021af913b80"
      },
      "outputs": [
        {
          "data": {
            "text/plain": [
              "survived       0\n",
              "pclass         0\n",
              "sex            0\n",
              "age            0\n",
              "sibsp          0\n",
              "parch          0\n",
              "fare           0\n",
              "embarked       0\n",
              "class          0\n",
              "who            0\n",
              "adult_male     0\n",
              "embark_town    0\n",
              "alive          0\n",
              "alone          0\n",
              "dtype: int64"
            ]
          },
          "execution_count": 31,
          "metadata": {},
          "output_type": "execute_result"
        }
      ],
      "source": [
        "df.isnull().sum()"
      ]
    },
    {
      "cell_type": "markdown",
      "metadata": {
        "id": "3S6BN0hBEmER"
      },
      "source": []
    },
    {
      "cell_type": "markdown",
      "metadata": {
        "id": "cHytrsNxaQDU"
      },
      "source": [
        "###Categorical Vairiables\n",
        "#####a) Inconsistencies"
      ]
    },
    {
      "cell_type": "code",
      "execution_count": 32,
      "metadata": {
        "colab": {
          "base_uri": "https://localhost:8080/"
        },
        "id": "-b3YrNPIaXSI",
        "outputId": "d7872ed8-298c-40c3-ecf4-764036cba368"
      },
      "outputs": [
        {
          "name": "stdout",
          "output_type": "stream",
          "text": [
            "['male' 'female']\n"
          ]
        }
      ],
      "source": [
        "print(df['sex'].unique())"
      ]
    },
    {
      "cell_type": "code",
      "execution_count": 33,
      "metadata": {
        "colab": {
          "base_uri": "https://localhost:8080/",
          "height": 458
        },
        "id": "Tk6H_tLLaxj4",
        "outputId": "b1f95f66-3238-4301-c176-8785f48d42ce"
      },
      "outputs": [
        {
          "data": {
            "text/plain": [
              "0        male\n",
              "1      female\n",
              "2      female\n",
              "3      female\n",
              "4        male\n",
              "        ...  \n",
              "885    female\n",
              "887    female\n",
              "888    female\n",
              "889      male\n",
              "890      male\n",
              "Name: sex, Length: 784, dtype: object"
            ]
          },
          "execution_count": 33,
          "metadata": {},
          "output_type": "execute_result"
        }
      ],
      "source": [
        "# Standardize 'sex' values (convert to lowercase and strip any whitespace)\n",
        "df['sex'] = df['sex'].str.lower().str.strip()\n",
        "df['sex']"
      ]
    },
    {
      "cell_type": "code",
      "execution_count": 34,
      "metadata": {
        "colab": {
          "base_uri": "https://localhost:8080/"
        },
        "id": "IcaWdYG9a5ge",
        "outputId": "4e5f8fd2-947e-43a4-add2-75717aa435ce"
      },
      "outputs": [
        {
          "name": "stdout",
          "output_type": "stream",
          "text": [
            "['S' 'C' 'Q']\n"
          ]
        }
      ],
      "source": [
        "# Check for inconsistent values in 'embarked' column\n",
        "print(df['embarked'].unique())"
      ]
    },
    {
      "cell_type": "code",
      "execution_count": 35,
      "metadata": {
        "colab": {
          "base_uri": "https://localhost:8080/",
          "height": 458
        },
        "id": "3AZ05hP5bFds",
        "outputId": "a461d51d-e47c-4888-902b-be4326ba14fd"
      },
      "outputs": [
        {
          "data": {
            "text/plain": [
              "0      S\n",
              "1      C\n",
              "2      S\n",
              "3      S\n",
              "4      S\n",
              "      ..\n",
              "885    Q\n",
              "887    S\n",
              "888    S\n",
              "889    C\n",
              "890    Q\n",
              "Name: embarked, Length: 784, dtype: object"
            ]
          },
          "execution_count": 35,
          "metadata": {},
          "output_type": "execute_result"
        }
      ],
      "source": [
        "# Standardize 'embarked' values (convert to uppercase and strip any whitespace)\n",
        "df['embarked'] = df['embarked'].str.upper().str.strip()\n",
        "df['embarked']"
      ]
    },
    {
      "cell_type": "code",
      "execution_count": 36,
      "metadata": {
        "colab": {
          "base_uri": "https://localhost:8080/",
          "height": 423
        },
        "id": "5cyPdJgobLRO",
        "outputId": "9af1ddd2-ffad-4376-e59f-4fe4eda59131"
      },
      "outputs": [
        {
          "data": {
            "text/html": [
              "<div>\n",
              "<style scoped>\n",
              "    .dataframe tbody tr th:only-of-type {\n",
              "        vertical-align: middle;\n",
              "    }\n",
              "\n",
              "    .dataframe tbody tr th {\n",
              "        vertical-align: top;\n",
              "    }\n",
              "\n",
              "    .dataframe thead th {\n",
              "        text-align: right;\n",
              "    }\n",
              "</style>\n",
              "<table border=\"1\" class=\"dataframe\">\n",
              "  <thead>\n",
              "    <tr style=\"text-align: right;\">\n",
              "      <th></th>\n",
              "      <th>survived</th>\n",
              "      <th>pclass</th>\n",
              "      <th>sex</th>\n",
              "      <th>age</th>\n",
              "      <th>sibsp</th>\n",
              "      <th>parch</th>\n",
              "      <th>fare</th>\n",
              "      <th>embarked</th>\n",
              "      <th>class</th>\n",
              "      <th>who</th>\n",
              "      <th>adult_male</th>\n",
              "      <th>embark_town</th>\n",
              "      <th>alive</th>\n",
              "      <th>alone</th>\n",
              "    </tr>\n",
              "  </thead>\n",
              "  <tbody>\n",
              "    <tr>\n",
              "      <th>0</th>\n",
              "      <td>0</td>\n",
              "      <td>3</td>\n",
              "      <td>male</td>\n",
              "      <td>22.0</td>\n",
              "      <td>1</td>\n",
              "      <td>0</td>\n",
              "      <td>7.2500</td>\n",
              "      <td>S</td>\n",
              "      <td>Third</td>\n",
              "      <td>man</td>\n",
              "      <td>True</td>\n",
              "      <td>Southampton</td>\n",
              "      <td>no</td>\n",
              "      <td>False</td>\n",
              "    </tr>\n",
              "    <tr>\n",
              "      <th>1</th>\n",
              "      <td>1</td>\n",
              "      <td>1</td>\n",
              "      <td>female</td>\n",
              "      <td>38.0</td>\n",
              "      <td>1</td>\n",
              "      <td>0</td>\n",
              "      <td>71.2833</td>\n",
              "      <td>C</td>\n",
              "      <td>First</td>\n",
              "      <td>woman</td>\n",
              "      <td>False</td>\n",
              "      <td>Cherbourg</td>\n",
              "      <td>yes</td>\n",
              "      <td>False</td>\n",
              "    </tr>\n",
              "    <tr>\n",
              "      <th>2</th>\n",
              "      <td>1</td>\n",
              "      <td>3</td>\n",
              "      <td>female</td>\n",
              "      <td>26.0</td>\n",
              "      <td>0</td>\n",
              "      <td>0</td>\n",
              "      <td>7.9250</td>\n",
              "      <td>S</td>\n",
              "      <td>Third</td>\n",
              "      <td>woman</td>\n",
              "      <td>False</td>\n",
              "      <td>Southampton</td>\n",
              "      <td>yes</td>\n",
              "      <td>True</td>\n",
              "    </tr>\n",
              "    <tr>\n",
              "      <th>3</th>\n",
              "      <td>1</td>\n",
              "      <td>1</td>\n",
              "      <td>female</td>\n",
              "      <td>35.0</td>\n",
              "      <td>1</td>\n",
              "      <td>0</td>\n",
              "      <td>53.1000</td>\n",
              "      <td>S</td>\n",
              "      <td>First</td>\n",
              "      <td>woman</td>\n",
              "      <td>False</td>\n",
              "      <td>Southampton</td>\n",
              "      <td>yes</td>\n",
              "      <td>False</td>\n",
              "    </tr>\n",
              "    <tr>\n",
              "      <th>4</th>\n",
              "      <td>0</td>\n",
              "      <td>3</td>\n",
              "      <td>male</td>\n",
              "      <td>35.0</td>\n",
              "      <td>0</td>\n",
              "      <td>0</td>\n",
              "      <td>8.0500</td>\n",
              "      <td>S</td>\n",
              "      <td>Third</td>\n",
              "      <td>man</td>\n",
              "      <td>True</td>\n",
              "      <td>Southampton</td>\n",
              "      <td>no</td>\n",
              "      <td>True</td>\n",
              "    </tr>\n",
              "    <tr>\n",
              "      <th>...</th>\n",
              "      <td>...</td>\n",
              "      <td>...</td>\n",
              "      <td>...</td>\n",
              "      <td>...</td>\n",
              "      <td>...</td>\n",
              "      <td>...</td>\n",
              "      <td>...</td>\n",
              "      <td>...</td>\n",
              "      <td>...</td>\n",
              "      <td>...</td>\n",
              "      <td>...</td>\n",
              "      <td>...</td>\n",
              "      <td>...</td>\n",
              "      <td>...</td>\n",
              "    </tr>\n",
              "    <tr>\n",
              "      <th>885</th>\n",
              "      <td>0</td>\n",
              "      <td>3</td>\n",
              "      <td>female</td>\n",
              "      <td>39.0</td>\n",
              "      <td>0</td>\n",
              "      <td>5</td>\n",
              "      <td>29.1250</td>\n",
              "      <td>Q</td>\n",
              "      <td>Third</td>\n",
              "      <td>woman</td>\n",
              "      <td>False</td>\n",
              "      <td>Queenstown</td>\n",
              "      <td>no</td>\n",
              "      <td>False</td>\n",
              "    </tr>\n",
              "    <tr>\n",
              "      <th>887</th>\n",
              "      <td>1</td>\n",
              "      <td>1</td>\n",
              "      <td>female</td>\n",
              "      <td>19.0</td>\n",
              "      <td>0</td>\n",
              "      <td>0</td>\n",
              "      <td>30.0000</td>\n",
              "      <td>S</td>\n",
              "      <td>First</td>\n",
              "      <td>woman</td>\n",
              "      <td>False</td>\n",
              "      <td>Southampton</td>\n",
              "      <td>yes</td>\n",
              "      <td>True</td>\n",
              "    </tr>\n",
              "    <tr>\n",
              "      <th>888</th>\n",
              "      <td>0</td>\n",
              "      <td>3</td>\n",
              "      <td>female</td>\n",
              "      <td>24.0</td>\n",
              "      <td>1</td>\n",
              "      <td>2</td>\n",
              "      <td>23.4500</td>\n",
              "      <td>S</td>\n",
              "      <td>Third</td>\n",
              "      <td>woman</td>\n",
              "      <td>False</td>\n",
              "      <td>Southampton</td>\n",
              "      <td>no</td>\n",
              "      <td>False</td>\n",
              "    </tr>\n",
              "    <tr>\n",
              "      <th>889</th>\n",
              "      <td>1</td>\n",
              "      <td>1</td>\n",
              "      <td>male</td>\n",
              "      <td>26.0</td>\n",
              "      <td>0</td>\n",
              "      <td>0</td>\n",
              "      <td>30.0000</td>\n",
              "      <td>C</td>\n",
              "      <td>First</td>\n",
              "      <td>man</td>\n",
              "      <td>True</td>\n",
              "      <td>Cherbourg</td>\n",
              "      <td>yes</td>\n",
              "      <td>True</td>\n",
              "    </tr>\n",
              "    <tr>\n",
              "      <th>890</th>\n",
              "      <td>0</td>\n",
              "      <td>3</td>\n",
              "      <td>male</td>\n",
              "      <td>32.0</td>\n",
              "      <td>0</td>\n",
              "      <td>0</td>\n",
              "      <td>7.7500</td>\n",
              "      <td>Q</td>\n",
              "      <td>Third</td>\n",
              "      <td>man</td>\n",
              "      <td>True</td>\n",
              "      <td>Queenstown</td>\n",
              "      <td>no</td>\n",
              "      <td>True</td>\n",
              "    </tr>\n",
              "  </tbody>\n",
              "</table>\n",
              "<p>784 rows × 14 columns</p>\n",
              "</div>"
            ],
            "text/plain": [
              "     survived  pclass     sex   age  sibsp  parch     fare embarked  class  \\\n",
              "0           0       3    male  22.0      1      0   7.2500        S  Third   \n",
              "1           1       1  female  38.0      1      0  71.2833        C  First   \n",
              "2           1       3  female  26.0      0      0   7.9250        S  Third   \n",
              "3           1       1  female  35.0      1      0  53.1000        S  First   \n",
              "4           0       3    male  35.0      0      0   8.0500        S  Third   \n",
              "..        ...     ...     ...   ...    ...    ...      ...      ...    ...   \n",
              "885         0       3  female  39.0      0      5  29.1250        Q  Third   \n",
              "887         1       1  female  19.0      0      0  30.0000        S  First   \n",
              "888         0       3  female  24.0      1      2  23.4500        S  Third   \n",
              "889         1       1    male  26.0      0      0  30.0000        C  First   \n",
              "890         0       3    male  32.0      0      0   7.7500        Q  Third   \n",
              "\n",
              "       who  adult_male  embark_town alive  alone  \n",
              "0      man        True  Southampton    no  False  \n",
              "1    woman       False    Cherbourg   yes  False  \n",
              "2    woman       False  Southampton   yes   True  \n",
              "3    woman       False  Southampton   yes  False  \n",
              "4      man        True  Southampton    no   True  \n",
              "..     ...         ...          ...   ...    ...  \n",
              "885  woman       False   Queenstown    no  False  \n",
              "887  woman       False  Southampton   yes   True  \n",
              "888  woman       False  Southampton    no  False  \n",
              "889    man        True    Cherbourg   yes   True  \n",
              "890    man        True   Queenstown    no   True  \n",
              "\n",
              "[784 rows x 14 columns]"
            ]
          },
          "execution_count": 36,
          "metadata": {},
          "output_type": "execute_result"
        }
      ],
      "source": [
        "# Ensure valid categories for 'embarked' (C, Q, S)\n",
        "valid_embarked = ['C', 'Q', 'S']\n",
        "df = df[df['embarked'].isin(valid_embarked)]\n",
        "df"
      ]
    },
    {
      "cell_type": "code",
      "execution_count": 37,
      "metadata": {
        "colab": {
          "base_uri": "https://localhost:8080/"
        },
        "id": "PQANmeN_bjC4",
        "outputId": "975b58fb-379f-4881-cd8d-0f9e0ebd39c7"
      },
      "outputs": [
        {
          "name": "stdout",
          "output_type": "stream",
          "text": [
            "['man' 'woman' 'child']\n"
          ]
        }
      ],
      "source": [
        "# Check unique values for 'who' column\n",
        "print(df['who'].unique())\n"
      ]
    },
    {
      "cell_type": "code",
      "execution_count": 38,
      "metadata": {
        "colab": {
          "base_uri": "https://localhost:8080/"
        },
        "id": "fYLxjkVHbln6",
        "outputId": "18b9a482-51cf-47c3-fee7-988b1073088f"
      },
      "outputs": [
        {
          "name": "stdout",
          "output_type": "stream",
          "text": [
            "['Southampton' 'Cherbourg' 'Queenstown']\n"
          ]
        }
      ],
      "source": [
        "\n",
        "# Check unique values for 'embark_town' column\n",
        "print(df['embark_town'].unique())\n"
      ]
    },
    {
      "cell_type": "code",
      "execution_count": 39,
      "metadata": {
        "colab": {
          "base_uri": "https://localhost:8080/"
        },
        "id": "mmTDkGzEbnxA",
        "outputId": "460cebce-4877-4e21-e3b1-6b730eed776c"
      },
      "outputs": [
        {
          "name": "stdout",
          "output_type": "stream",
          "text": [
            "['no' 'yes']\n"
          ]
        }
      ],
      "source": [
        "# Check unique values for 'alive' column (Yes/No)\n",
        "print(df['alive'].unique())\n"
      ]
    },
    {
      "cell_type": "code",
      "execution_count": 40,
      "metadata": {
        "colab": {
          "base_uri": "https://localhost:8080/",
          "height": 458
        },
        "id": "nqOY5_nLbqxx",
        "outputId": "32814582-09bb-4007-a57d-f27ee48cf4be"
      },
      "outputs": [
        {
          "data": {
            "text/plain": [
              "0       no\n",
              "1      yes\n",
              "2      yes\n",
              "3      yes\n",
              "4       no\n",
              "      ... \n",
              "885     no\n",
              "887    yes\n",
              "888     no\n",
              "889    yes\n",
              "890     no\n",
              "Name: alive, Length: 784, dtype: object"
            ]
          },
          "execution_count": 40,
          "metadata": {},
          "output_type": "execute_result"
        }
      ],
      "source": [
        "# Standardize 'alive' values to lowercase and strip spaces\n",
        "df['alive'] = df['alive'].str.lower().str.strip()\n",
        "df['alive']"
      ]
    },
    {
      "cell_type": "code",
      "execution_count": 41,
      "metadata": {
        "colab": {
          "base_uri": "https://localhost:8080/"
        },
        "id": "0DhSE8YPb6GD",
        "outputId": "3f96f8eb-1e64-4729-87fd-45adf9e706b0"
      },
      "outputs": [
        {
          "name": "stdout",
          "output_type": "stream",
          "text": [
            "Empty DataFrame\n",
            "Columns: [survived, pclass, sex, age, sibsp, parch, fare, embarked, class, who, adult_male, embark_town, alive, alone]\n",
            "Index: []\n"
          ]
        }
      ],
      "source": [
        "# Check if 'fare' contains any negative values\n",
        "print(df[df['fare'] < 0])"
      ]
    },
    {
      "cell_type": "code",
      "execution_count": 42,
      "metadata": {
        "id": "aiWtcKADb-js"
      },
      "outputs": [],
      "source": [
        "# Handle negative 'fare' values (e.g., set them to NaN)\n",
        "df.loc[df['fare'] < 0, 'fare'] = None\n"
      ]
    },
    {
      "cell_type": "code",
      "execution_count": 43,
      "metadata": {
        "colab": {
          "base_uri": "https://localhost:8080/"
        },
        "id": "SMV_hcJQb-sz",
        "outputId": "e9fc582b-3192-4898-e929-a3c61f3be10c"
      },
      "outputs": [
        {
          "name": "stdout",
          "output_type": "stream",
          "text": [
            "Empty DataFrame\n",
            "Columns: [survived, pclass, sex, age, sibsp, parch, fare, embarked, class, who, adult_male, embark_town, alive, alone]\n",
            "Index: []\n"
          ]
        }
      ],
      "source": [
        "# Check if 'age' contains any unrealistic values (greater than 100 or negative)\n",
        "print(df[(df['age'] < 0) | (df['age'] > 100)])\n"
      ]
    },
    {
      "cell_type": "code",
      "execution_count": 44,
      "metadata": {
        "id": "q1V7OTV6cGDT"
      },
      "outputs": [],
      "source": [
        "# Handle unrealistic 'age' values (e.g., set them to NaN)\n",
        "df.loc[(df['age'] < 0) | (df['age'] > 100), 'age'] = None\n"
      ]
    },
    {
      "cell_type": "markdown",
      "metadata": {
        "id": "TqBJns66dcpP"
      },
      "source": [
        "### Encoding\n",
        "\n",
        "####a) Label Encoding"
      ]
    },
    {
      "cell_type": "code",
      "execution_count": 45,
      "metadata": {
        "colab": {
          "base_uri": "https://localhost:8080/"
        },
        "id": "Pos7ZcTxdi_A",
        "outputId": "5084eb36-c729-455c-8a35-f8a6aa2b2cb0"
      },
      "outputs": [
        {
          "name": "stdout",
          "output_type": "stream",
          "text": [
            "    pclass  sex\n",
            "0        2    1\n",
            "1        0    0\n",
            "2        2    0\n",
            "3        0    0\n",
            "4        2    1\n",
            "5        2    1\n",
            "6        0    1\n",
            "7        2    1\n",
            "8        2    0\n",
            "9        1    0\n",
            "10       2    0\n",
            "11       0    0\n",
            "12       2    1\n",
            "13       2    1\n",
            "14       2    0\n",
            "15       1    0\n",
            "16       2    1\n",
            "17       1    1\n",
            "18       2    0\n",
            "19       2    0\n"
          ]
        }
      ],
      "source": [
        "from sklearn.preprocessing import LabelEncoder\n",
        "\n",
        "# Create a LabelEncoder object\n",
        "label_encoder = LabelEncoder()\n",
        "\n",
        "# Label encode 'pclass' and 'sex'\n",
        "df['pclass'] = label_encoder.fit_transform(df['pclass'])\n",
        "df['sex'] = label_encoder.fit_transform(df['sex'])\n",
        "\n",
        "# Check the encoding\n",
        "print(df[['pclass', 'sex']].head(20))\n"
      ]
    },
    {
      "cell_type": "markdown",
      "metadata": {
        "id": "7xElM8X9d3tN"
      },
      "source": [
        "###b)Mapping"
      ]
    },
    {
      "cell_type": "code",
      "execution_count": 46,
      "metadata": {
        "colab": {
          "base_uri": "https://localhost:8080/",
          "height": 458
        },
        "id": "aMYqak_xd9Ov",
        "outputId": "abc8b493-a281-4e4e-89e4-eb7d98801943"
      },
      "outputs": [
        {
          "data": {
            "text/plain": [
              "0      2\n",
              "1      0\n",
              "2      2\n",
              "3      2\n",
              "4      2\n",
              "      ..\n",
              "885    1\n",
              "887    2\n",
              "888    2\n",
              "889    0\n",
              "890    1\n",
              "Name: embarked, Length: 784, dtype: int64"
            ]
          },
          "execution_count": 46,
          "metadata": {},
          "output_type": "execute_result"
        }
      ],
      "source": [
        "# Mapping the 'embarked' column (C, Q, S)\n",
        "df['embarked'] = df['embarked'].map({'C': 0, 'Q': 1, 'S': 2})\n",
        "df['embarked']"
      ]
    },
    {
      "cell_type": "code",
      "execution_count": 47,
      "metadata": {
        "colab": {
          "base_uri": "https://localhost:8080/",
          "height": 458
        },
        "id": "0BEUrKN6fiVI",
        "outputId": "793e4b11-330b-42df-88cf-6b464d498cbc"
      },
      "outputs": [
        {
          "data": {
            "text/plain": [
              "0      0\n",
              "1      1\n",
              "2      0\n",
              "3      0\n",
              "4      0\n",
              "      ..\n",
              "885    2\n",
              "887    0\n",
              "888    0\n",
              "889    1\n",
              "890    2\n",
              "Name: embark_town, Length: 784, dtype: int64"
            ]
          },
          "execution_count": 47,
          "metadata": {},
          "output_type": "execute_result"
        }
      ],
      "source": [
        "# Mapping the 'embark_town' column (Southampton, Cherbourg, Queenstown)\n",
        "df['embark_town'] = df['embark_town'].map({'Southampton': 0, 'Cherbourg': 1, 'Queenstown': 2})\n",
        "df['embark_town']"
      ]
    },
    {
      "cell_type": "code",
      "execution_count": 48,
      "metadata": {
        "colab": {
          "base_uri": "https://localhost:8080/",
          "height": 423
        },
        "id": "13f_XwR8ch3O",
        "outputId": "ba493ad4-1db4-4698-860d-d7642f2b8378"
      },
      "outputs": [
        {
          "data": {
            "text/html": [
              "<div>\n",
              "<style scoped>\n",
              "    .dataframe tbody tr th:only-of-type {\n",
              "        vertical-align: middle;\n",
              "    }\n",
              "\n",
              "    .dataframe tbody tr th {\n",
              "        vertical-align: top;\n",
              "    }\n",
              "\n",
              "    .dataframe thead th {\n",
              "        text-align: right;\n",
              "    }\n",
              "</style>\n",
              "<table border=\"1\" class=\"dataframe\">\n",
              "  <thead>\n",
              "    <tr style=\"text-align: right;\">\n",
              "      <th></th>\n",
              "      <th>survived</th>\n",
              "      <th>pclass</th>\n",
              "      <th>sex</th>\n",
              "      <th>age</th>\n",
              "      <th>sibsp</th>\n",
              "      <th>parch</th>\n",
              "      <th>fare</th>\n",
              "      <th>embarked</th>\n",
              "      <th>class</th>\n",
              "      <th>who</th>\n",
              "      <th>adult_male</th>\n",
              "      <th>embark_town</th>\n",
              "      <th>alive</th>\n",
              "      <th>alone</th>\n",
              "    </tr>\n",
              "  </thead>\n",
              "  <tbody>\n",
              "    <tr>\n",
              "      <th>0</th>\n",
              "      <td>0</td>\n",
              "      <td>2</td>\n",
              "      <td>1</td>\n",
              "      <td>22.0</td>\n",
              "      <td>1</td>\n",
              "      <td>0</td>\n",
              "      <td>7.2500</td>\n",
              "      <td>2</td>\n",
              "      <td>Third</td>\n",
              "      <td>man</td>\n",
              "      <td>True</td>\n",
              "      <td>0</td>\n",
              "      <td>no</td>\n",
              "      <td>False</td>\n",
              "    </tr>\n",
              "    <tr>\n",
              "      <th>1</th>\n",
              "      <td>1</td>\n",
              "      <td>0</td>\n",
              "      <td>0</td>\n",
              "      <td>38.0</td>\n",
              "      <td>1</td>\n",
              "      <td>0</td>\n",
              "      <td>71.2833</td>\n",
              "      <td>0</td>\n",
              "      <td>First</td>\n",
              "      <td>woman</td>\n",
              "      <td>False</td>\n",
              "      <td>1</td>\n",
              "      <td>yes</td>\n",
              "      <td>False</td>\n",
              "    </tr>\n",
              "    <tr>\n",
              "      <th>2</th>\n",
              "      <td>1</td>\n",
              "      <td>2</td>\n",
              "      <td>0</td>\n",
              "      <td>26.0</td>\n",
              "      <td>0</td>\n",
              "      <td>0</td>\n",
              "      <td>7.9250</td>\n",
              "      <td>2</td>\n",
              "      <td>Third</td>\n",
              "      <td>woman</td>\n",
              "      <td>False</td>\n",
              "      <td>0</td>\n",
              "      <td>yes</td>\n",
              "      <td>True</td>\n",
              "    </tr>\n",
              "    <tr>\n",
              "      <th>3</th>\n",
              "      <td>1</td>\n",
              "      <td>0</td>\n",
              "      <td>0</td>\n",
              "      <td>35.0</td>\n",
              "      <td>1</td>\n",
              "      <td>0</td>\n",
              "      <td>53.1000</td>\n",
              "      <td>2</td>\n",
              "      <td>First</td>\n",
              "      <td>woman</td>\n",
              "      <td>False</td>\n",
              "      <td>0</td>\n",
              "      <td>yes</td>\n",
              "      <td>False</td>\n",
              "    </tr>\n",
              "    <tr>\n",
              "      <th>4</th>\n",
              "      <td>0</td>\n",
              "      <td>2</td>\n",
              "      <td>1</td>\n",
              "      <td>35.0</td>\n",
              "      <td>0</td>\n",
              "      <td>0</td>\n",
              "      <td>8.0500</td>\n",
              "      <td>2</td>\n",
              "      <td>Third</td>\n",
              "      <td>man</td>\n",
              "      <td>True</td>\n",
              "      <td>0</td>\n",
              "      <td>no</td>\n",
              "      <td>True</td>\n",
              "    </tr>\n",
              "    <tr>\n",
              "      <th>...</th>\n",
              "      <td>...</td>\n",
              "      <td>...</td>\n",
              "      <td>...</td>\n",
              "      <td>...</td>\n",
              "      <td>...</td>\n",
              "      <td>...</td>\n",
              "      <td>...</td>\n",
              "      <td>...</td>\n",
              "      <td>...</td>\n",
              "      <td>...</td>\n",
              "      <td>...</td>\n",
              "      <td>...</td>\n",
              "      <td>...</td>\n",
              "      <td>...</td>\n",
              "    </tr>\n",
              "    <tr>\n",
              "      <th>885</th>\n",
              "      <td>0</td>\n",
              "      <td>2</td>\n",
              "      <td>0</td>\n",
              "      <td>39.0</td>\n",
              "      <td>0</td>\n",
              "      <td>5</td>\n",
              "      <td>29.1250</td>\n",
              "      <td>1</td>\n",
              "      <td>Third</td>\n",
              "      <td>woman</td>\n",
              "      <td>False</td>\n",
              "      <td>2</td>\n",
              "      <td>no</td>\n",
              "      <td>False</td>\n",
              "    </tr>\n",
              "    <tr>\n",
              "      <th>887</th>\n",
              "      <td>1</td>\n",
              "      <td>0</td>\n",
              "      <td>0</td>\n",
              "      <td>19.0</td>\n",
              "      <td>0</td>\n",
              "      <td>0</td>\n",
              "      <td>30.0000</td>\n",
              "      <td>2</td>\n",
              "      <td>First</td>\n",
              "      <td>woman</td>\n",
              "      <td>False</td>\n",
              "      <td>0</td>\n",
              "      <td>yes</td>\n",
              "      <td>True</td>\n",
              "    </tr>\n",
              "    <tr>\n",
              "      <th>888</th>\n",
              "      <td>0</td>\n",
              "      <td>2</td>\n",
              "      <td>0</td>\n",
              "      <td>24.0</td>\n",
              "      <td>1</td>\n",
              "      <td>2</td>\n",
              "      <td>23.4500</td>\n",
              "      <td>2</td>\n",
              "      <td>Third</td>\n",
              "      <td>woman</td>\n",
              "      <td>False</td>\n",
              "      <td>0</td>\n",
              "      <td>no</td>\n",
              "      <td>False</td>\n",
              "    </tr>\n",
              "    <tr>\n",
              "      <th>889</th>\n",
              "      <td>1</td>\n",
              "      <td>0</td>\n",
              "      <td>1</td>\n",
              "      <td>26.0</td>\n",
              "      <td>0</td>\n",
              "      <td>0</td>\n",
              "      <td>30.0000</td>\n",
              "      <td>0</td>\n",
              "      <td>First</td>\n",
              "      <td>man</td>\n",
              "      <td>True</td>\n",
              "      <td>1</td>\n",
              "      <td>yes</td>\n",
              "      <td>True</td>\n",
              "    </tr>\n",
              "    <tr>\n",
              "      <th>890</th>\n",
              "      <td>0</td>\n",
              "      <td>2</td>\n",
              "      <td>1</td>\n",
              "      <td>32.0</td>\n",
              "      <td>0</td>\n",
              "      <td>0</td>\n",
              "      <td>7.7500</td>\n",
              "      <td>1</td>\n",
              "      <td>Third</td>\n",
              "      <td>man</td>\n",
              "      <td>True</td>\n",
              "      <td>2</td>\n",
              "      <td>no</td>\n",
              "      <td>True</td>\n",
              "    </tr>\n",
              "  </tbody>\n",
              "</table>\n",
              "<p>784 rows × 14 columns</p>\n",
              "</div>"
            ],
            "text/plain": [
              "     survived  pclass  sex   age  sibsp  parch     fare  embarked  class  \\\n",
              "0           0       2    1  22.0      1      0   7.2500         2  Third   \n",
              "1           1       0    0  38.0      1      0  71.2833         0  First   \n",
              "2           1       2    0  26.0      0      0   7.9250         2  Third   \n",
              "3           1       0    0  35.0      1      0  53.1000         2  First   \n",
              "4           0       2    1  35.0      0      0   8.0500         2  Third   \n",
              "..        ...     ...  ...   ...    ...    ...      ...       ...    ...   \n",
              "885         0       2    0  39.0      0      5  29.1250         1  Third   \n",
              "887         1       0    0  19.0      0      0  30.0000         2  First   \n",
              "888         0       2    0  24.0      1      2  23.4500         2  Third   \n",
              "889         1       0    1  26.0      0      0  30.0000         0  First   \n",
              "890         0       2    1  32.0      0      0   7.7500         1  Third   \n",
              "\n",
              "       who  adult_male  embark_town alive  alone  \n",
              "0      man        True            0    no  False  \n",
              "1    woman       False            1   yes  False  \n",
              "2    woman       False            0   yes   True  \n",
              "3    woman       False            0   yes  False  \n",
              "4      man        True            0    no   True  \n",
              "..     ...         ...          ...   ...    ...  \n",
              "885  woman       False            2    no  False  \n",
              "887  woman       False            0   yes   True  \n",
              "888  woman       False            0    no  False  \n",
              "889    man        True            1   yes   True  \n",
              "890    man        True            2    no   True  \n",
              "\n",
              "[784 rows x 14 columns]"
            ]
          },
          "execution_count": 48,
          "metadata": {},
          "output_type": "execute_result"
        }
      ],
      "source": [
        "df"
      ]
    },
    {
      "cell_type": "code",
      "execution_count": 49,
      "metadata": {
        "colab": {
          "base_uri": "https://localhost:8080/"
        },
        "id": "vtmFRmudgGQ1",
        "outputId": "69b3dbbd-9f4f-41b7-ab46-d48c5b765afa"
      },
      "outputs": [
        {
          "name": "stdout",
          "output_type": "stream",
          "text": [
            "Unique values in 'class' column: ['Third', 'First', 'Second']\n",
            "Categories (3, object): ['First', 'Second', 'Third']\n"
          ]
        }
      ],
      "source": [
        "# Check unique values in the 'class' column\n",
        "unique_class = df['class'].unique()\n",
        "print(\"Unique values in 'class' column:\", unique_class)\n"
      ]
    },
    {
      "cell_type": "code",
      "execution_count": 50,
      "metadata": {
        "colab": {
          "base_uri": "https://localhost:8080/"
        },
        "id": "5CLI_RWEch-x",
        "outputId": "7a0d113e-476b-4045-d2f6-3968fc2c748d"
      },
      "outputs": [
        {
          "name": "stdout",
          "output_type": "stream",
          "text": [
            "0    3\n",
            "1    1\n",
            "2    3\n",
            "3    1\n",
            "4    3\n",
            "Name: class, dtype: category\n",
            "Categories (3, int64): [1, 2, 3]\n"
          ]
        }
      ],
      "source": [
        "# Map 'class' values to numerical values\n",
        "class_mapping = {'First': 1, 'Second': 2, 'Third': 3}\n",
        "df['class'] = df['class'].map(class_mapping)\n",
        "\n",
        "# Check the updated 'class' column\n",
        "print(df['class'].head())\n"
      ]
    },
    {
      "cell_type": "code",
      "execution_count": 51,
      "metadata": {
        "colab": {
          "base_uri": "https://localhost:8080/"
        },
        "id": "ebAktkvpgTvc",
        "outputId": "834731bc-ca70-4384-b0bb-958b748a4a09"
      },
      "outputs": [
        {
          "name": "stdout",
          "output_type": "stream",
          "text": [
            "0    1\n",
            "1    2\n",
            "2    2\n",
            "3    2\n",
            "4    1\n",
            "Name: who, dtype: int64\n"
          ]
        }
      ],
      "source": [
        "# Map 'who' values to numerical values\n",
        "who_mapping = {'man': 1, 'woman': 2, 'child': 3}\n",
        "df['who'] = df['who'].map(who_mapping)\n",
        "\n",
        "# Check the updated 'who' column\n",
        "print(df['who'].head())\n"
      ]
    },
    {
      "cell_type": "code",
      "execution_count": 52,
      "metadata": {
        "colab": {
          "base_uri": "https://localhost:8080/"
        },
        "id": "_46CCL9mghm7",
        "outputId": "e855c0bd-5295-4a04-af6d-35e749f4577a"
      },
      "outputs": [
        {
          "name": "stdout",
          "output_type": "stream",
          "text": [
            "0    1\n",
            "1    0\n",
            "2    0\n",
            "3    0\n",
            "4    1\n",
            "Name: adult_male, dtype: int64\n"
          ]
        }
      ],
      "source": [
        "# Map 'adult_male' values to numerical values (True -> 1, False -> 0)\n",
        "df['adult_male'] = df['adult_male'].map({True: 1, False: 0})\n",
        "\n",
        "# Check the updated 'adult_male' column\n",
        "print(df['adult_male'].head())\n"
      ]
    },
    {
      "cell_type": "code",
      "execution_count": 53,
      "metadata": {
        "colab": {
          "base_uri": "https://localhost:8080/"
        },
        "id": "Ha0m9BTSgxsE",
        "outputId": "557db8ef-854b-4580-912f-a98739d6ec90"
      },
      "outputs": [
        {
          "name": "stdout",
          "output_type": "stream",
          "text": [
            "0    0\n",
            "1    1\n",
            "2    1\n",
            "3    1\n",
            "4    0\n",
            "Name: alive, dtype: int64\n"
          ]
        }
      ],
      "source": [
        "# Map 'alive' values to numerical values ('yes' -> 1, 'no' -> 0)\n",
        "df['alive'] = df['alive'].map({'yes': 1, 'no': 0})\n",
        "\n",
        "# Check the updated 'alive' column\n",
        "print(df['alive'].head())\n"
      ]
    },
    {
      "cell_type": "code",
      "execution_count": 54,
      "metadata": {
        "colab": {
          "base_uri": "https://localhost:8080/"
        },
        "id": "b7OT7qSwhPMr",
        "outputId": "286d353f-a1d2-4be8-9bdb-44be15c9f3cd"
      },
      "outputs": [
        {
          "name": "stdout",
          "output_type": "stream",
          "text": [
            "0    0\n",
            "1    0\n",
            "2    1\n",
            "3    0\n",
            "4    1\n",
            "Name: alone, dtype: int64\n"
          ]
        }
      ],
      "source": [
        "# Map 'alone' values to numerical values (True -> 1, False -> 0)\n",
        "df['alone'] = df['alone'].map({True: 1, False: 0})\n",
        "\n",
        "# Check the updated 'alone' column\n",
        "print(df['alone'].head())\n"
      ]
    },
    {
      "cell_type": "code",
      "execution_count": 55,
      "metadata": {
        "colab": {
          "base_uri": "https://localhost:8080/"
        },
        "id": "HbzY-MSihzfl",
        "outputId": "49fc897b-3e32-473e-e8a7-127fb21c5c4e"
      },
      "outputs": [
        {
          "name": "stdout",
          "output_type": "stream",
          "text": [
            "Rows with text values:\n",
            "Empty DataFrame\n",
            "Columns: [survived, pclass, sex, age, sibsp, parch, fare, embarked, class, who, adult_male, embark_town, alive, alone]\n",
            "Index: []\n"
          ]
        }
      ],
      "source": [
        "# Check for any rows with text values (non-numeric) in the DataFrame\n",
        "text_rows = df.applymap(lambda x: isinstance(x, str))\n",
        "\n",
        "# Find rows with text values\n",
        "rows_with_text = df[text_rows.any(axis=1)]\n",
        "\n",
        "# Print rows with text values\n",
        "print(\"Rows with text values:\")\n",
        "print(rows_with_text)\n"
      ]
    },
    {
      "cell_type": "code",
      "execution_count": 56,
      "metadata": {
        "colab": {
          "base_uri": "https://localhost:8080/"
        },
        "id": "tzP-P3PIh5rb",
        "outputId": "83a9a03f-c839-4890-8164-27bf493367a5"
      },
      "outputs": [
        {
          "name": "stdout",
          "output_type": "stream",
          "text": [
            "Rows with text values:\n",
            "Empty DataFrame\n",
            "Columns: [survived, pclass, sex, age, sibsp, parch, fare, embarked, class, who, adult_male, embark_town, alive, alone]\n",
            "Index: []\n"
          ]
        }
      ],
      "source": [
        "# Check for any rows with text values (non-numeric) in the DataFrame\n",
        "text_rows = df.applymap(lambda x: isinstance(x, str))\n",
        "\n",
        "# Find rows with text values\n",
        "rows_with_text = df[text_rows.any(axis=1)]\n",
        "\n",
        "# Print rows with text values\n",
        "print(\"Rows with text values:\")\n",
        "print(rows_with_text)\n"
      ]
    },
    {
      "cell_type": "code",
      "execution_count": 57,
      "metadata": {
        "colab": {
          "base_uri": "https://localhost:8080/"
        },
        "id": "tJQ_EtuqiMmf",
        "outputId": "acede037-ad3d-4981-99c8-6500a6a2b856"
      },
      "outputs": [
        {
          "name": "stdout",
          "output_type": "stream",
          "text": [
            "<class 'pandas.core.frame.DataFrame'>\n",
            "Index: 784 entries, 0 to 890\n",
            "Data columns (total 14 columns):\n",
            " #   Column       Non-Null Count  Dtype   \n",
            "---  ------       --------------  -----   \n",
            " 0   survived     784 non-null    int64   \n",
            " 1   pclass       784 non-null    int64   \n",
            " 2   sex          784 non-null    int64   \n",
            " 3   age          784 non-null    float64 \n",
            " 4   sibsp        784 non-null    int64   \n",
            " 5   parch        784 non-null    int64   \n",
            " 6   fare         784 non-null    float64 \n",
            " 7   embarked     784 non-null    int64   \n",
            " 8   class        784 non-null    category\n",
            " 9   who          784 non-null    int64   \n",
            " 10  adult_male   784 non-null    int64   \n",
            " 11  embark_town  784 non-null    int64   \n",
            " 12  alive        784 non-null    int64   \n",
            " 13  alone        784 non-null    int64   \n",
            "dtypes: category(1), float64(2), int64(11)\n",
            "memory usage: 86.6 KB\n"
          ]
        }
      ],
      "source": [
        "df.info()"
      ]
    },
    {
      "cell_type": "markdown",
      "metadata": {
        "id": "KAbh8SfMmQCI"
      },
      "source": [
        "#OUTLIERS\n",
        "\n",
        "### Z-Score:\n",
        "\n",
        "- Works best when the data is normally distributed.\n",
        "- Measures how far a data point is from the mean in terms of standard deviations.\n",
        "- It's sensitive to extreme outliers and is less effective if the data has a skewed distribution.\n",
        "\n",
        "### IQR:\n",
        "\n",
        "- More robust, as it focuses on the spread of the middle 50% of the data (between the 25th and 75th percentiles).\n",
        "- It is less influenced by extreme values or skewed data.\n",
        "- It works well even when the data is not normally distributed.\n",
        "\n",
        "### When to Use Each:\n",
        "\n",
        "- **Z-score**: Best used for **normally distributed** data or when you have a reasonable expectation that the data should follow a normal distribution.\n",
        "- **IQR**: Works better when the data is **skewed** or has a **non-normal distribution**. It's generally a safer choice in many cases.\n"
      ]
    },
    {
      "cell_type": "code",
      "execution_count": 58,
      "metadata": {
        "colab": {
          "base_uri": "https://localhost:8080/",
          "height": 1000
        },
        "id": "bUkznmb7ip4B",
        "outputId": "02b3e873-6c43-45ee-aa5d-a843499deb17"
      },
      "outputs": [
        {
          "data": {
            "image/png": "[encoded data removed]",
            "text/plain": [
              "<Figure size 1500x2500 with 13 Axes>"
            ]
          },
          "metadata": {},
          "output_type": "display_data"
        }
      ],
      "source": [
        "import numpy as np\n",
        "import pandas as pd\n",
        "import matplotlib.pyplot as plt\n",
        "import seaborn as sns\n",
        "from scipy import stats\n",
        "\n",
        "# Get all numerical columns\n",
        "numerical_columns = df.select_dtypes(include=['float64', 'int64']).columns\n",
        "\n",
        "# Adjust grid size based on number of numerical columns\n",
        "num_columns = len(numerical_columns)\n",
        "rows = (num_columns // 3) + (num_columns % 3 > 0)  # Determine number of rows needed\n",
        "cols = 3  # Keep 3 columns for the subplots\n",
        "\n",
        "# 1. Boxplot to visualize outliers for all numerical columns\n",
        "plt.figure(figsize=(15, 5 * rows))\n",
        "for i, column in enumerate(numerical_columns, 1):\n",
        "    plt.subplot(rows, cols, i)\n",
        "    sns.boxplot(df[column])\n",
        "    plt.title(f'Boxplot of {column}')\n",
        "plt.tight_layout()\n",
        "plt.show()"
      ]
    },
    {
      "cell_type": "code",
      "execution_count": 59,
      "metadata": {
        "colab": {
          "base_uri": "https://localhost:8080/"
        },
        "id": "eZ0HaPeckR-2",
        "outputId": "7a42f8f3-0a75-4c20-9c7f-00d358d2f439"
      },
      "outputs": [
        {
          "name": "stdout",
          "output_type": "stream",
          "text": [
            "Number of outliers detected using Z-score: 0\n"
          ]
        }
      ],
      "source": [
        "# 2. Z-score method to detect outliers\n",
        "z_scores = np.abs(stats.zscore(df[numerical_columns]))\n",
        "outliers_z = (z_scores > 3).all(axis=1)  # Outliers where z-score > 3\n",
        "print(f\"Number of outliers detected using Z-score: {np.sum(outliers_z)}\")"
      ]
    },
    {
      "cell_type": "markdown",
      "metadata": {
        "id": "HyOmJx-4nXgn"
      },
      "source": [
        "###  IQR Method\n",
        "\n",
        "1. **Calculate the Quartiles**:\n",
        "\n",
        "   - **First Quartile ($Q1$)**: The 25th percentile of the data, which means that 25% of the data points lie below $Q1$.\n",
        "   \n",
        "   $$\n",
        "   Q1 = \\text{25th percentile of the data}\n",
        "   $$\n",
        "\n",
        "   - **Third Quartile ($Q3$)**: The 75th percentile of the data, meaning 75% of the data points lie below $Q3$.\n",
        "   \n",
        "   $$\n",
        "   Q3 = \\text{75th percentile of the data}\n",
        "   $$\n",
        "\n",
        "   - **Interquartile Range ($IQR$)**: The difference between the third and first quartile. It represents the middle 50% of the data.\n",
        "   \n",
        "   $$\n",
        "   IQR = Q3 - Q1\n",
        "   $$\n",
        "\n",
        "2. **Define the Outlier Thresholds**:\n",
        "\n",
        "   - **Lower Bound**: Any data point below this threshold is considered an outlier.\n",
        "   \n",
        "   $$\n",
        "   \\text{Lower Bound} = Q1 - 1.5 \\times IQR\n",
        "   $$\n",
        "\n",
        "   - **Upper Bound**: Any data point above this threshold is considered an outlier.\n",
        "   \n",
        "   $$\n",
        "   \\text{Upper Bound} = Q3 + 1.5 \\times IQR\n",
        "   $$\n",
        "\n",
        "3. **Outlier Detection**:\n",
        "\n",
        "   A data point $x_i$ is considered an outlier if it falls outside the range defined by the lower and upper bounds:\n",
        "\n",
        "   $$\n",
        "   x_i < Q1 - 1.5 \\times IQR \\quad \\text{or} \\quad x_i > Q3 + 1.5 \\times IQR\n",
        "   $$\n",
        "\n",
        "### Summary of Formulae:\n",
        "\n",
        "- **$Q1$** = 25th percentile\n",
        "- **$Q3$** = 75th percentile\n",
        "- **$IQR$** = $Q3 - Q1$\n",
        "- **Lower Bound** = $Q1 - 1.5 \\times IQR$\n",
        "- **Upper Bound** = $Q3 + 1.5 \\times IQR$\n",
        "\n",
        "### Outlier Condition:\n",
        "\n",
        "- $x_i$ is an outlier if:\n",
        "\n",
        "$$\n",
        "x_i < Q1 - 1.5 \\times IQR \\quad \\text{or} \\quad x_i > Q3 + 1.5 \\times IQR\n",
        "$$\n"
      ]
    },
    {
      "cell_type": "code",
      "execution_count": 60,
      "metadata": {
        "colab": {
          "base_uri": "https://localhost:8080/"
        },
        "id": "tTaLqKd6mnGA",
        "outputId": "689932ba-e82c-41dd-8a56-f5003e434c5b"
      },
      "outputs": [
        {
          "name": "stdout",
          "output_type": "stream",
          "text": [
            "Number of outliers detected using IQR: 173\n"
          ]
        }
      ],
      "source": [
        "# 3. Detect outliers using IQR method\n",
        "Q1 = df[numerical_columns].quantile(0.25)  # First quartile (25th percentile)\n",
        "Q3 = df[numerical_columns].quantile(0.75)  # Third quartile (75th percentile)\n",
        "IQR = Q3 - Q1  # Interquartile range\n",
        "\n",
        "# Identify outliers (values below Q1 - 1.5*IQR or above Q3 + 1.5*IQR)\n",
        "outliers_iqr = ((df[numerical_columns] < (Q1 - 1.5 * IQR)) | (df[numerical_columns] > (Q3 + 1.5 * IQR)))\n",
        "\n",
        "# Count of rows with outliers in any of the numerical columns\n",
        "outliers_iqr_count = outliers_iqr.any(axis=1).sum()\n",
        "\n",
        "print(f\"Number of outliers detected using IQR: {outliers_iqr_count}\")\n"
      ]
    },
    {
      "cell_type": "markdown",
      "metadata": {
        "id": "NVIEPR33lx_x"
      },
      "source": [
        "| **Variable**  | **Outliers Detected**          | **Action**                           | **Reason**                                                                 |\n",
        "|---------------|---------------------------------|--------------------------------------|---------------------------------------------------------------------------|\n",
        "| **Age**       | Extreme values (e.g., >100)     | Cap to 99 or remove                  | Uncommon and may be erroneous; capping prevents distortion in model.       |\n",
        "| **Parch**     | High values (e.g., >6)          | Cap or remove                        | Rare, likely data entry errors; capping keeps model from being skewed.    |\n",
        "| **SibSp**     | High values (e.g., >6 or 7)     | Cap or remove                        | Rare occurrences; extreme values may be data errors.                       |\n",
        "| **Fare**      | High values (e.g., >500)        | Cap (95th percentile) or log transform| VIP/first-class passengers; capping/log reduces extreme influence on model. |\n"
      ]
    },
    {
      "cell_type": "code",
      "execution_count": 61,
      "metadata": {
        "colab": {
          "base_uri": "https://localhost:8080/",
          "height": 174
        },
        "id": "2dI_DlPwqWd4",
        "outputId": "5668638e-cebc-46a0-f75c-2e2829d244e5"
      },
      "outputs": [
        {
          "data": {
            "text/html": [
              "<div>\n",
              "<style scoped>\n",
              "    .dataframe tbody tr th:only-of-type {\n",
              "        vertical-align: middle;\n",
              "    }\n",
              "\n",
              "    .dataframe tbody tr th {\n",
              "        vertical-align: top;\n",
              "    }\n",
              "\n",
              "    .dataframe thead th {\n",
              "        text-align: right;\n",
              "    }\n",
              "</style>\n",
              "<table border=\"1\" class=\"dataframe\">\n",
              "  <thead>\n",
              "    <tr style=\"text-align: right;\">\n",
              "      <th></th>\n",
              "      <th>Variable</th>\n",
              "      <th>Max Value</th>\n",
              "      <th>Min Value</th>\n",
              "    </tr>\n",
              "  </thead>\n",
              "  <tbody>\n",
              "    <tr>\n",
              "      <th>0</th>\n",
              "      <td>Age</td>\n",
              "      <td>80.0000</td>\n",
              "      <td>0.42</td>\n",
              "    </tr>\n",
              "    <tr>\n",
              "      <th>1</th>\n",
              "      <td>Parch</td>\n",
              "      <td>6.0000</td>\n",
              "      <td>0.00</td>\n",
              "    </tr>\n",
              "    <tr>\n",
              "      <th>2</th>\n",
              "      <td>SibSp</td>\n",
              "      <td>8.0000</td>\n",
              "      <td>0.00</td>\n",
              "    </tr>\n",
              "    <tr>\n",
              "      <th>3</th>\n",
              "      <td>Fare</td>\n",
              "      <td>512.3292</td>\n",
              "      <td>0.00</td>\n",
              "    </tr>\n",
              "  </tbody>\n",
              "</table>\n",
              "</div>"
            ],
            "text/plain": [
              "  Variable  Max Value  Min Value\n",
              "0      Age    80.0000       0.42\n",
              "1    Parch     6.0000       0.00\n",
              "2    SibSp     8.0000       0.00\n",
              "3     Fare   512.3292       0.00"
            ]
          },
          "execution_count": 61,
          "metadata": {},
          "output_type": "execute_result"
        }
      ],
      "source": [
        "# Get max and min values for each variable of interest\n",
        "max_min_values = {\n",
        "    'Variable': ['Age', 'Parch', 'SibSp', 'Fare'],\n",
        "    'Max Value': [df['age'].max(), df['parch'].max(), df['sibsp'].max(), df['fare'].max()],\n",
        "    'Min Value': [df['age'].min(), df['parch'].min(), df['sibsp'].min(), df['fare'].min()]\n",
        "}\n",
        "\n",
        "# Create DataFrame\n",
        "max_min_df = pd.DataFrame(max_min_values)\n",
        "\n",
        "# Show the table\n",
        "max_min_df\n"
      ]
    },
    {
      "cell_type": "markdown",
      "metadata": {
        "id": "r4nGo73WsFRz"
      },
      "source": [
        "#### Comments:\n",
        "- **Age**: The maximum value is 80, and the minimum value is 0.42. This range is reasonable since it covers a variety of ages from infants to elderly passengers.\n",
        "- **Parch**: The maximum value is 6, and the minimum value is 0. This is also reasonable, indicating that most passengers traveled with no or very few parents/children, with some passengers possibly traveling with a larger family.\n",
        "- **SibSp**: The maximum value is 8, and the minimum value is 0. This is still reasonable, as it represents the number of siblings/spouses aboard, and the values are within expected limits for most passengers.\n",
        "- **Fare**: The maximum value is 512.33, and the minimum value is 0. While a few extreme fares might suggest VIP passengers, values up to 512 are plausible in a first-class or luxury context. A cap might be applied to limit extreme values if necessary for modeling purposes.\n",
        "\n",
        "In summary, none of these variables have extreme outliers that would need aggressive treatment, but further action might be needed for **Fare** if there are specific business logic concerns or if the values are heavily skewed.\n"
      ]
    },
    {
      "cell_type": "code",
      "execution_count": 62,
      "metadata": {
        "colab": {
          "base_uri": "https://localhost:8080/",
          "height": 508
        },
        "id": "Zjg5_g1ls4aJ",
        "outputId": "2e1cb170-57a5-4b5a-c9a6-81ef16840d90"
      },
      "outputs": [
        {
          "data": {
            "image/png": "[encoded data removed]",
            "text/plain": [
              "<Figure size 1400x600 with 2 Axes>"
            ]
          },
          "metadata": {},
          "output_type": "display_data"
        }
      ],
      "source": [
        "import numpy as np\n",
        "import seaborn as sns\n",
        "import matplotlib.pyplot as plt\n",
        "\n",
        "# Apply log transformation to the 'fare' column\n",
        "df['fare_log'] = np.log1p(df['fare'])  # log1p to handle 0 values\n",
        "\n",
        "# Create subplots to compare original and log-transformed distributions\n",
        "plt.figure(figsize=(14, 6))\n",
        "\n",
        "# Original Fare distribution\n",
        "plt.subplot(1, 2, 1)\n",
        "sns.histplot(df['fare'], kde=True, color='blue')\n",
        "plt.title('Original Fare Distribution')\n",
        "\n",
        "# Log-transformed Fare distribution\n",
        "plt.subplot(1, 2, 2)\n",
        "sns.histplot(df['fare_log'], kde=True, color='green')\n",
        "plt.title('Log Transformed Fare Distribution')\n",
        "\n",
        "# Show the plots\n",
        "plt.tight_layout()\n",
        "plt.show()\n"
      ]
    },
    {
      "cell_type": "code",
      "execution_count": 63,
      "metadata": {
        "colab": {
          "base_uri": "https://localhost:8080/",
          "height": 526
        },
        "id": "NSj742_MtRyA",
        "outputId": "79b684dd-2d8f-4827-f13d-68e55b660a49"
      },
      "outputs": [
        {
          "data": {
            "image/png": "[encoded data removed]",
            "text/plain": [
              "<Figure size 1400x600 with 2 Axes>"
            ]
          },
          "metadata": {},
          "output_type": "display_data"
        },
        {
          "name": "stdout",
          "output_type": "stream",
          "text": [
            "Lambda value used for Box-Cox transformation: -0.1099906583022759\n"
          ]
        }
      ],
      "source": [
        "from scipy import stats\n",
        "import numpy as np\n",
        "import seaborn as sns\n",
        "import matplotlib.pyplot as plt\n",
        "\n",
        "# Ensure 'fare' is positive by adding a constant if necessary\n",
        "df['fare_boxcox'] = df['fare'] + 1  # Box-Cox requires positive values, so we add 1 if there are zero values\n",
        "\n",
        "# Apply Box-Cox transformation\n",
        "df['fare_boxcox'], lambda_value = stats.boxcox(df['fare_boxcox'])\n",
        "\n",
        "# Create subplots to compare original and Box-Cox transformed distributions\n",
        "plt.figure(figsize=(14, 6))\n",
        "\n",
        "# Original Fare distribution\n",
        "plt.subplot(1, 2, 1)\n",
        "sns.histplot(df['fare'], kde=True, color='blue')\n",
        "plt.title('Original Fare Distribution')\n",
        "\n",
        "# Box-Cox transformed Fare distribution\n",
        "plt.subplot(1, 2, 2)\n",
        "sns.histplot(df['fare_boxcox'], kde=True, color='red')\n",
        "plt.title('Box-Cox Transformed Fare Distribution')\n",
        "\n",
        "# Show the plots\n",
        "plt.tight_layout()\n",
        "plt.show()\n",
        "\n",
        "# Output the lambda value\n",
        "print(f\"Lambda value used for Box-Cox transformation: {lambda_value}\")\n"
      ]
    },
    {
      "cell_type": "code",
      "execution_count": 64,
      "metadata": {
        "colab": {
          "base_uri": "https://localhost:8080/",
          "height": 423
        },
        "id": "kerK6bP0tZmS",
        "outputId": "8c55997b-218f-4aef-e4a4-6ccc122f1c82"
      },
      "outputs": [
        {
          "data": {
            "text/html": [
              "<div>\n",
              "<style scoped>\n",
              "    .dataframe tbody tr th:only-of-type {\n",
              "        vertical-align: middle;\n",
              "    }\n",
              "\n",
              "    .dataframe tbody tr th {\n",
              "        vertical-align: top;\n",
              "    }\n",
              "\n",
              "    .dataframe thead th {\n",
              "        text-align: right;\n",
              "    }\n",
              "</style>\n",
              "<table border=\"1\" class=\"dataframe\">\n",
              "  <thead>\n",
              "    <tr style=\"text-align: right;\">\n",
              "      <th></th>\n",
              "      <th>survived</th>\n",
              "      <th>pclass</th>\n",
              "      <th>sex</th>\n",
              "      <th>age</th>\n",
              "      <th>sibsp</th>\n",
              "      <th>parch</th>\n",
              "      <th>fare</th>\n",
              "      <th>embarked</th>\n",
              "      <th>class</th>\n",
              "      <th>who</th>\n",
              "      <th>adult_male</th>\n",
              "      <th>embark_town</th>\n",
              "      <th>alive</th>\n",
              "      <th>alone</th>\n",
              "      <th>fare_log</th>\n",
              "      <th>fare_boxcox</th>\n",
              "    </tr>\n",
              "  </thead>\n",
              "  <tbody>\n",
              "    <tr>\n",
              "      <th>0</th>\n",
              "      <td>0</td>\n",
              "      <td>2</td>\n",
              "      <td>1</td>\n",
              "      <td>22.0</td>\n",
              "      <td>1</td>\n",
              "      <td>0</td>\n",
              "      <td>7.2500</td>\n",
              "      <td>2</td>\n",
              "      <td>3</td>\n",
              "      <td>1</td>\n",
              "      <td>1</td>\n",
              "      <td>0</td>\n",
              "      <td>0</td>\n",
              "      <td>0</td>\n",
              "      <td>2.110213</td>\n",
              "      <td>1.883216</td>\n",
              "    </tr>\n",
              "    <tr>\n",
              "      <th>1</th>\n",
              "      <td>1</td>\n",
              "      <td>0</td>\n",
              "      <td>0</td>\n",
              "      <td>38.0</td>\n",
              "      <td>1</td>\n",
              "      <td>0</td>\n",
              "      <td>71.2833</td>\n",
              "      <td>0</td>\n",
              "      <td>1</td>\n",
              "      <td>2</td>\n",
              "      <td>0</td>\n",
              "      <td>1</td>\n",
              "      <td>1</td>\n",
              "      <td>0</td>\n",
              "      <td>4.280593</td>\n",
              "      <td>3.414047</td>\n",
              "    </tr>\n",
              "    <tr>\n",
              "      <th>2</th>\n",
              "      <td>1</td>\n",
              "      <td>2</td>\n",
              "      <td>0</td>\n",
              "      <td>26.0</td>\n",
              "      <td>0</td>\n",
              "      <td>0</td>\n",
              "      <td>7.9250</td>\n",
              "      <td>2</td>\n",
              "      <td>3</td>\n",
              "      <td>2</td>\n",
              "      <td>0</td>\n",
              "      <td>0</td>\n",
              "      <td>1</td>\n",
              "      <td>1</td>\n",
              "      <td>2.188856</td>\n",
              "      <td>1.945300</td>\n",
              "    </tr>\n",
              "    <tr>\n",
              "      <th>3</th>\n",
              "      <td>1</td>\n",
              "      <td>0</td>\n",
              "      <td>0</td>\n",
              "      <td>35.0</td>\n",
              "      <td>1</td>\n",
              "      <td>0</td>\n",
              "      <td>53.1000</td>\n",
              "      <td>2</td>\n",
              "      <td>1</td>\n",
              "      <td>2</td>\n",
              "      <td>0</td>\n",
              "      <td>0</td>\n",
              "      <td>1</td>\n",
              "      <td>0</td>\n",
              "      <td>3.990834</td>\n",
              "      <td>3.230182</td>\n",
              "    </tr>\n",
              "    <tr>\n",
              "      <th>4</th>\n",
              "      <td>0</td>\n",
              "      <td>2</td>\n",
              "      <td>1</td>\n",
              "      <td>35.0</td>\n",
              "      <td>0</td>\n",
              "      <td>0</td>\n",
              "      <td>8.0500</td>\n",
              "      <td>2</td>\n",
              "      <td>3</td>\n",
              "      <td>1</td>\n",
              "      <td>1</td>\n",
              "      <td>0</td>\n",
              "      <td>0</td>\n",
              "      <td>1</td>\n",
              "      <td>2.202765</td>\n",
              "      <td>1.956224</td>\n",
              "    </tr>\n",
              "    <tr>\n",
              "      <th>...</th>\n",
              "      <td>...</td>\n",
              "      <td>...</td>\n",
              "      <td>...</td>\n",
              "      <td>...</td>\n",
              "      <td>...</td>\n",
              "      <td>...</td>\n",
              "      <td>...</td>\n",
              "      <td>...</td>\n",
              "      <td>...</td>\n",
              "      <td>...</td>\n",
              "      <td>...</td>\n",
              "      <td>...</td>\n",
              "      <td>...</td>\n",
              "      <td>...</td>\n",
              "      <td>...</td>\n",
              "      <td>...</td>\n",
              "    </tr>\n",
              "    <tr>\n",
              "      <th>885</th>\n",
              "      <td>0</td>\n",
              "      <td>2</td>\n",
              "      <td>0</td>\n",
              "      <td>39.0</td>\n",
              "      <td>0</td>\n",
              "      <td>5</td>\n",
              "      <td>29.1250</td>\n",
              "      <td>1</td>\n",
              "      <td>3</td>\n",
              "      <td>2</td>\n",
              "      <td>0</td>\n",
              "      <td>2</td>\n",
              "      <td>0</td>\n",
              "      <td>0</td>\n",
              "      <td>3.405355</td>\n",
              "      <td>2.840299</td>\n",
              "    </tr>\n",
              "    <tr>\n",
              "      <th>887</th>\n",
              "      <td>1</td>\n",
              "      <td>0</td>\n",
              "      <td>0</td>\n",
              "      <td>19.0</td>\n",
              "      <td>0</td>\n",
              "      <td>0</td>\n",
              "      <td>30.0000</td>\n",
              "      <td>2</td>\n",
              "      <td>1</td>\n",
              "      <td>2</td>\n",
              "      <td>0</td>\n",
              "      <td>0</td>\n",
              "      <td>1</td>\n",
              "      <td>1</td>\n",
              "      <td>3.433987</td>\n",
              "      <td>2.859955</td>\n",
              "    </tr>\n",
              "    <tr>\n",
              "      <th>888</th>\n",
              "      <td>0</td>\n",
              "      <td>2</td>\n",
              "      <td>0</td>\n",
              "      <td>24.0</td>\n",
              "      <td>1</td>\n",
              "      <td>2</td>\n",
              "      <td>23.4500</td>\n",
              "      <td>2</td>\n",
              "      <td>3</td>\n",
              "      <td>2</td>\n",
              "      <td>0</td>\n",
              "      <td>0</td>\n",
              "      <td>0</td>\n",
              "      <td>0</td>\n",
              "      <td>3.196630</td>\n",
              "      <td>2.695121</td>\n",
              "    </tr>\n",
              "    <tr>\n",
              "      <th>889</th>\n",
              "      <td>1</td>\n",
              "      <td>0</td>\n",
              "      <td>1</td>\n",
              "      <td>26.0</td>\n",
              "      <td>0</td>\n",
              "      <td>0</td>\n",
              "      <td>30.0000</td>\n",
              "      <td>0</td>\n",
              "      <td>1</td>\n",
              "      <td>1</td>\n",
              "      <td>1</td>\n",
              "      <td>1</td>\n",
              "      <td>1</td>\n",
              "      <td>1</td>\n",
              "      <td>3.433987</td>\n",
              "      <td>2.859955</td>\n",
              "    </tr>\n",
              "    <tr>\n",
              "      <th>890</th>\n",
              "      <td>0</td>\n",
              "      <td>2</td>\n",
              "      <td>1</td>\n",
              "      <td>32.0</td>\n",
              "      <td>0</td>\n",
              "      <td>0</td>\n",
              "      <td>7.7500</td>\n",
              "      <td>1</td>\n",
              "      <td>3</td>\n",
              "      <td>1</td>\n",
              "      <td>1</td>\n",
              "      <td>2</td>\n",
              "      <td>0</td>\n",
              "      <td>1</td>\n",
              "      <td>2.169054</td>\n",
              "      <td>1.929718</td>\n",
              "    </tr>\n",
              "  </tbody>\n",
              "</table>\n",
              "<p>784 rows × 16 columns</p>\n",
              "</div>"
            ],
            "text/plain": [
              "     survived  pclass  sex   age  sibsp  parch     fare  embarked class  who  \\\n",
              "0           0       2    1  22.0      1      0   7.2500         2     3    1   \n",
              "1           1       0    0  38.0      1      0  71.2833         0     1    2   \n",
              "2           1       2    0  26.0      0      0   7.9250         2     3    2   \n",
              "3           1       0    0  35.0      1      0  53.1000         2     1    2   \n",
              "4           0       2    1  35.0      0      0   8.0500         2     3    1   \n",
              "..        ...     ...  ...   ...    ...    ...      ...       ...   ...  ...   \n",
              "885         0       2    0  39.0      0      5  29.1250         1     3    2   \n",
              "887         1       0    0  19.0      0      0  30.0000         2     1    2   \n",
              "888         0       2    0  24.0      1      2  23.4500         2     3    2   \n",
              "889         1       0    1  26.0      0      0  30.0000         0     1    1   \n",
              "890         0       2    1  32.0      0      0   7.7500         1     3    1   \n",
              "\n",
              "     adult_male  embark_town  alive  alone  fare_log  fare_boxcox  \n",
              "0             1            0      0      0  2.110213     1.883216  \n",
              "1             0            1      1      0  4.280593     3.414047  \n",
              "2             0            0      1      1  2.188856     1.945300  \n",
              "3             0            0      1      0  3.990834     3.230182  \n",
              "4             1            0      0      1  2.202765     1.956224  \n",
              "..          ...          ...    ...    ...       ...          ...  \n",
              "885           0            2      0      0  3.405355     2.840299  \n",
              "887           0            0      1      1  3.433987     2.859955  \n",
              "888           0            0      0      0  3.196630     2.695121  \n",
              "889           1            1      1      1  3.433987     2.859955  \n",
              "890           1            2      0      1  2.169054     1.929718  \n",
              "\n",
              "[784 rows x 16 columns]"
            ]
          },
          "execution_count": 64,
          "metadata": {},
          "output_type": "execute_result"
        }
      ],
      "source": [
        "df"
      ]
    },
    {
      "cell_type": "code",
      "execution_count": 65,
      "metadata": {
        "colab": {
          "base_uri": "https://localhost:8080/",
          "height": 174
        },
        "id": "kytXYjzzwX9A",
        "outputId": "59fc1641-5d43-4f8e-89d4-17a70f7d6ab5"
      },
      "outputs": [
        {
          "data": {
            "text/html": [
              "<div>\n",
              "<style scoped>\n",
              "    .dataframe tbody tr th:only-of-type {\n",
              "        vertical-align: middle;\n",
              "    }\n",
              "\n",
              "    .dataframe tbody tr th {\n",
              "        vertical-align: top;\n",
              "    }\n",
              "\n",
              "    .dataframe thead th {\n",
              "        text-align: right;\n",
              "    }\n",
              "</style>\n",
              "<table border=\"1\" class=\"dataframe\">\n",
              "  <thead>\n",
              "    <tr style=\"text-align: right;\">\n",
              "      <th></th>\n",
              "      <th>class</th>\n",
              "    </tr>\n",
              "    <tr>\n",
              "      <th>class</th>\n",
              "      <th></th>\n",
              "    </tr>\n",
              "  </thead>\n",
              "  <tbody>\n",
              "    <tr>\n",
              "      <th>3</th>\n",
              "      <td>0.516582</td>\n",
              "    </tr>\n",
              "    <tr>\n",
              "      <th>1</th>\n",
              "      <td>0.272959</td>\n",
              "    </tr>\n",
              "    <tr>\n",
              "      <th>2</th>\n",
              "      <td>0.210459</td>\n",
              "    </tr>\n",
              "  </tbody>\n",
              "</table>\n",
              "</div>"
            ],
            "text/plain": [
              "          class\n",
              "class          \n",
              "3      0.516582\n",
              "1      0.272959\n",
              "2      0.210459"
            ]
          },
          "execution_count": 65,
          "metadata": {},
          "output_type": "execute_result"
        }
      ],
      "source": [
        "# Check for imbalance in categorical columns\n",
        "df.select_dtypes(include=['object', 'category']).apply(lambda x: x.value_counts(normalize=True))\n"
      ]
    },
    {
      "cell_type": "markdown",
      "metadata": {
        "id": "a_NrX2npsJQE"
      },
      "source": [
        "### Imbalance Analysis of the 'class' Variable\n",
        "\n",
        "The `class` variable shows the following proportions for each class:\n",
        "\n",
        "| Class | Proportion |\n",
        "|-------|------------|\n",
        "| 3     | 51.66%     |\n",
        "| 1     | 27.30%     |\n",
        "| 2     | 21.05%     |\n",
        "\n",
        "#### Interpretation:\n",
        "- **Imbalance**: The dataset is imbalanced with more passengers from the third class (`class 3`) compared to the other two classes.\n",
        "- **Action**: If you're using this variable for modeling, you may need to address this imbalance, as it could affect model performance. Techniques like **oversampling**, **undersampling**, or using **weighted loss functions** can help mitigate the impact of imbalanced classes.\n"
      ]
    },
    {
      "cell_type": "code",
      "execution_count": 66,
      "metadata": {
        "colab": {
          "base_uri": "https://localhost:8080/"
        },
        "id": "mB54v0LGuiEg",
        "outputId": "b0485abe-6b49-4529-faa7-29945da5dc18"
      },
      "outputs": [
        {
          "name": "stdout",
          "output_type": "stream",
          "text": [
            "<class 'pandas.core.frame.DataFrame'>\n",
            "Index: 784 entries, 0 to 890\n",
            "Data columns (total 16 columns):\n",
            " #   Column       Non-Null Count  Dtype   \n",
            "---  ------       --------------  -----   \n",
            " 0   survived     784 non-null    int64   \n",
            " 1   pclass       784 non-null    int64   \n",
            " 2   sex          784 non-null    int64   \n",
            " 3   age          784 non-null    float64 \n",
            " 4   sibsp        784 non-null    int64   \n",
            " 5   parch        784 non-null    int64   \n",
            " 6   fare         784 non-null    float64 \n",
            " 7   embarked     784 non-null    int64   \n",
            " 8   class        784 non-null    category\n",
            " 9   who          784 non-null    int64   \n",
            " 10  adult_male   784 non-null    int64   \n",
            " 11  embark_town  784 non-null    int64   \n",
            " 12  alive        784 non-null    int64   \n",
            " 13  alone        784 non-null    int64   \n",
            " 14  fare_log     784 non-null    float64 \n",
            " 15  fare_boxcox  784 non-null    float64 \n",
            "dtypes: category(1), float64(4), int64(11)\n",
            "memory usage: 98.9 KB\n"
          ]
        }
      ],
      "source": [
        "df.info()"
      ]
    },
    {
      "cell_type": "markdown",
      "metadata": {
        "id": "pmXmx5-Bu7gt"
      },
      "source": [
        "## Data Cleaning Completed\n",
        "\n",
        "In this phase, we have successfully completed the data cleaning process. The dataset now contains 784 entries with no missing values. All columns are properly cleaned and transformed:\n",
        "\n",
        "- Categorical variables were encoded numerically.\n",
        "- Missing data was imputed using appropriate strategies.\n",
        "- Outliers were handled, including the transformation of the `fare` column using log and Box-Cox transformations to reduce the impact of extreme values.\n",
        "\n",
        "We now have a clean dataset that is ready for further analysis and model building."
      ]
    },
    {
      "cell_type": "markdown",
      "metadata": {
        "id": "q2dBKenpw6hD"
      },
      "source": [
        "#DESCRIPTIVE STATISTICS"
      ]
    },
    {
      "cell_type": "code",
      "execution_count": 67,
      "metadata": {
        "colab": {
          "base_uri": "https://localhost:8080/",
          "height": 320
        },
        "id": "qpJXQPMMw-Ys",
        "outputId": "438e5713-a690-4523-a135-af095e337fbd"
      },
      "outputs": [
        {
          "data": {
            "text/html": [
              "<div>\n",
              "<style scoped>\n",
              "    .dataframe tbody tr th:only-of-type {\n",
              "        vertical-align: middle;\n",
              "    }\n",
              "\n",
              "    .dataframe tbody tr th {\n",
              "        vertical-align: top;\n",
              "    }\n",
              "\n",
              "    .dataframe thead th {\n",
              "        text-align: right;\n",
              "    }\n",
              "</style>\n",
              "<table border=\"1\" class=\"dataframe\">\n",
              "  <thead>\n",
              "    <tr style=\"text-align: right;\">\n",
              "      <th></th>\n",
              "      <th>survived</th>\n",
              "      <th>pclass</th>\n",
              "      <th>sex</th>\n",
              "      <th>age</th>\n",
              "      <th>sibsp</th>\n",
              "      <th>parch</th>\n",
              "      <th>fare</th>\n",
              "      <th>embarked</th>\n",
              "      <th>who</th>\n",
              "      <th>adult_male</th>\n",
              "      <th>embark_town</th>\n",
              "      <th>alive</th>\n",
              "      <th>alone</th>\n",
              "      <th>fare_log</th>\n",
              "      <th>fare_boxcox</th>\n",
              "    </tr>\n",
              "  </thead>\n",
              "  <tbody>\n",
              "    <tr>\n",
              "      <th>count</th>\n",
              "      <td>784.000000</td>\n",
              "      <td>784.000000</td>\n",
              "      <td>784.000000</td>\n",
              "      <td>784.000000</td>\n",
              "      <td>784.000000</td>\n",
              "      <td>784.000000</td>\n",
              "      <td>784.000000</td>\n",
              "      <td>784.000000</td>\n",
              "      <td>784.000000</td>\n",
              "      <td>784.000000</td>\n",
              "      <td>784.000000</td>\n",
              "      <td>784.000000</td>\n",
              "      <td>784.000000</td>\n",
              "      <td>784.000000</td>\n",
              "      <td>784.000000</td>\n",
              "    </tr>\n",
              "    <tr>\n",
              "      <th>mean</th>\n",
              "      <td>0.411990</td>\n",
              "      <td>1.243622</td>\n",
              "      <td>0.626276</td>\n",
              "      <td>29.594923</td>\n",
              "      <td>0.522959</td>\n",
              "      <td>0.415816</td>\n",
              "      <td>34.711740</td>\n",
              "      <td>1.529337</td>\n",
              "      <td>1.529337</td>\n",
              "      <td>0.575255</td>\n",
              "      <td>0.348214</td>\n",
              "      <td>0.411990</td>\n",
              "      <td>0.568878</td>\n",
              "      <td>3.042042</td>\n",
              "      <td>2.549206</td>\n",
              "    </tr>\n",
              "    <tr>\n",
              "      <th>std</th>\n",
              "      <td>0.492507</td>\n",
              "      <td>0.855056</td>\n",
              "      <td>0.484101</td>\n",
              "      <td>13.902464</td>\n",
              "      <td>0.986231</td>\n",
              "      <td>0.836922</td>\n",
              "      <td>52.160151</td>\n",
              "      <td>0.803350</td>\n",
              "      <td>0.677428</td>\n",
              "      <td>0.494620</td>\n",
              "      <td>0.614779</td>\n",
              "      <td>0.492507</td>\n",
              "      <td>0.495549</td>\n",
              "      <td>0.965396</td>\n",
              "      <td>0.683159</td>\n",
              "    </tr>\n",
              "    <tr>\n",
              "      <th>min</th>\n",
              "      <td>0.000000</td>\n",
              "      <td>0.000000</td>\n",
              "      <td>0.000000</td>\n",
              "      <td>0.420000</td>\n",
              "      <td>0.000000</td>\n",
              "      <td>0.000000</td>\n",
              "      <td>0.000000</td>\n",
              "      <td>0.000000</td>\n",
              "      <td>1.000000</td>\n",
              "      <td>0.000000</td>\n",
              "      <td>0.000000</td>\n",
              "      <td>0.000000</td>\n",
              "      <td>0.000000</td>\n",
              "      <td>0.000000</td>\n",
              "      <td>0.000000</td>\n",
              "    </tr>\n",
              "    <tr>\n",
              "      <th>25%</th>\n",
              "      <td>0.000000</td>\n",
              "      <td>0.000000</td>\n",
              "      <td>0.000000</td>\n",
              "      <td>22.000000</td>\n",
              "      <td>0.000000</td>\n",
              "      <td>0.000000</td>\n",
              "      <td>8.050000</td>\n",
              "      <td>1.000000</td>\n",
              "      <td>1.000000</td>\n",
              "      <td>0.000000</td>\n",
              "      <td>0.000000</td>\n",
              "      <td>0.000000</td>\n",
              "      <td>0.000000</td>\n",
              "      <td>2.202765</td>\n",
              "      <td>1.956224</td>\n",
              "    </tr>\n",
              "    <tr>\n",
              "      <th>50%</th>\n",
              "      <td>0.000000</td>\n",
              "      <td>2.000000</td>\n",
              "      <td>1.000000</td>\n",
              "      <td>28.000000</td>\n",
              "      <td>0.000000</td>\n",
              "      <td>0.000000</td>\n",
              "      <td>15.900000</td>\n",
              "      <td>2.000000</td>\n",
              "      <td>1.000000</td>\n",
              "      <td>1.000000</td>\n",
              "      <td>0.000000</td>\n",
              "      <td>0.000000</td>\n",
              "      <td>1.000000</td>\n",
              "      <td>2.827314</td>\n",
              "      <td>2.429934</td>\n",
              "    </tr>\n",
              "    <tr>\n",
              "      <th>75%</th>\n",
              "      <td>1.000000</td>\n",
              "      <td>2.000000</td>\n",
              "      <td>1.000000</td>\n",
              "      <td>37.000000</td>\n",
              "      <td>1.000000</td>\n",
              "      <td>1.000000</td>\n",
              "      <td>34.109350</td>\n",
              "      <td>2.000000</td>\n",
              "      <td>2.000000</td>\n",
              "      <td>1.000000</td>\n",
              "      <td>1.000000</td>\n",
              "      <td>1.000000</td>\n",
              "      <td>1.000000</td>\n",
              "      <td>3.558458</td>\n",
              "      <td>2.944689</td>\n",
              "    </tr>\n",
              "    <tr>\n",
              "      <th>max</th>\n",
              "      <td>1.000000</td>\n",
              "      <td>2.000000</td>\n",
              "      <td>1.000000</td>\n",
              "      <td>80.000000</td>\n",
              "      <td>8.000000</td>\n",
              "      <td>6.000000</td>\n",
              "      <td>512.329200</td>\n",
              "      <td>2.000000</td>\n",
              "      <td>3.000000</td>\n",
              "      <td>1.000000</td>\n",
              "      <td>2.000000</td>\n",
              "      <td>1.000000</td>\n",
              "      <td>1.000000</td>\n",
              "      <td>6.240917</td>\n",
              "      <td>4.515260</td>\n",
              "    </tr>\n",
              "  </tbody>\n",
              "</table>\n",
              "</div>"
            ],
            "text/plain": [
              "         survived      pclass         sex         age       sibsp       parch  \\\n",
              "count  784.000000  784.000000  784.000000  784.000000  784.000000  784.000000   \n",
              "mean     0.411990    1.243622    0.626276   29.594923    0.522959    0.415816   \n",
              "std      0.492507    0.855056    0.484101   13.902464    0.986231    0.836922   \n",
              "min      0.000000    0.000000    0.000000    0.420000    0.000000    0.000000   \n",
              "25%      0.000000    0.000000    0.000000   22.000000    0.000000    0.000000   \n",
              "50%      0.000000    2.000000    1.000000   28.000000    0.000000    0.000000   \n",
              "75%      1.000000    2.000000    1.000000   37.000000    1.000000    1.000000   \n",
              "max      1.000000    2.000000    1.000000   80.000000    8.000000    6.000000   \n",
              "\n",
              "             fare    embarked         who  adult_male  embark_town  \\\n",
              "count  784.000000  784.000000  784.000000  784.000000   784.000000   \n",
              "mean    34.711740    1.529337    1.529337    0.575255     0.348214   \n",
              "std     52.160151    0.803350    0.677428    0.494620     0.614779   \n",
              "min      0.000000    0.000000    1.000000    0.000000     0.000000   \n",
              "25%      8.050000    1.000000    1.000000    0.000000     0.000000   \n",
              "50%     15.900000    2.000000    1.000000    1.000000     0.000000   \n",
              "75%     34.109350    2.000000    2.000000    1.000000     1.000000   \n",
              "max    512.329200    2.000000    3.000000    1.000000     2.000000   \n",
              "\n",
              "            alive       alone    fare_log  fare_boxcox  \n",
              "count  784.000000  784.000000  784.000000   784.000000  \n",
              "mean     0.411990    0.568878    3.042042     2.549206  \n",
              "std      0.492507    0.495549    0.965396     0.683159  \n",
              "min      0.000000    0.000000    0.000000     0.000000  \n",
              "25%      0.000000    0.000000    2.202765     1.956224  \n",
              "50%      0.000000    1.000000    2.827314     2.429934  \n",
              "75%      1.000000    1.000000    3.558458     2.944689  \n",
              "max      1.000000    1.000000    6.240917     4.515260  "
            ]
          },
          "execution_count": 67,
          "metadata": {},
          "output_type": "execute_result"
        }
      ],
      "source": [
        "df.describe()"
      ]
    },
    {
      "cell_type": "markdown",
      "metadata": {
        "id": "_Dv_3uNky6bN"
      },
      "source": [
        "### Statistical Insights from Descriptive Statistics:\n",
        "\n",
        "1. **Survived**:  \n",
        "   - The **mean** value of `0.412` indicates that approximately 41.2% of the passengers survived, which aligns with historical data for the Titanic. The **standard deviation** of `0.493` suggests a relatively even split between survivors and non-survivors.\n",
        "   - The **max** of `1` and **min** of `0` confirm that this is a binary variable (survived or not).\n",
        "\n",
        "2. **Pclass**:  \n",
        "   - The mean of `1.244` and **standard deviation** of `0.855` suggests the majority of passengers were from second and third classes, with a smaller proportion in the first class. The **min** and **max** of `0` and `2` suggest that `pclass` is coded from `0` to `2`, but typically, it is considered as `1`, `2`, or `3`.\n",
        "   - The data points toward a **larger proportion** of passengers being from the lower classes, which is consistent with historical demographics.\n",
        "\n",
        "3. **Sex**:  \n",
        "   - With a mean of `0.626`, this suggests that more than half of the passengers were male (coded as `1` for male and `0` for female). The **standard deviation** of `0.484` indicates a relatively balanced distribution between males and females.\n",
        "   - The min of `0` and max of `1` confirms the binary nature of this categorical feature.\n",
        "\n",
        "4. **Age**:  \n",
        "   - The **mean** age of `29.59` years with a **standard deviation** of `13.90` shows a somewhat young demographic. However, the large **min** of `0.42` and **max** of `80` indicate the presence of outliers, such as very young or elderly passengers. This could require **further cleaning** (e.g., capping or imputation) to avoid distorting the model.\n",
        "   - The **median (50%)** is `28`, which supports the idea that the data is somewhat centered around young adults.\n",
        "\n",
        "5. **SibSp (Siblings/Spouses Aboard)** and **Parch (Parents/Children Aboard)**:  \n",
        "   - Both features have a **mean of approximately 0.5**, suggesting that most passengers traveled alone or with only one family member. The **max** values of `8` (for SibSp) and `6` (for Parch) are outliers, indicating that a few passengers traveled with large families. These extreme values might need to be capped or treated as outliers.\n",
        "   - The **standard deviations** of `0.986` and `0.837` confirm the variability, with many passengers traveling alone but a small proportion traveling with large families.\n",
        "\n",
        "6. **Fare**:  \n",
        "   - The mean fare of `34.71` is quite lower than the **max** fare of `512.33`. This high variance (**std = 52.16**) suggests there are a few high-fare passengers, likely those in first class. The large **max** fare indicates potential outliers, which might have a disproportionate impact on model performance. **Log or Box-Cox transformations** could be beneficial to stabilize this skewed distribution.\n",
        "\n",
        "7. **Embarked**:  \n",
        "   - The **mean** of `1.529` and **standard deviation** of `0.803` suggest a fairly balanced distribution of embarked passengers across three ports. Since `1` and `2` represent two major embarkation points, this could indicate that the majority of passengers embarked from those two places, with fewer passengers from the third port.\n",
        "\n",
        "8. **Who**:  \n",
        "   - The feature **Who** seems to have two values, with the mean of `1.529`, which corresponds to a slight imbalance, where more passengers were adults, as expected.\n",
        "\n",
        "9. **Alive** and **Alone**:  \n",
        "   - Both features are binary variables, with **means** around `0.41` for **Alive** (indicating a survival rate of 41%) and `0.57` for **Alone**, showing that more passengers were traveling alone.\n",
        "  \n",
        "10. **Fare_log and Fare_boxcox**:  \n",
        "    - These transformed versions of the `Fare` variable show a more balanced distribution with lower values (suggested by the **mean** and **standard deviation**), indicating that the transformations have reduced the extreme influence of the high-fare passengers.\n",
        "\n",
        "### Key Takeaways:\n",
        "- **Skewness in Fare**: There's a strong right-skew in the `Fare` column, with a few passengers paying significantly higher fares. Transforming this variable could help stabilize variance and reduce the impact of outliers.\n",
        "- **Age Distribution**: The age distribution is centered around younger passengers, but there are some extreme values (ages as low as 0.42 and as high as 80), suggesting that the data may contain errors or outliers.\n",
        "- **Passenger Class**: Most passengers belong to the second and third classes, with fewer in the first class. This aligns with the socioeconomic profile of the Titanic passengers.\n",
        "- **Family Size**: Most passengers traveled alone or with just one family member, but some extreme cases with large family sizes may need to be addressed in further analysis.\n",
        "\n",
        "These insights should guide data preprocessing, feature engineering, and further analysis.\n"
      ]
    },
    {
      "cell_type": "markdown",
      "metadata": {
        "id": "GtnrI7xaz7fv"
      },
      "source": [
        "#Heatmap"
      ]
    },
    {
      "cell_type": "code",
      "execution_count": 68,
      "metadata": {
        "colab": {
          "base_uri": "https://localhost:8080/",
          "height": 779
        },
        "id": "W1sUN2ilz9RE",
        "outputId": "52e77287-74a8-40d7-8fbf-64a3730728b8"
      },
      "outputs": [
        {
          "data": {
            "image/png": "[encoded data removed]",
            "text/plain": [
              "<Figure size 1000x800 with 2 Axes>"
            ]
          },
          "metadata": {},
          "output_type": "display_data"
        }
      ],
      "source": [
        "import seaborn as sns\n",
        "import matplotlib.pyplot as plt\n",
        "\n",
        "# Calculate the correlation matrix\n",
        "correlation_matrix = df.corr()\n",
        "\n",
        "# Create the heatmap\n",
        "plt.figure(figsize=(10, 8))\n",
        "sns.heatmap(correlation_matrix, annot=True, cmap='coolwarm', fmt=\".2f\", cbar=True, linewidths=0.5)\n",
        "plt.title('Correlation Heatmap of Features')\n",
        "plt.show()\n"
      ]
    },
    {
      "cell_type": "code",
      "execution_count": 69,
      "metadata": {
        "colab": {
          "base_uri": "https://localhost:8080/",
          "height": 571
        },
        "id": "I9ZYQmkT0Dtc",
        "outputId": "c18519f5-dfcc-4f93-f47c-eb5205b630ba"
      },
      "outputs": [
        {
          "data": {
            "text/html": [
              "<div>\n",
              "<style scoped>\n",
              "    .dataframe tbody tr th:only-of-type {\n",
              "        vertical-align: middle;\n",
              "    }\n",
              "\n",
              "    .dataframe tbody tr th {\n",
              "        vertical-align: top;\n",
              "    }\n",
              "\n",
              "    .dataframe thead th {\n",
              "        text-align: right;\n",
              "    }\n",
              "</style>\n",
              "<table border=\"1\" class=\"dataframe\">\n",
              "  <thead>\n",
              "    <tr style=\"text-align: right;\">\n",
              "      <th></th>\n",
              "      <th>survived</th>\n",
              "      <th>pclass</th>\n",
              "      <th>sex</th>\n",
              "      <th>age</th>\n",
              "      <th>sibsp</th>\n",
              "      <th>parch</th>\n",
              "      <th>fare</th>\n",
              "      <th>embarked</th>\n",
              "      <th>class</th>\n",
              "      <th>who</th>\n",
              "      <th>adult_male</th>\n",
              "      <th>embark_town</th>\n",
              "      <th>alive</th>\n",
              "      <th>alone</th>\n",
              "      <th>fare_log</th>\n",
              "      <th>fare_boxcox</th>\n",
              "    </tr>\n",
              "  </thead>\n",
              "  <tbody>\n",
              "    <tr>\n",
              "      <th>survived</th>\n",
              "      <td>1.000000</td>\n",
              "      <td>-0.332658</td>\n",
              "      <td>-0.515772</td>\n",
              "      <td>-0.068126</td>\n",
              "      <td>-0.036589</td>\n",
              "      <td>0.070307</td>\n",
              "      <td>0.246769</td>\n",
              "      <td>-0.154861</td>\n",
              "      <td>-0.332658</td>\n",
              "      <td>0.440303</td>\n",
              "      <td>-0.528502</td>\n",
              "      <td>0.073928</td>\n",
              "      <td>1.000000</td>\n",
              "      <td>-0.176595</td>\n",
              "      <td>0.313149</td>\n",
              "      <td>0.310252</td>\n",
              "    </tr>\n",
              "    <tr>\n",
              "      <th>pclass</th>\n",
              "      <td>-0.332658</td>\n",
              "      <td>1.000000</td>\n",
              "      <td>0.115336</td>\n",
              "      <td>-0.397395</td>\n",
              "      <td>0.088014</td>\n",
              "      <td>0.040296</td>\n",
              "      <td>-0.549216</td>\n",
              "      <td>0.174578</td>\n",
              "      <td>1.000000</td>\n",
              "      <td>0.019616</td>\n",
              "      <td>0.066816</td>\n",
              "      <td>0.023059</td>\n",
              "      <td>-0.332658</td>\n",
              "      <td>0.109545</td>\n",
              "      <td>-0.687702</td>\n",
              "      <td>-0.667392</td>\n",
              "    </tr>\n",
              "    <tr>\n",
              "      <th>sex</th>\n",
              "      <td>-0.515772</td>\n",
              "      <td>0.115336</td>\n",
              "      <td>1.000000</td>\n",
              "      <td>0.095273</td>\n",
              "      <td>-0.098368</td>\n",
              "      <td>-0.236940</td>\n",
              "      <td>-0.169469</td>\n",
              "      <td>0.098833</td>\n",
              "      <td>0.115336</td>\n",
              "      <td>-0.700618</td>\n",
              "      <td>0.898999</td>\n",
              "      <td>-0.090001</td>\n",
              "      <td>-0.515772</td>\n",
              "      <td>0.280460</td>\n",
              "      <td>-0.242195</td>\n",
              "      <td>-0.243695</td>\n",
              "    </tr>\n",
              "    <tr>\n",
              "      <th>age</th>\n",
              "      <td>-0.068126</td>\n",
              "      <td>-0.397395</td>\n",
              "      <td>0.095273</td>\n",
              "      <td>1.000000</td>\n",
              "      <td>-0.285681</td>\n",
              "      <td>-0.187014</td>\n",
              "      <td>0.112602</td>\n",
              "      <td>-0.017532</td>\n",
              "      <td>-0.397395</td>\n",
              "      <td>-0.456462</td>\n",
              "      <td>0.272497</td>\n",
              "      <td>-0.035749</td>\n",
              "      <td>-0.068126</td>\n",
              "      <td>0.193473</td>\n",
              "      <td>0.134728</td>\n",
              "      <td>0.127428</td>\n",
              "    </tr>\n",
              "    <tr>\n",
              "      <th>sibsp</th>\n",
              "      <td>-0.036589</td>\n",
              "      <td>0.088014</td>\n",
              "      <td>-0.098368</td>\n",
              "      <td>-0.285681</td>\n",
              "      <td>1.000000</td>\n",
              "      <td>0.381433</td>\n",
              "      <td>0.135147</td>\n",
              "      <td>0.062821</td>\n",
              "      <td>0.088014</td>\n",
              "      <td>0.389912</td>\n",
              "      <td>-0.274521</td>\n",
              "      <td>-0.043745</td>\n",
              "      <td>-0.036589</td>\n",
              "      <td>-0.609502</td>\n",
              "      <td>0.290703</td>\n",
              "      <td>0.297496</td>\n",
              "    </tr>\n",
              "    <tr>\n",
              "      <th>parch</th>\n",
              "      <td>0.070307</td>\n",
              "      <td>0.040296</td>\n",
              "      <td>-0.236940</td>\n",
              "      <td>-0.187014</td>\n",
              "      <td>0.381433</td>\n",
              "      <td>1.000000</td>\n",
              "      <td>0.191942</td>\n",
              "      <td>0.042619</td>\n",
              "      <td>0.040296</td>\n",
              "      <td>0.410961</td>\n",
              "      <td>-0.347186</td>\n",
              "      <td>-0.070787</td>\n",
              "      <td>0.070307</td>\n",
              "      <td>-0.571087</td>\n",
              "      <td>0.302667</td>\n",
              "      <td>0.305891</td>\n",
              "    </tr>\n",
              "    <tr>\n",
              "      <th>fare</th>\n",
              "      <td>0.246769</td>\n",
              "      <td>-0.549216</td>\n",
              "      <td>-0.169469</td>\n",
              "      <td>0.112602</td>\n",
              "      <td>0.135147</td>\n",
              "      <td>0.191942</td>\n",
              "      <td>1.000000</td>\n",
              "      <td>-0.237755</td>\n",
              "      <td>-0.549216</td>\n",
              "      <td>0.115407</td>\n",
              "      <td>-0.165209</td>\n",
              "      <td>0.084324</td>\n",
              "      <td>0.246769</td>\n",
              "      <td>-0.246619</td>\n",
              "      <td>0.795586</td>\n",
              "      <td>0.750503</td>\n",
              "    </tr>\n",
              "    <tr>\n",
              "      <th>embarked</th>\n",
              "      <td>-0.154861</td>\n",
              "      <td>0.174578</td>\n",
              "      <td>0.098833</td>\n",
              "      <td>-0.017532</td>\n",
              "      <td>0.062821</td>\n",
              "      <td>0.042619</td>\n",
              "      <td>-0.237755</td>\n",
              "      <td>1.000000</td>\n",
              "      <td>0.174578</td>\n",
              "      <td>-0.060253</td>\n",
              "      <td>0.081218</td>\n",
              "      <td>-0.774505</td>\n",
              "      <td>-0.154861</td>\n",
              "      <td>0.063892</td>\n",
              "      <td>-0.219364</td>\n",
              "      <td>-0.210976</td>\n",
              "    </tr>\n",
              "    <tr>\n",
              "      <th>class</th>\n",
              "      <td>-0.332658</td>\n",
              "      <td>1.000000</td>\n",
              "      <td>0.115336</td>\n",
              "      <td>-0.397395</td>\n",
              "      <td>0.088014</td>\n",
              "      <td>0.040296</td>\n",
              "      <td>-0.549216</td>\n",
              "      <td>0.174578</td>\n",
              "      <td>1.000000</td>\n",
              "      <td>0.019616</td>\n",
              "      <td>0.066816</td>\n",
              "      <td>0.023059</td>\n",
              "      <td>-0.332658</td>\n",
              "      <td>0.109545</td>\n",
              "      <td>-0.687702</td>\n",
              "      <td>-0.667392</td>\n",
              "    </tr>\n",
              "    <tr>\n",
              "      <th>who</th>\n",
              "      <td>0.440303</td>\n",
              "      <td>0.019616</td>\n",
              "      <td>-0.700618</td>\n",
              "      <td>-0.456462</td>\n",
              "      <td>0.389912</td>\n",
              "      <td>0.410961</td>\n",
              "      <td>0.115407</td>\n",
              "      <td>-0.060253</td>\n",
              "      <td>0.019616</td>\n",
              "      <td>1.000000</td>\n",
              "      <td>-0.909939</td>\n",
              "      <td>0.056705</td>\n",
              "      <td>0.440303</td>\n",
              "      <td>-0.437828</td>\n",
              "      <td>0.234846</td>\n",
              "      <td>0.242780</td>\n",
              "    </tr>\n",
              "    <tr>\n",
              "      <th>adult_male</th>\n",
              "      <td>-0.528502</td>\n",
              "      <td>0.066816</td>\n",
              "      <td>0.898999</td>\n",
              "      <td>0.272497</td>\n",
              "      <td>-0.274521</td>\n",
              "      <td>-0.347186</td>\n",
              "      <td>-0.165209</td>\n",
              "      <td>0.081218</td>\n",
              "      <td>0.066816</td>\n",
              "      <td>-0.909939</td>\n",
              "      <td>1.000000</td>\n",
              "      <td>-0.084187</td>\n",
              "      <td>-0.528502</td>\n",
              "      <td>0.387850</td>\n",
              "      <td>-0.272169</td>\n",
              "      <td>-0.276846</td>\n",
              "    </tr>\n",
              "    <tr>\n",
              "      <th>embark_town</th>\n",
              "      <td>0.073928</td>\n",
              "      <td>0.023059</td>\n",
              "      <td>-0.090001</td>\n",
              "      <td>-0.035749</td>\n",
              "      <td>-0.043745</td>\n",
              "      <td>-0.070787</td>\n",
              "      <td>0.084324</td>\n",
              "      <td>-0.774505</td>\n",
              "      <td>0.023059</td>\n",
              "      <td>0.056705</td>\n",
              "      <td>-0.084187</td>\n",
              "      <td>1.000000</td>\n",
              "      <td>0.073928</td>\n",
              "      <td>0.011304</td>\n",
              "      <td>0.042396</td>\n",
              "      <td>0.038874</td>\n",
              "    </tr>\n",
              "    <tr>\n",
              "      <th>alive</th>\n",
              "      <td>1.000000</td>\n",
              "      <td>-0.332658</td>\n",
              "      <td>-0.515772</td>\n",
              "      <td>-0.068126</td>\n",
              "      <td>-0.036589</td>\n",
              "      <td>0.070307</td>\n",
              "      <td>0.246769</td>\n",
              "      <td>-0.154861</td>\n",
              "      <td>-0.332658</td>\n",
              "      <td>0.440303</td>\n",
              "      <td>-0.528502</td>\n",
              "      <td>0.073928</td>\n",
              "      <td>1.000000</td>\n",
              "      <td>-0.176595</td>\n",
              "      <td>0.313149</td>\n",
              "      <td>0.310252</td>\n",
              "    </tr>\n",
              "    <tr>\n",
              "      <th>alone</th>\n",
              "      <td>-0.176595</td>\n",
              "      <td>0.109545</td>\n",
              "      <td>0.280460</td>\n",
              "      <td>0.193473</td>\n",
              "      <td>-0.609502</td>\n",
              "      <td>-0.571087</td>\n",
              "      <td>-0.246619</td>\n",
              "      <td>0.063892</td>\n",
              "      <td>0.109545</td>\n",
              "      <td>-0.437828</td>\n",
              "      <td>0.387850</td>\n",
              "      <td>0.011304</td>\n",
              "      <td>-0.176595</td>\n",
              "      <td>1.000000</td>\n",
              "      <td>-0.448851</td>\n",
              "      <td>-0.455950</td>\n",
              "    </tr>\n",
              "    <tr>\n",
              "      <th>fare_log</th>\n",
              "      <td>0.313149</td>\n",
              "      <td>-0.687702</td>\n",
              "      <td>-0.242195</td>\n",
              "      <td>0.134728</td>\n",
              "      <td>0.290703</td>\n",
              "      <td>0.302667</td>\n",
              "      <td>0.795586</td>\n",
              "      <td>-0.219364</td>\n",
              "      <td>-0.687702</td>\n",
              "      <td>0.234846</td>\n",
              "      <td>-0.272169</td>\n",
              "      <td>0.042396</td>\n",
              "      <td>0.313149</td>\n",
              "      <td>-0.448851</td>\n",
              "      <td>1.000000</td>\n",
              "      <td>0.996099</td>\n",
              "    </tr>\n",
              "    <tr>\n",
              "      <th>fare_boxcox</th>\n",
              "      <td>0.310252</td>\n",
              "      <td>-0.667392</td>\n",
              "      <td>-0.243695</td>\n",
              "      <td>0.127428</td>\n",
              "      <td>0.297496</td>\n",
              "      <td>0.305891</td>\n",
              "      <td>0.750503</td>\n",
              "      <td>-0.210976</td>\n",
              "      <td>-0.667392</td>\n",
              "      <td>0.242780</td>\n",
              "      <td>-0.276846</td>\n",
              "      <td>0.038874</td>\n",
              "      <td>0.310252</td>\n",
              "      <td>-0.455950</td>\n",
              "      <td>0.996099</td>\n",
              "      <td>1.000000</td>\n",
              "    </tr>\n",
              "  </tbody>\n",
              "</table>\n",
              "</div>"
            ],
            "text/plain": [
              "             survived    pclass       sex       age     sibsp     parch  \\\n",
              "survived     1.000000 -0.332658 -0.515772 -0.068126 -0.036589  0.070307   \n",
              "pclass      -0.332658  1.000000  0.115336 -0.397395  0.088014  0.040296   \n",
              "sex         -0.515772  0.115336  1.000000  0.095273 -0.098368 -0.236940   \n",
              "age         -0.068126 -0.397395  0.095273  1.000000 -0.285681 -0.187014   \n",
              "sibsp       -0.036589  0.088014 -0.098368 -0.285681  1.000000  0.381433   \n",
              "parch        0.070307  0.040296 -0.236940 -0.187014  0.381433  1.000000   \n",
              "fare         0.246769 -0.549216 -0.169469  0.112602  0.135147  0.191942   \n",
              "embarked    -0.154861  0.174578  0.098833 -0.017532  0.062821  0.042619   \n",
              "class       -0.332658  1.000000  0.115336 -0.397395  0.088014  0.040296   \n",
              "who          0.440303  0.019616 -0.700618 -0.456462  0.389912  0.410961   \n",
              "adult_male  -0.528502  0.066816  0.898999  0.272497 -0.274521 -0.347186   \n",
              "embark_town  0.073928  0.023059 -0.090001 -0.035749 -0.043745 -0.070787   \n",
              "alive        1.000000 -0.332658 -0.515772 -0.068126 -0.036589  0.070307   \n",
              "alone       -0.176595  0.109545  0.280460  0.193473 -0.609502 -0.571087   \n",
              "fare_log     0.313149 -0.687702 -0.242195  0.134728  0.290703  0.302667   \n",
              "fare_boxcox  0.310252 -0.667392 -0.243695  0.127428  0.297496  0.305891   \n",
              "\n",
              "                 fare  embarked     class       who  adult_male  embark_town  \\\n",
              "survived     0.246769 -0.154861 -0.332658  0.440303   -0.528502     0.073928   \n",
              "pclass      -0.549216  0.174578  1.000000  0.019616    0.066816     0.023059   \n",
              "sex         -0.169469  0.098833  0.115336 -0.700618    0.898999    -0.090001   \n",
              "age          0.112602 -0.017532 -0.397395 -0.456462    0.272497    -0.035749   \n",
              "sibsp        0.135147  0.062821  0.088014  0.389912   -0.274521    -0.043745   \n",
              "parch        0.191942  0.042619  0.040296  0.410961   -0.347186    -0.070787   \n",
              "fare         1.000000 -0.237755 -0.549216  0.115407   -0.165209     0.084324   \n",
              "embarked    -0.237755  1.000000  0.174578 -0.060253    0.081218    -0.774505   \n",
              "class       -0.549216  0.174578  1.000000  0.019616    0.066816     0.023059   \n",
              "who          0.115407 -0.060253  0.019616  1.000000   -0.909939     0.056705   \n",
              "adult_male  -0.165209  0.081218  0.066816 -0.909939    1.000000    -0.084187   \n",
              "embark_town  0.084324 -0.774505  0.023059  0.056705   -0.084187     1.000000   \n",
              "alive        0.246769 -0.154861 -0.332658  0.440303   -0.528502     0.073928   \n",
              "alone       -0.246619  0.063892  0.109545 -0.437828    0.387850     0.011304   \n",
              "fare_log     0.795586 -0.219364 -0.687702  0.234846   -0.272169     0.042396   \n",
              "fare_boxcox  0.750503 -0.210976 -0.667392  0.242780   -0.276846     0.038874   \n",
              "\n",
              "                alive     alone  fare_log  fare_boxcox  \n",
              "survived     1.000000 -0.176595  0.313149     0.310252  \n",
              "pclass      -0.332658  0.109545 -0.687702    -0.667392  \n",
              "sex         -0.515772  0.280460 -0.242195    -0.243695  \n",
              "age         -0.068126  0.193473  0.134728     0.127428  \n",
              "sibsp       -0.036589 -0.609502  0.290703     0.297496  \n",
              "parch        0.070307 -0.571087  0.302667     0.305891  \n",
              "fare         0.246769 -0.246619  0.795586     0.750503  \n",
              "embarked    -0.154861  0.063892 -0.219364    -0.210976  \n",
              "class       -0.332658  0.109545 -0.687702    -0.667392  \n",
              "who          0.440303 -0.437828  0.234846     0.242780  \n",
              "adult_male  -0.528502  0.387850 -0.272169    -0.276846  \n",
              "embark_town  0.073928  0.011304  0.042396     0.038874  \n",
              "alive        1.000000 -0.176595  0.313149     0.310252  \n",
              "alone       -0.176595  1.000000 -0.448851    -0.455950  \n",
              "fare_log     0.313149 -0.448851  1.000000     0.996099  \n",
              "fare_boxcox  0.310252 -0.455950  0.996099     1.000000  "
            ]
          },
          "execution_count": 69,
          "metadata": {},
          "output_type": "execute_result"
        }
      ],
      "source": [
        "correlation_matrix"
      ]
    },
    {
      "cell_type": "markdown",
      "metadata": {
        "id": "3MM7IFB81PAn"
      },
      "source": [
        "# Statistical Interpretation and Insights from the Correlation Matrix\n",
        "\n",
        "## 1. **Survival Rate and Other Variables:**\n",
        "- **Survived vs. Pclass:** A moderate negative correlation of **-0.3327** between `survived` and `pclass` indicates that passengers in lower classes (higher `pclass` values) were less likely to survive.\n",
        "- **Survived vs. Sex:** A strong negative correlation of **-0.5158** suggests that females were more likely to survive than males, which aligns with historical data showing women and children had higher survival rates.\n",
        "- **Survived vs. Age:** The correlation of **-0.0681** is very low, indicating that age had little impact on survival.\n",
        "- **Survived vs. Fare:** A moderate positive correlation of **0.2468** suggests that passengers who paid higher fares were slightly more likely to survive, potentially due to better access to lifeboats or cabins.\n",
        "- **Survived vs. Embarked (Embarkation Location):** The correlation of **-0.1549** suggests a weak negative relationship with survival. This might imply that the place of embarkation had a small influence, but the effect is not strong.\n",
        "\n",
        "## 2. **Class and Survival:**\n",
        "- **Pclass vs. Sex:** A small positive correlation (**0.1153**) suggests that the class might have some relationship with the gender of passengers, but it is not a strong relationship.\n",
        "- **Pclass vs. Fare:** There is a strong negative correlation of **-0.5492**, meaning that passengers in lower classes tended to pay lower fares.\n",
        "- **Pclass vs. Embarked:** A weak positive correlation (**0.1746**) indicates a minor relationship between the class and embarkation point, though it's not a decisive factor.\n",
        "\n",
        "## 3. **Fare and Class:**\n",
        "- **Fare vs. Pclass:** A strong negative correlation of **-0.5492** suggests that higher fares were associated with higher class passengers (first and second class), as expected.\n",
        "- **Fare vs. Sex:** A negative correlation (**-0.1695**) shows that males paid slightly lower fares than females, though the relationship is weak.\n",
        "- **Fare vs. Fare Log / Fare Boxcox:** The high correlation with **fare_log (0.7956)** and **fare_boxcox (0.7505)** suggests that these transformations (logarithmic and Box-Cox transformations) of fare are highly correlated with the original fare value, which is typical when these transformations are used for normality.\n",
        "\n",
        "## 4. **Who and Survival:**\n",
        "- **Who vs. Survived:** A moderate positive correlation (**0.4403**) suggests that being a woman (or child) increased the chances of survival, as historically women and children were prioritized in lifeboat access.\n",
        "- **Who vs. Adult Male:** A strong positive correlation (**0.8990**) suggests that the variable `who` (which likely refers to gender) is strongly associated with `adult_male`.\n",
        "\n",
        "## 5. **Age and Class/Family Relations:**\n",
        "- **Age vs. Sibsp (siblings/spouses aboard):** A moderate negative correlation (**-0.2857**) indicates that older passengers had fewer siblings or spouses aboard. This might suggest that younger passengers tended to travel with family.\n",
        "- **Age vs. Parch (parents/children aboard):** A similar negative correlation (**-0.1870**) suggests older passengers might have fewer children or parents aboard.\n",
        "\n",
        "## 6. **Alone Variable:**\n",
        "- **Alone vs. Sibsp and Parch:** The variable `alone` (indicating whether a passenger was traveling alone) is negatively correlated with both `sibsp (-0.6095)` and `parch (-0.5711)`, suggesting that those with more family members aboard were less likely to be alone.\n",
        "- **Alone vs. Survived:** A negative correlation (**-0.1766**) indicates that passengers traveling alone had a lower chance of survival. This makes sense since passengers with family members might have had more support in emergencies.\n",
        "\n",
        "## 7. **Transformations (Fare_log and Fare_boxcox):**\n",
        "- **Fare_log vs. Fare_boxcox:** The perfect correlation of **0.9961** indicates that these transformations of the `fare` feature are nearly identical in structure, which is typical for common transformations applied to skewed data to make it more normal.\n",
        "- **Fare_log vs. Survived:** A moderate positive correlation (**0.3131**) indicates that passengers with higher transformed fares also had a better chance of survival, supporting the idea that those with higher fares were more likely to have had better access to lifeboats or other advantages.\n",
        "\n",
        "## **Summary of Insights:**\n",
        "1. **Gender and Class are significant predictors of survival:** The strong negative correlations between `sex` and `survived` suggest women were more likely to survive. The negative correlation between `pclass` and `survived` suggests passengers in lower classes had lower survival chances.\n",
        "2. **Fare has a moderate positive relationship with survival:** Passengers who paid higher fares were somewhat more likely to survive, potentially due to better access to lifeboats or cabins.\n",
        "3. **Age has a minor impact on survival:** Age does not significantly affect the likelihood of survival, although there is a slight tendency for younger passengers to travel with family.\n",
        "4. **Traveling Alone vs. Survival:** Those traveling alone were less likely to survive, which might reflect the tendency for passengers with family to have better access to safety resources.\n",
        "5. **Log and Box-Cox Transformed Fare:** The transformations on fare are highly correlated with the original fare, suggesting these are effective for modeling purposes, especially for normalizing skewed data.\n",
        "\n",
        "These insights can be further explored in predictive modeling tasks to refine understanding and improve predictive accuracy, especially for survival prediction based on these variables.\n"
      ]
    },
    {
      "cell_type": "markdown",
      "metadata": {
        "id": "2H9ivUg31QIu"
      },
      "source": [
        "# Feature Selection\n",
        "\n",
        "Feature Selection is a crucial step to improve your model’s performance by eliminating irrelevant or redundant features. Feature selection can help to:\n",
        "\n",
        "- **Reduce overfitting**\n",
        "- **Improve model accuracy**\n",
        "- **Reduce training time**\n",
        "- **Simplify the model**\n",
        "\n",
        "## 1. Univariate Feature Selection\n",
        "\n",
        "We can start by selecting the most relevant features using statistical tests.\n",
        "\n",
        "For this, we’ll use **SelectKBest** with a statistical test like the **Chi-Squared test** for categorical features and **ANOVA F-test** for continuous features.\n",
        "\n",
        "## 2. Correlation-based Feature Selection\n",
        "\n",
        "We can also remove highly correlated features to avoid multicollinearity, which can skew model performance. This is done by calculating the correlation matrix and identifying features that are highly correlated (e.g., correlation > 0.85 or < -0.85). Then remove one of the features in such pairs to improve model performance.\n",
        "\n",
        "## 3. Recursive Feature Elimination (RFE)\n",
        "\n",
        "RFE is an efficient method to recursively eliminate features and build models, selecting the most important features. This can be done using a model like Logistic Regression, and by iteratively removing the least significant features based on model performance.\n",
        "\n",
        "---\n"
      ]
    },
    {
      "cell_type": "code",
      "execution_count": 70,
      "metadata": {
        "colab": {
          "base_uri": "https://localhost:8080/"
        },
        "id": "yRhopeKL4Knl",
        "outputId": "970c0ae1-e1d4-4677-afea-9a2896c7fc1c"
      },
      "outputs": [
        {
          "name": "stdout",
          "output_type": "stream",
          "text": [
            "<class 'pandas.core.frame.DataFrame'>\n",
            "Index: 784 entries, 0 to 890\n",
            "Data columns (total 16 columns):\n",
            " #   Column       Non-Null Count  Dtype   \n",
            "---  ------       --------------  -----   \n",
            " 0   survived     784 non-null    int64   \n",
            " 1   pclass       784 non-null    int64   \n",
            " 2   sex          784 non-null    int64   \n",
            " 3   age          784 non-null    float64 \n",
            " 4   sibsp        784 non-null    int64   \n",
            " 5   parch        784 non-null    int64   \n",
            " 6   fare         784 non-null    float64 \n",
            " 7   embarked     784 non-null    int64   \n",
            " 8   class        784 non-null    category\n",
            " 9   who          784 non-null    int64   \n",
            " 10  adult_male   784 non-null    int64   \n",
            " 11  embark_town  784 non-null    int64   \n",
            " 12  alive        784 non-null    int64   \n",
            " 13  alone        784 non-null    int64   \n",
            " 14  fare_log     784 non-null    float64 \n",
            " 15  fare_boxcox  784 non-null    float64 \n",
            "dtypes: category(1), float64(4), int64(11)\n",
            "memory usage: 98.9 KB\n"
          ]
        }
      ],
      "source": [
        "df.info()"
      ]
    },
    {
      "cell_type": "code",
      "execution_count": 71,
      "metadata": {
        "colab": {
          "base_uri": "https://localhost:8080/",
          "height": 423
        },
        "id": "Q5ASDN_k4Qce",
        "outputId": "2cbce60c-0f9e-4d3d-c20d-feef26e0d04b"
      },
      "outputs": [
        {
          "data": {
            "text/html": [
              "<div>\n",
              "<style scoped>\n",
              "    .dataframe tbody tr th:only-of-type {\n",
              "        vertical-align: middle;\n",
              "    }\n",
              "\n",
              "    .dataframe tbody tr th {\n",
              "        vertical-align: top;\n",
              "    }\n",
              "\n",
              "    .dataframe thead th {\n",
              "        text-align: right;\n",
              "    }\n",
              "</style>\n",
              "<table border=\"1\" class=\"dataframe\">\n",
              "  <thead>\n",
              "    <tr style=\"text-align: right;\">\n",
              "      <th></th>\n",
              "      <th>survived</th>\n",
              "      <th>pclass</th>\n",
              "      <th>sex</th>\n",
              "      <th>age</th>\n",
              "      <th>sibsp</th>\n",
              "      <th>parch</th>\n",
              "      <th>fare</th>\n",
              "      <th>embarked</th>\n",
              "      <th>class</th>\n",
              "      <th>who</th>\n",
              "      <th>adult_male</th>\n",
              "      <th>embark_town</th>\n",
              "      <th>alive</th>\n",
              "      <th>alone</th>\n",
              "      <th>fare_log</th>\n",
              "      <th>fare_boxcox</th>\n",
              "    </tr>\n",
              "  </thead>\n",
              "  <tbody>\n",
              "    <tr>\n",
              "      <th>0</th>\n",
              "      <td>0</td>\n",
              "      <td>2</td>\n",
              "      <td>1</td>\n",
              "      <td>22.0</td>\n",
              "      <td>1</td>\n",
              "      <td>0</td>\n",
              "      <td>7.2500</td>\n",
              "      <td>2</td>\n",
              "      <td>3</td>\n",
              "      <td>1</td>\n",
              "      <td>1</td>\n",
              "      <td>0</td>\n",
              "      <td>0</td>\n",
              "      <td>0</td>\n",
              "      <td>2.110213</td>\n",
              "      <td>1.883216</td>\n",
              "    </tr>\n",
              "    <tr>\n",
              "      <th>1</th>\n",
              "      <td>1</td>\n",
              "      <td>0</td>\n",
              "      <td>0</td>\n",
              "      <td>38.0</td>\n",
              "      <td>1</td>\n",
              "      <td>0</td>\n",
              "      <td>71.2833</td>\n",
              "      <td>0</td>\n",
              "      <td>1</td>\n",
              "      <td>2</td>\n",
              "      <td>0</td>\n",
              "      <td>1</td>\n",
              "      <td>1</td>\n",
              "      <td>0</td>\n",
              "      <td>4.280593</td>\n",
              "      <td>3.414047</td>\n",
              "    </tr>\n",
              "    <tr>\n",
              "      <th>2</th>\n",
              "      <td>1</td>\n",
              "      <td>2</td>\n",
              "      <td>0</td>\n",
              "      <td>26.0</td>\n",
              "      <td>0</td>\n",
              "      <td>0</td>\n",
              "      <td>7.9250</td>\n",
              "      <td>2</td>\n",
              "      <td>3</td>\n",
              "      <td>2</td>\n",
              "      <td>0</td>\n",
              "      <td>0</td>\n",
              "      <td>1</td>\n",
              "      <td>1</td>\n",
              "      <td>2.188856</td>\n",
              "      <td>1.945300</td>\n",
              "    </tr>\n",
              "    <tr>\n",
              "      <th>3</th>\n",
              "      <td>1</td>\n",
              "      <td>0</td>\n",
              "      <td>0</td>\n",
              "      <td>35.0</td>\n",
              "      <td>1</td>\n",
              "      <td>0</td>\n",
              "      <td>53.1000</td>\n",
              "      <td>2</td>\n",
              "      <td>1</td>\n",
              "      <td>2</td>\n",
              "      <td>0</td>\n",
              "      <td>0</td>\n",
              "      <td>1</td>\n",
              "      <td>0</td>\n",
              "      <td>3.990834</td>\n",
              "      <td>3.230182</td>\n",
              "    </tr>\n",
              "    <tr>\n",
              "      <th>4</th>\n",
              "      <td>0</td>\n",
              "      <td>2</td>\n",
              "      <td>1</td>\n",
              "      <td>35.0</td>\n",
              "      <td>0</td>\n",
              "      <td>0</td>\n",
              "      <td>8.0500</td>\n",
              "      <td>2</td>\n",
              "      <td>3</td>\n",
              "      <td>1</td>\n",
              "      <td>1</td>\n",
              "      <td>0</td>\n",
              "      <td>0</td>\n",
              "      <td>1</td>\n",
              "      <td>2.202765</td>\n",
              "      <td>1.956224</td>\n",
              "    </tr>\n",
              "    <tr>\n",
              "      <th>...</th>\n",
              "      <td>...</td>\n",
              "      <td>...</td>\n",
              "      <td>...</td>\n",
              "      <td>...</td>\n",
              "      <td>...</td>\n",
              "      <td>...</td>\n",
              "      <td>...</td>\n",
              "      <td>...</td>\n",
              "      <td>...</td>\n",
              "      <td>...</td>\n",
              "      <td>...</td>\n",
              "      <td>...</td>\n",
              "      <td>...</td>\n",
              "      <td>...</td>\n",
              "      <td>...</td>\n",
              "      <td>...</td>\n",
              "    </tr>\n",
              "    <tr>\n",
              "      <th>885</th>\n",
              "      <td>0</td>\n",
              "      <td>2</td>\n",
              "      <td>0</td>\n",
              "      <td>39.0</td>\n",
              "      <td>0</td>\n",
              "      <td>5</td>\n",
              "      <td>29.1250</td>\n",
              "      <td>1</td>\n",
              "      <td>3</td>\n",
              "      <td>2</td>\n",
              "      <td>0</td>\n",
              "      <td>2</td>\n",
              "      <td>0</td>\n",
              "      <td>0</td>\n",
              "      <td>3.405355</td>\n",
              "      <td>2.840299</td>\n",
              "    </tr>\n",
              "    <tr>\n",
              "      <th>887</th>\n",
              "      <td>1</td>\n",
              "      <td>0</td>\n",
              "      <td>0</td>\n",
              "      <td>19.0</td>\n",
              "      <td>0</td>\n",
              "      <td>0</td>\n",
              "      <td>30.0000</td>\n",
              "      <td>2</td>\n",
              "      <td>1</td>\n",
              "      <td>2</td>\n",
              "      <td>0</td>\n",
              "      <td>0</td>\n",
              "      <td>1</td>\n",
              "      <td>1</td>\n",
              "      <td>3.433987</td>\n",
              "      <td>2.859955</td>\n",
              "    </tr>\n",
              "    <tr>\n",
              "      <th>888</th>\n",
              "      <td>0</td>\n",
              "      <td>2</td>\n",
              "      <td>0</td>\n",
              "      <td>24.0</td>\n",
              "      <td>1</td>\n",
              "      <td>2</td>\n",
              "      <td>23.4500</td>\n",
              "      <td>2</td>\n",
              "      <td>3</td>\n",
              "      <td>2</td>\n",
              "      <td>0</td>\n",
              "      <td>0</td>\n",
              "      <td>0</td>\n",
              "      <td>0</td>\n",
              "      <td>3.196630</td>\n",
              "      <td>2.695121</td>\n",
              "    </tr>\n",
              "    <tr>\n",
              "      <th>889</th>\n",
              "      <td>1</td>\n",
              "      <td>0</td>\n",
              "      <td>1</td>\n",
              "      <td>26.0</td>\n",
              "      <td>0</td>\n",
              "      <td>0</td>\n",
              "      <td>30.0000</td>\n",
              "      <td>0</td>\n",
              "      <td>1</td>\n",
              "      <td>1</td>\n",
              "      <td>1</td>\n",
              "      <td>1</td>\n",
              "      <td>1</td>\n",
              "      <td>1</td>\n",
              "      <td>3.433987</td>\n",
              "      <td>2.859955</td>\n",
              "    </tr>\n",
              "    <tr>\n",
              "      <th>890</th>\n",
              "      <td>0</td>\n",
              "      <td>2</td>\n",
              "      <td>1</td>\n",
              "      <td>32.0</td>\n",
              "      <td>0</td>\n",
              "      <td>0</td>\n",
              "      <td>7.7500</td>\n",
              "      <td>1</td>\n",
              "      <td>3</td>\n",
              "      <td>1</td>\n",
              "      <td>1</td>\n",
              "      <td>2</td>\n",
              "      <td>0</td>\n",
              "      <td>1</td>\n",
              "      <td>2.169054</td>\n",
              "      <td>1.929718</td>\n",
              "    </tr>\n",
              "  </tbody>\n",
              "</table>\n",
              "<p>784 rows × 16 columns</p>\n",
              "</div>"
            ],
            "text/plain": [
              "     survived  pclass  sex   age  sibsp  parch     fare  embarked class  who  \\\n",
              "0           0       2    1  22.0      1      0   7.2500         2     3    1   \n",
              "1           1       0    0  38.0      1      0  71.2833         0     1    2   \n",
              "2           1       2    0  26.0      0      0   7.9250         2     3    2   \n",
              "3           1       0    0  35.0      1      0  53.1000         2     1    2   \n",
              "4           0       2    1  35.0      0      0   8.0500         2     3    1   \n",
              "..        ...     ...  ...   ...    ...    ...      ...       ...   ...  ...   \n",
              "885         0       2    0  39.0      0      5  29.1250         1     3    2   \n",
              "887         1       0    0  19.0      0      0  30.0000         2     1    2   \n",
              "888         0       2    0  24.0      1      2  23.4500         2     3    2   \n",
              "889         1       0    1  26.0      0      0  30.0000         0     1    1   \n",
              "890         0       2    1  32.0      0      0   7.7500         1     3    1   \n",
              "\n",
              "     adult_male  embark_town  alive  alone  fare_log  fare_boxcox  \n",
              "0             1            0      0      0  2.110213     1.883216  \n",
              "1             0            1      1      0  4.280593     3.414047  \n",
              "2             0            0      1      1  2.188856     1.945300  \n",
              "3             0            0      1      0  3.990834     3.230182  \n",
              "4             1            0      0      1  2.202765     1.956224  \n",
              "..          ...          ...    ...    ...       ...          ...  \n",
              "885           0            2      0      0  3.405355     2.840299  \n",
              "887           0            0      1      1  3.433987     2.859955  \n",
              "888           0            0      0      0  3.196630     2.695121  \n",
              "889           1            1      1      1  3.433987     2.859955  \n",
              "890           1            2      0      1  2.169054     1.929718  \n",
              "\n",
              "[784 rows x 16 columns]"
            ]
          },
          "execution_count": 71,
          "metadata": {},
          "output_type": "execute_result"
        }
      ],
      "source": [
        "df"
      ]
    },
    {
      "cell_type": "markdown",
      "metadata": {
        "id": "wQAE5xiF2jLl"
      },
      "source": []
    },
    {
      "cell_type": "code",
      "execution_count": 72,
      "metadata": {
        "colab": {
          "base_uri": "https://localhost:8080/",
          "height": 859
        },
        "id": "ESZwiwZu8LYo",
        "outputId": "35feb7ff-b3f6-4ee1-ec0b-1d4367ac06e5"
      },
      "outputs": [
        {
          "data": {
            "image/png": "[encoded data removed]",
            "text/plain": [
              "<Figure size 1000x600 with 1 Axes>"
            ]
          },
          "metadata": {},
          "output_type": "display_data"
        },
        {
          "name": "stdout",
          "output_type": "stream",
          "text": [
            "Feature Importance in Descending Order (as percentage):\n",
            "        Feature  Importance (%)\n",
            "11        alive       61.396913\n",
            "9    adult_male        6.877396\n",
            "8           who        6.718841\n",
            "1           sex        5.101098\n",
            "7         class        3.626082\n",
            "13     fare_log        3.051004\n",
            "2           age        3.026145\n",
            "14  fare_boxcox        2.955043\n",
            "5          fare        2.839132\n",
            "0        pclass        2.053189\n",
            "3         sibsp        1.038110\n",
            "4         parch        0.445414\n",
            "6      embarked        0.337966\n",
            "10  embark_town        0.317025\n",
            "12        alone        0.216643\n"
          ]
        }
      ],
      "source": [
        "import pandas as pd\n",
        "import matplotlib.pyplot as plt\n",
        "from sklearn.ensemble import RandomForestClassifier\n",
        "import seaborn as sns\n",
        "\n",
        "# Features and target variable\n",
        "X = df.drop(columns=['survived'])  # Features\n",
        "y = df['survived']  # Target\n",
        "\n",
        "# Step 1: Train Random Forest Classifier to get feature importance\n",
        "rf = RandomForestClassifier(n_estimators=100, random_state=42)\n",
        "rf.fit(X, y)\n",
        "\n",
        "# Step 2: Get feature importances\n",
        "feature_importance = pd.DataFrame({\n",
        "    'Feature': X.columns,\n",
        "    'Importance': rf.feature_importances_\n",
        "})\n",
        "\n",
        "# Step 3: Sort the features by importance (descending order)\n",
        "feature_importance = feature_importance.sort_values(by='Importance', ascending=False)\n",
        "\n",
        "# Step 4: Normalize the importance to percentage\n",
        "feature_importance['Importance (%)'] = feature_importance['Importance'] * 100\n",
        "\n",
        "# Step 5: Visualize the feature importance\n",
        "plt.figure(figsize=(10, 6))\n",
        "sns.barplot(x='Importance (%)', y='Feature', data=feature_importance, palette='Blues_d')\n",
        "\n",
        "# Annotate with percentage values\n",
        "for index, value in enumerate(feature_importance['Importance (%)']):\n",
        "    plt.text(value + 1, index, f'{value:.2f}%', va='center', fontweight='bold')\n",
        "\n",
        "plt.title('Feature Importance (Random Forest)')\n",
        "plt.xlabel('Importance (%)')\n",
        "plt.ylabel('Features')\n",
        "plt.show()\n",
        "\n",
        "# Print the feature importance in descending order\n",
        "print(\"Feature Importance in Descending Order (as percentage):\")\n",
        "print(feature_importance[['Feature', 'Importance (%)']])\n"
      ]
    },
    {
      "cell_type": "code",
      "execution_count": 73,
      "metadata": {
        "colab": {
          "base_uri": "https://localhost:8080/",
          "height": 206
        },
        "id": "HaFYJVWU_z-P",
        "outputId": "3fb83528-a0bf-498f-9446-5d0436f48cc0"
      },
      "outputs": [
        {
          "data": {
            "text/html": [
              "<div>\n",
              "<style scoped>\n",
              "    .dataframe tbody tr th:only-of-type {\n",
              "        vertical-align: middle;\n",
              "    }\n",
              "\n",
              "    .dataframe tbody tr th {\n",
              "        vertical-align: top;\n",
              "    }\n",
              "\n",
              "    .dataframe thead th {\n",
              "        text-align: right;\n",
              "    }\n",
              "</style>\n",
              "<table border=\"1\" class=\"dataframe\">\n",
              "  <thead>\n",
              "    <tr style=\"text-align: right;\">\n",
              "      <th></th>\n",
              "      <th>precision</th>\n",
              "      <th>recall</th>\n",
              "      <th>f1-score</th>\n",
              "      <th>support</th>\n",
              "    </tr>\n",
              "  </thead>\n",
              "  <tbody>\n",
              "    <tr>\n",
              "      <th>0</th>\n",
              "      <td>1.0</td>\n",
              "      <td>1.0</td>\n",
              "      <td>1.0</td>\n",
              "      <td>88.0</td>\n",
              "    </tr>\n",
              "    <tr>\n",
              "      <th>1</th>\n",
              "      <td>1.0</td>\n",
              "      <td>1.0</td>\n",
              "      <td>1.0</td>\n",
              "      <td>69.0</td>\n",
              "    </tr>\n",
              "    <tr>\n",
              "      <th>accuracy</th>\n",
              "      <td>1.0</td>\n",
              "      <td>1.0</td>\n",
              "      <td>1.0</td>\n",
              "      <td>1.0</td>\n",
              "    </tr>\n",
              "    <tr>\n",
              "      <th>macro avg</th>\n",
              "      <td>1.0</td>\n",
              "      <td>1.0</td>\n",
              "      <td>1.0</td>\n",
              "      <td>157.0</td>\n",
              "    </tr>\n",
              "    <tr>\n",
              "      <th>weighted avg</th>\n",
              "      <td>1.0</td>\n",
              "      <td>1.0</td>\n",
              "      <td>1.0</td>\n",
              "      <td>157.0</td>\n",
              "    </tr>\n",
              "  </tbody>\n",
              "</table>\n",
              "</div>"
            ],
            "text/plain": [
              "              precision  recall  f1-score  support\n",
              "0                   1.0     1.0       1.0     88.0\n",
              "1                   1.0     1.0       1.0     69.0\n",
              "accuracy            1.0     1.0       1.0      1.0\n",
              "macro avg           1.0     1.0       1.0    157.0\n",
              "weighted avg        1.0     1.0       1.0    157.0"
            ]
          },
          "execution_count": 73,
          "metadata": {},
          "output_type": "execute_result"
        }
      ],
      "source": [
        "import pandas as pd\n",
        "import matplotlib.pyplot as plt\n",
        "import seaborn as sns\n",
        "from sklearn.ensemble import RandomForestClassifier\n",
        "from sklearn.model_selection import train_test_split\n",
        "from sklearn.metrics import classification_report, confusion_matrix, roc_curve, auc, precision_recall_curve\n",
        "from sklearn.preprocessing import StandardScaler\n",
        "\n",
        "# Data preparation\n",
        "X = df.drop(columns='survived')  # Features\n",
        "y = df['survived']  # Target\n",
        "\n",
        "# Split the data into training and testing sets\n",
        "X_train, X_test, y_train, y_test = train_test_split(X, y, test_size=0.2, random_state=42)\n",
        "\n",
        "# Standardize the data\n",
        "scaler = StandardScaler()\n",
        "X_train_scaled = scaler.fit_transform(X_train)\n",
        "X_test_scaled = scaler.transform(X_test)\n",
        "\n",
        "# Train Random Forest Classifier\n",
        "rf = RandomForestClassifier(random_state=42)\n",
        "rf.fit(X_train_scaled, y_train)\n",
        "y_pred = rf.predict(X_test_scaled)\n",
        "\n",
        "# Get classification report\n",
        "report = classification_report(y_test, y_pred, output_dict=True)\n",
        "\n",
        "# Convert the report to a DataFrame for better readability\n",
        "report_df = pd.DataFrame(report).transpose()\n",
        "report_df"
      ]
    },
    {
      "cell_type": "code",
      "execution_count": 74,
      "metadata": {
        "colab": {
          "base_uri": "https://localhost:8080/"
        },
        "id": "c2bn_zxYDBrv",
        "outputId": "6dd960f8-102f-43dc-a248-2bb86bb0e195"
      },
      "outputs": [
        {
          "data": {
            "text/plain": [
              "array([[88,  0],\n",
              "       [ 0, 69]])"
            ]
          },
          "execution_count": 74,
          "metadata": {},
          "output_type": "execute_result"
        }
      ],
      "source": [
        "# Confusion Matrix\n",
        "cm = confusion_matrix(y_test, y_pred)\n",
        "cm"
      ]
    },
    {
      "cell_type": "code",
      "execution_count": 75,
      "metadata": {
        "colab": {
          "base_uri": "https://localhost:8080/",
          "height": 468
        },
        "id": "7dDJcyitCwp0",
        "outputId": "2d698896-bc94-4aa5-f4d5-2162b5139693"
      },
      "outputs": [
        {
          "data": {
            "image/png": "[encoded data removed]",
            "text/plain": [
              "<Figure size 600x500 with 2 Axes>"
            ]
          },
          "metadata": {},
          "output_type": "display_data"
        }
      ],
      "source": [
        "# Plot Confusion Matrix Heatmap\n",
        "plt.figure(figsize=(6, 5))\n",
        "sns.heatmap(cm, annot=True, fmt='d', cmap='Blues', xticklabels=['No', 'Yes'], yticklabels=['No', 'Yes'])\n",
        "plt.title('Confusion Matrix')\n",
        "plt.show()"
      ]
    },
    {
      "cell_type": "code",
      "execution_count": 76,
      "metadata": {
        "colab": {
          "base_uri": "https://localhost:8080/",
          "height": 487
        },
        "id": "EWCU-nNiC39v",
        "outputId": "bec2b5db-7733-4504-abd9-9dd503578832"
      },
      "outputs": [
        {
          "data": {
            "image/png": "[encoded data removed]",
            "text/plain": [
              "<Figure size 600x500 with 1 Axes>"
            ]
          },
          "metadata": {},
          "output_type": "display_data"
        }
      ],
      "source": [
        "# ROC Curve\n",
        "y_pred_prob = rf.predict_proba(X_test_scaled)[:, 1]\n",
        "fpr, tpr, _ = roc_curve(y_test, y_pred_prob)\n",
        "roc_auc = auc(fpr, tpr)\n",
        "\n",
        "plt.figure(figsize=(6, 5))\n",
        "plt.plot(fpr, tpr, color='blue', label=f'AUC = {roc_auc:.2f}')\n",
        "plt.plot([0, 1], [0, 1], color='gray', linestyle='--')\n",
        "plt.xlabel('False Positive Rate')\n",
        "plt.ylabel('True Positive Rate')\n",
        "plt.title('ROC Curve')\n",
        "plt.legend()\n",
        "plt.show()"
      ]
    },
    {
      "cell_type": "markdown",
      "metadata": {
        "id": "Bm25Tw566vqG"
      },
      "source": [
        "# **Assignment**\n",
        "\n",
        "## **Assignment 1: Feature Importance & Multicollinearity**\n",
        "Using the cleaned data under `df`, you are expected to:\n",
        "\n",
        "1. Implement a feature importance method different from the ones already experimented with in this case.\n",
        "2. Check for multicollinearity and covariance in the dataset.\n",
        "\n",
        "---\n",
        "\n",
        "## **Assignment 2: Data Distributions & Visualization**\n",
        "1. Work with at least five different types of data distributions.\n",
        "2. Visualize them using synthetic data.\n"
      ]
    },
    {
      "cell_type": "markdown",
      "metadata": {},
      "source": [
        "### Answer\n",
        "due to the fact that runnig SHAP is quite challenging on my PC, I will be using permutation importance instead\n"
      ]
    },
    {
      "cell_type": "code",
      "execution_count": 77,
      "metadata": {},
      "outputs": [
        {
          "name": "stdout",
          "output_type": "stream",
          "text": [
            "        Feature  Importance\n",
            "10        alive    0.478981\n",
            "0        pclass    0.000000\n",
            "2           age    0.000000\n",
            "3         sibsp    0.000000\n",
            "4         parch    0.000000\n",
            "1           sex    0.000000\n",
            "5          fare    0.000000\n",
            "6      embarked    0.000000\n",
            "8    adult_male    0.000000\n",
            "7           who    0.000000\n",
            "9   embark_town    0.000000\n",
            "11        alone    0.000000\n",
            "12     fare_log    0.000000\n",
            "13  fare_boxcox    0.000000\n"
          ]
        }
      ],
      "source": [
        "from sklearn.ensemble import RandomForestClassifier\n",
        "from sklearn.inspection import permutation_importance\n",
        "from sklearn.model_selection import train_test_split\n",
        "\n",
        "# Prepare data (drop non-numeric columns)\n",
        "df_clean = df.dropna()  # Drop missing values\n",
        "X = df_clean.select_dtypes(include=['number']).drop(columns=['survived'])  # Features\n",
        "y = df_clean['survived']  # Target variable\n",
        "\n",
        "# Train a model\n",
        "X_train, X_test, y_train, y_test = train_test_split(X, y, test_size=0.2, random_state=42)\n",
        "model = RandomForestClassifier(n_estimators=100, random_state=42)\n",
        "model.fit(X_train, y_train)\n",
        "\n",
        "# Compute permutation importance\n",
        "perm_importance = permutation_importance(model, X_test, y_test, n_repeats=10, random_state=42)\n",
        "feature_importance_df = pd.DataFrame({'Feature': X.columns, 'Importance': perm_importance.importances_mean})\n",
        "feature_importance_df = feature_importance_df.sort_values(by='Importance', ascending=False)\n",
        "print(feature_importance_df)\n"
      ]
    },
    {
      "cell_type": "code",
      "execution_count": 78,
      "metadata": {},
      "outputs": [
        {
          "name": "stdout",
          "output_type": "stream",
          "text": [
            "        Feature  Importance\n",
            "10        alive    0.629392\n",
            "7           who    0.074729\n",
            "1           sex    0.065884\n",
            "8    adult_male    0.055268\n",
            "0        pclass    0.042678\n",
            "13  fare_boxcox    0.030949\n",
            "12     fare_log    0.026145\n",
            "5          fare    0.024628\n",
            "2           age    0.022537\n",
            "3         sibsp    0.012778\n",
            "4         parch    0.005286\n",
            "6      embarked    0.004501\n",
            "9   embark_town    0.003103\n",
            "11        alone    0.002123\n"
          ]
        }
      ],
      "source": [
        "importances = model.feature_importances_\n",
        "feature_importance_rf = pd.DataFrame({'Feature': X.columns, 'Importance': importances})\n",
        "feature_importance_rf = feature_importance_rf.sort_values(by='Importance', ascending=False)\n",
        "print(feature_importance_rf)\n"
      ]
    },
    {
      "cell_type": "code",
      "execution_count": 79,
      "metadata": {},
      "outputs": [
        {
          "name": "stdout",
          "output_type": "stream",
          "text": [
            "        Feature  Mutual Information\n",
            "10        alive            0.678213\n",
            "7           who            0.138838\n",
            "8    adult_male            0.137062\n",
            "1           sex            0.130560\n",
            "5          fare            0.099758\n",
            "12     fare_log            0.099525\n",
            "13  fare_boxcox            0.091075\n",
            "0        pclass            0.061530\n",
            "2           age            0.034978\n",
            "9   embark_town            0.031430\n",
            "11        alone            0.025600\n",
            "4         parch            0.008565\n",
            "3         sibsp            0.000000\n",
            "6      embarked            0.000000\n"
          ]
        }
      ],
      "source": [
        "from sklearn.feature_selection import mutual_info_classif\n",
        "\n",
        "mi = mutual_info_classif(X, y, discrete_features=False)\n",
        "mi_df = pd.DataFrame({'Feature': X.columns, 'Mutual Information': mi})\n",
        "mi_df = mi_df.sort_values(by='Mutual Information', ascending=False)\n",
        "print(mi_df)\n"
      ]
    },
    {
      "cell_type": "code",
      "execution_count": null,
      "metadata": {},
      "outputs": [],
      "source": []
    }
  ],
  "metadata": {
    "colab": {
      "provenance": []
    },
    "kernelspec": {
      "display_name": ".venv",
      "language": "python",
      "name": "python3"
    },
    "language_info": {
      "codemirror_mode": {
        "name": "ipython",
        "version": 3
      },
      "file_extension": ".py",
      "mimetype": "text/x-python",
      "name": "python",
      "nbconvert_exporter": "python",
      "pygments_lexer": "ipython3",
      "version": "3.12.3"
    }
  },
  "nbformat": 4,
  "nbformat_minor": 0
}
